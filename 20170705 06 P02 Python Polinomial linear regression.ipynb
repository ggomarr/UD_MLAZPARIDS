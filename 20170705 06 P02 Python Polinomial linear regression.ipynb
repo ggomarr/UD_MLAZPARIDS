{
 "cells": [
  {
   "cell_type": "markdown",
   "metadata": {
    "deletable": true,
    "editable": true
   },
   "source": [
    "# Libraries"
   ]
  },
  {
   "cell_type": "code",
   "execution_count": 1,
   "metadata": {
    "collapsed": false,
    "deletable": true,
    "editable": true,
    "scrolled": true
   },
   "outputs": [
    {
     "name": "stderr",
     "output_type": "stream",
     "text": [
      "/home/ggomarr/.local/lib/python3.5/site-packages/sklearn/cross_validation.py:44: DeprecationWarning: This module was deprecated in version 0.18 in favor of the model_selection module into which all the refactored classes and functions are moved. Also note that the interface of the new CV iterators are different from that of this module. This module will be removed in 0.20.\n",
      "  \"This module will be removed in 0.20.\", DeprecationWarning)\n"
     ]
    }
   ],
   "source": [
    "%matplotlib inline\n",
    "import matplotlib.pyplot as plt\n",
    "import pandas as pd\n",
    "import numpy as np\n",
    "import sklearn.preprocessing\n",
    "import sklearn.cross_validation\n",
    "import sklearn.linear_model\n",
    "import statsmodels.formula.api as sm"
   ]
  },
  {
   "cell_type": "markdown",
   "metadata": {
    "deletable": true,
    "editable": true
   },
   "source": [
    "# Read data"
   ]
  },
  {
   "cell_type": "code",
   "execution_count": 2,
   "metadata": {
    "collapsed": true,
    "deletable": true,
    "editable": true
   },
   "outputs": [],
   "source": [
    "work_dir='/home/ggomarr/Documents/Education/20170623 Udemy - Machine Learning A-Z: Hands-On Python and R in Data Science/' + \\\n",
    "         'Course data/Part 2 - Regression/Section 6 - Polynomial Regression/'"
   ]
  },
  {
   "cell_type": "code",
   "execution_count": 6,
   "metadata": {
    "collapsed": false,
    "deletable": true,
    "editable": true
   },
   "outputs": [
    {
     "data": {
      "text/html": [
       "<div>\n",
       "<table border=\"1\" class=\"dataframe\">\n",
       "  <thead>\n",
       "    <tr style=\"text-align: right;\">\n",
       "      <th></th>\n",
       "      <th>Position</th>\n",
       "      <th>Level</th>\n",
       "      <th>Salary</th>\n",
       "    </tr>\n",
       "  </thead>\n",
       "  <tbody>\n",
       "    <tr>\n",
       "      <th>0</th>\n",
       "      <td>Business Analyst</td>\n",
       "      <td>1</td>\n",
       "      <td>45000</td>\n",
       "    </tr>\n",
       "    <tr>\n",
       "      <th>1</th>\n",
       "      <td>Junior Consultant</td>\n",
       "      <td>2</td>\n",
       "      <td>50000</td>\n",
       "    </tr>\n",
       "    <tr>\n",
       "      <th>2</th>\n",
       "      <td>Senior Consultant</td>\n",
       "      <td>3</td>\n",
       "      <td>60000</td>\n",
       "    </tr>\n",
       "    <tr>\n",
       "      <th>3</th>\n",
       "      <td>Manager</td>\n",
       "      <td>4</td>\n",
       "      <td>80000</td>\n",
       "    </tr>\n",
       "    <tr>\n",
       "      <th>4</th>\n",
       "      <td>Country Manager</td>\n",
       "      <td>5</td>\n",
       "      <td>110000</td>\n",
       "    </tr>\n",
       "    <tr>\n",
       "      <th>5</th>\n",
       "      <td>Region Manager</td>\n",
       "      <td>6</td>\n",
       "      <td>150000</td>\n",
       "    </tr>\n",
       "    <tr>\n",
       "      <th>6</th>\n",
       "      <td>Partner</td>\n",
       "      <td>7</td>\n",
       "      <td>200000</td>\n",
       "    </tr>\n",
       "    <tr>\n",
       "      <th>7</th>\n",
       "      <td>Senior Partner</td>\n",
       "      <td>8</td>\n",
       "      <td>300000</td>\n",
       "    </tr>\n",
       "    <tr>\n",
       "      <th>8</th>\n",
       "      <td>C-level</td>\n",
       "      <td>9</td>\n",
       "      <td>500000</td>\n",
       "    </tr>\n",
       "    <tr>\n",
       "      <th>9</th>\n",
       "      <td>CEO</td>\n",
       "      <td>10</td>\n",
       "      <td>1000000</td>\n",
       "    </tr>\n",
       "  </tbody>\n",
       "</table>\n",
       "</div>"
      ],
      "text/plain": [
       "            Position  Level   Salary\n",
       "0   Business Analyst      1    45000\n",
       "1  Junior Consultant      2    50000\n",
       "2  Senior Consultant      3    60000\n",
       "3            Manager      4    80000\n",
       "4    Country Manager      5   110000\n",
       "5     Region Manager      6   150000\n",
       "6            Partner      7   200000\n",
       "7     Senior Partner      8   300000\n",
       "8            C-level      9   500000\n",
       "9                CEO     10  1000000"
      ]
     },
     "execution_count": 6,
     "metadata": {},
     "output_type": "execute_result"
    }
   ],
   "source": [
    "df=pd.read_csv(work_dir+'Position_Salaries.csv')\n",
    "df"
   ]
  },
  {
   "cell_type": "code",
   "execution_count": 5,
   "metadata": {
    "collapsed": false
   },
   "outputs": [
    {
     "data": {
      "text/plain": [
       "<matplotlib.axes._subplots.AxesSubplot at 0x7f8562fcbef0>"
      ]
     },
     "execution_count": 5,
     "metadata": {},
     "output_type": "execute_result"
    },
    {
     "data": {
      "image/png": "[encoded data removed]",
      "text/plain": [
       "<matplotlib.figure.Figure at 0x7f8562fcb588>"
      ]
     },
     "metadata": {},
     "output_type": "display_data"
    }
   ],
   "source": [
    "df['Salary'].plot()"
   ]
  },
  {
   "cell_type": "code",
   "execution_count": 35,
   "metadata": {
    "collapsed": false,
    "deletable": true,
    "editable": true,
    "scrolled": false
   },
   "outputs": [
    {
     "data": {
      "text/plain": [
       "(array([[ 1],\n",
       "        [ 2],\n",
       "        [ 3],\n",
       "        [ 4],\n",
       "        [ 5],\n",
       "        [ 6],\n",
       "        [ 7],\n",
       "        [ 8],\n",
       "        [ 9],\n",
       "        [10]]),\n",
       " array([  45000,   50000,   60000,   80000,  110000,  150000,  200000,\n",
       "         300000,  500000, 1000000]))"
      ]
     },
     "execution_count": 35,
     "metadata": {},
     "output_type": "execute_result"
    }
   ],
   "source": [
    "X=df.as_matrix(['Level'])\n",
    "Y=df['Salary'].values\n",
    "X,Y"
   ]
  },
  {
   "cell_type": "markdown",
   "metadata": {
    "deletable": true,
    "editable": true
   },
   "source": [
    "# Clean up missing data"
   ]
  },
  {
   "cell_type": "code",
   "execution_count": 15,
   "metadata": {
    "collapsed": false,
    "deletable": true,
    "editable": true
   },
   "outputs": [
    {
     "data": {
      "text/plain": [
       "(array([0]), 0)"
      ]
     },
     "execution_count": 15,
     "metadata": {},
     "output_type": "execute_result"
    }
   ],
   "source": [
    "sum(np.isnan(X)),sum(np.isnan(Y))"
   ]
  },
  {
   "cell_type": "code",
   "execution_count": 9,
   "metadata": {
    "collapsed": false,
    "deletable": true,
    "editable": true,
    "scrolled": true
   },
   "outputs": [],
   "source": [
    "# imputer=sklearn.preprocessing.Imputer(missing_values='NaN',strategy='mean',axis=0).fit(X[:,1:3])\n",
    "# X[:,1:3]=imputer.transform(X[:,1:3])\n",
    "# X"
   ]
  },
  {
   "cell_type": "markdown",
   "metadata": {
    "deletable": true,
    "editable": true
   },
   "source": [
    "# Create dummy variables"
   ]
  },
  {
   "cell_type": "code",
   "execution_count": 16,
   "metadata": {
    "collapsed": false,
    "deletable": true,
    "editable": true,
    "scrolled": true
   },
   "outputs": [],
   "source": [
    "# label_encoder=sklearn.preprocessing.LabelEncoder().fit(X[:,3])\n",
    "# X[:,3]=label_encoder.transform(X[:,3])\n",
    "# one_hot_encoder=sklearn.preprocessing.OneHotEncoder(categorical_features=[3]).fit(X)\n",
    "# X=one_hot_encoder.transform(X).toarray()\n",
    "# X"
   ]
  },
  {
   "cell_type": "markdown",
   "metadata": {
    "deletable": true,
    "editable": true
   },
   "source": [
    "# Avoid the dummy variable trap"
   ]
  },
  {
   "cell_type": "code",
   "execution_count": 18,
   "metadata": {
    "collapsed": false,
    "deletable": true,
    "editable": true,
    "scrolled": true
   },
   "outputs": [],
   "source": [
    "# X=X=np.delete(X,0,1)\n",
    "# X"
   ]
  },
  {
   "cell_type": "markdown",
   "metadata": {
    "deletable": true,
    "editable": true
   },
   "source": [
    "# Create categorical labels"
   ]
  },
  {
   "cell_type": "code",
   "execution_count": 11,
   "metadata": {
    "collapsed": false,
    "deletable": true,
    "editable": true,
    "scrolled": true
   },
   "outputs": [],
   "source": [
    "# label_encoder=sklearn.preprocessing.LabelEncoder().fit(Y)\n",
    "# Y=label_encoder.transform(Y)\n",
    "# Y"
   ]
  },
  {
   "cell_type": "markdown",
   "metadata": {
    "deletable": true,
    "editable": true
   },
   "source": [
    "# Feature scaling"
   ]
  },
  {
   "cell_type": "code",
   "execution_count": 14,
   "metadata": {
    "collapsed": false,
    "deletable": true,
    "editable": true
   },
   "outputs": [],
   "source": [
    "# standard_scaler=sklearn.preprocessing.StandardScaler().fit(X)\n",
    "# X=standard_scaler.transform(X)\n",
    "# X"
   ]
  },
  {
   "cell_type": "markdown",
   "metadata": {
    "deletable": true,
    "editable": true
   },
   "source": [
    "# Train/test split"
   ]
  },
  {
   "cell_type": "code",
   "execution_count": 36,
   "metadata": {
    "collapsed": false,
    "deletable": true,
    "editable": true
   },
   "outputs": [],
   "source": [
    "# X_train,X_test,Y_train,Y_test=sklearn.cross_validation.train_test_split(X,Y,test_size=0,random_state=0)\n",
    "# Y_train.size,Y_test.size"
   ]
  },
  {
   "cell_type": "code",
   "execution_count": 37,
   "metadata": {
    "collapsed": false,
    "deletable": true,
    "editable": true,
    "scrolled": true
   },
   "outputs": [],
   "source": [
    "# X_train,Y_train"
   ]
  },
  {
   "cell_type": "code",
   "execution_count": 38,
   "metadata": {
    "collapsed": false,
    "deletable": true,
    "editable": true,
    "scrolled": true
   },
   "outputs": [],
   "source": [
    "# X_test,Y_test"
   ]
  },
  {
   "cell_type": "markdown",
   "metadata": {
    "collapsed": true,
    "deletable": true,
    "editable": true
   },
   "source": [
    "# Regression - sklearn.linear_model.LinearRegression()"
   ]
  },
  {
   "cell_type": "code",
   "execution_count": 39,
   "metadata": {
    "collapsed": false,
    "deletable": true,
    "editable": true
   },
   "outputs": [
    {
     "data": {
      "text/plain": [
       "0.66904123319298947"
      ]
     },
     "execution_count": 39,
     "metadata": {},
     "output_type": "execute_result"
    }
   ],
   "source": [
    "lin_reg=sklearn.linear_model.LinearRegression().fit(X,Y)\n",
    "lin_reg.score(X,Y)"
   ]
  },
  {
   "cell_type": "code",
   "execution_count": 43,
   "metadata": {
    "collapsed": false
   },
   "outputs": [
    {
     "data": {
      "text/plain": [
       "[<matplotlib.lines.Line2D at 0x7f8560b69320>]"
      ]
     },
     "execution_count": 43,
     "metadata": {},
     "output_type": "execute_result"
    },
    {
     "data": {
      "image/png": "[encoded data removed]",
      "text/plain": [
       "<matplotlib.figure.Figure at 0x7f8560b692e8>"
      ]
     },
     "metadata": {},
     "output_type": "display_data"
    }
   ],
   "source": [
    "plt.scatter(X,Y)\n",
    "plt.plot(X,lin_reg.predict(X),color='black')"
   ]
  },
  {
   "cell_type": "markdown",
   "metadata": {},
   "source": [
    "# Regression - statsmodels.formula.api.OLS"
   ]
  },
  {
   "cell_type": "code",
   "execution_count": 47,
   "metadata": {
    "collapsed": true
   },
   "outputs": [],
   "source": [
    "X_ext=np.append(np.ones((X.shape[0],1)),X,1)\n",
    "lin_reg_OLS=sm.OLS(Y,X_ext).fit()"
   ]
  },
  {
   "cell_type": "code",
   "execution_count": 63,
   "metadata": {
    "collapsed": false,
    "scrolled": true
   },
   "outputs": [
    {
     "data": {
      "text/plain": [
       "[<matplotlib.lines.Line2D at 0x7f856027fe10>]"
      ]
     },
     "execution_count": 63,
     "metadata": {},
     "output_type": "execute_result"
    },
    {
     "data": {
      "image/png": "[encoded data removed]",
      "text/plain": [
       "<matplotlib.figure.Figure at 0x7f85608e9940>"
      ]
     },
     "metadata": {},
     "output_type": "display_data"
    }
   ],
   "source": [
    "_,ax1=plt.subplots()\n",
    "ax1.scatter(X,Y)\n",
    "ax1.plot(X,lin_reg_OLS.predict(X_ext),color='black')\n",
    "ax2=ax1.twinx()\n",
    "ax2.plot(X,lin_reg_OLS.resid,color='red')"
   ]
  },
  {
   "cell_type": "markdown",
   "metadata": {},
   "source": [
    "# Polynomial features, degree 2"
   ]
  },
  {
   "cell_type": "markdown",
   "metadata": {
    "deletable": true,
    "editable": true
   },
   "source": [
    "## Polynomial feature creation - sklearn.preprocessing.PolynomialFeatures"
   ]
  },
  {
   "cell_type": "code",
   "execution_count": 91,
   "metadata": {
    "collapsed": false
   },
   "outputs": [
    {
     "data": {
      "text/plain": [
       "PolynomialFeatures(degree=2, include_bias=True, interaction_only=False)"
      ]
     },
     "execution_count": 91,
     "metadata": {},
     "output_type": "execute_result"
    }
   ],
   "source": [
    "polynomizer=sklearn.preprocessing.PolynomialFeatures(2)\n",
    "polynomizer.fit(X)"
   ]
  },
  {
   "cell_type": "code",
   "execution_count": 92,
   "metadata": {
    "collapsed": false
   },
   "outputs": [
    {
     "data": {
      "text/plain": [
       "array([[   1.,    1.,    1.],\n",
       "       [   1.,    2.,    4.],\n",
       "       [   1.,    3.,    9.],\n",
       "       [   1.,    4.,   16.],\n",
       "       [   1.,    5.,   25.],\n",
       "       [   1.,    6.,   36.],\n",
       "       [   1.,    7.,   49.],\n",
       "       [   1.,    8.,   64.],\n",
       "       [   1.,    9.,   81.],\n",
       "       [   1.,   10.,  100.]])"
      ]
     },
     "execution_count": 92,
     "metadata": {},
     "output_type": "execute_result"
    }
   ],
   "source": [
    "X_polynomized=polynomizer.transform(X)\n",
    "X_polynomized"
   ]
  },
  {
   "cell_type": "markdown",
   "metadata": {
    "deletable": true,
    "editable": true
   },
   "source": [
    "## Backward elimination"
   ]
  },
  {
   "cell_type": "code",
   "execution_count": 93,
   "metadata": {
    "collapsed": false,
    "deletable": true,
    "editable": true,
    "scrolled": false
   },
   "outputs": [
    {
     "name": "stdout",
     "output_type": "stream",
     "text": [
      "Removing feature 0 (p 0.085)\n",
      "Removing feature 1 (p 0.095)\n",
      "Next worst feature is 2 (p 0.000). Done removing!\n"
     ]
    },
    {
     "name": "stderr",
     "output_type": "stream",
     "text": [
      "/home/ggomarr/.local/lib/python3.5/site-packages/scipy/stats/stats.py:1334: UserWarning: kurtosistest only valid for n>=20 ... continuing anyway, n=10\n",
      "  \"anyway, n=%i\" % int(n))\n"
     ]
    },
    {
     "data": {
      "text/html": [
       "<table class=\"simpletable\">\n",
       "<caption>OLS Regression Results</caption>\n",
       "<tr>\n",
       "  <th>Dep. Variable:</th>            <td>y</td>        <th>  R-squared:         </th> <td>   0.892</td>\n",
       "</tr>\n",
       "<tr>\n",
       "  <th>Model:</th>                   <td>OLS</td>       <th>  Adj. R-squared:    </th> <td>   0.880</td>\n",
       "</tr>\n",
       "<tr>\n",
       "  <th>Method:</th>             <td>Least Squares</td>  <th>  F-statistic:       </th> <td>   74.41</td>\n",
       "</tr>\n",
       "<tr>\n",
       "  <th>Date:</th>             <td>Wed, 05 Jul 2017</td> <th>  Prob (F-statistic):</th> <td>1.21e-05</td>\n",
       "</tr>\n",
       "<tr>\n",
       "  <th>Time:</th>                 <td>11:08:13</td>     <th>  Log-Likelihood:    </th> <td> -131.48</td>\n",
       "</tr>\n",
       "<tr>\n",
       "  <th>No. Observations:</th>      <td>    10</td>      <th>  AIC:               </th> <td>   265.0</td>\n",
       "</tr>\n",
       "<tr>\n",
       "  <th>Df Residuals:</th>          <td>     9</td>      <th>  BIC:               </th> <td>   265.3</td>\n",
       "</tr>\n",
       "<tr>\n",
       "  <th>Df Model:</th>              <td>     1</td>      <th>                     </th>     <td> </td>   \n",
       "</tr>\n",
       "<tr>\n",
       "  <th>Covariance Type:</th>      <td>nonrobust</td>    <th>                     </th>     <td> </td>   \n",
       "</tr>\n",
       "</table>\n",
       "<table class=\"simpletable\">\n",
       "<tr>\n",
       "   <td></td>     <th>coef</th>     <th>std err</th>      <th>t</th>      <th>P>|t|</th>  <th>[0.025</th>    <th>0.975]</th>  \n",
       "</tr>\n",
       "<tr>\n",
       "  <th>x1</th> <td> 7094.1065</td> <td>  822.410</td> <td>    8.626</td> <td> 0.000</td> <td> 5233.686</td> <td> 8954.527</td>\n",
       "</tr>\n",
       "</table>\n",
       "<table class=\"simpletable\">\n",
       "<tr>\n",
       "  <th>Omnibus:</th>       <td>10.760</td> <th>  Durbin-Watson:     </th> <td>   0.946</td>\n",
       "</tr>\n",
       "<tr>\n",
       "  <th>Prob(Omnibus):</th> <td> 0.005</td> <th>  Jarque-Bera (JB):  </th> <td>   4.738</td>\n",
       "</tr>\n",
       "<tr>\n",
       "  <th>Skew:</th>          <td> 1.461</td> <th>  Prob(JB):          </th> <td>  0.0936</td>\n",
       "</tr>\n",
       "<tr>\n",
       "  <th>Kurtosis:</th>      <td> 4.684</td> <th>  Cond. No.          </th> <td>    1.00</td>\n",
       "</tr>\n",
       "</table>"
      ],
      "text/plain": [
       "<class 'statsmodels.iolib.summary.Summary'>\n",
       "\"\"\"\n",
       "                            OLS Regression Results                            \n",
       "==============================================================================\n",
       "Dep. Variable:                      y   R-squared:                       0.892\n",
       "Model:                            OLS   Adj. R-squared:                  0.880\n",
       "Method:                 Least Squares   F-statistic:                     74.41\n",
       "Date:                Wed, 05 Jul 2017   Prob (F-statistic):           1.21e-05\n",
       "Time:                        11:08:13   Log-Likelihood:                -131.48\n",
       "No. Observations:                  10   AIC:                             265.0\n",
       "Df Residuals:                       9   BIC:                             265.3\n",
       "Df Model:                           1                                         \n",
       "Covariance Type:            nonrobust                                         \n",
       "==============================================================================\n",
       "                 coef    std err          t      P>|t|      [0.025      0.975]\n",
       "------------------------------------------------------------------------------\n",
       "x1          7094.1065    822.410      8.626      0.000    5233.686    8954.527\n",
       "==============================================================================\n",
       "Omnibus:                       10.760   Durbin-Watson:                   0.946\n",
       "Prob(Omnibus):                  0.005   Jarque-Bera (JB):                4.738\n",
       "Skew:                           1.461   Prob(JB):                       0.0936\n",
       "Kurtosis:                       4.684   Cond. No.                         1.00\n",
       "==============================================================================\n",
       "\n",
       "Warnings:\n",
       "[1] Standard Errors assume that the covariance matrix of the errors is correctly specified.\n",
       "\"\"\""
      ]
     },
     "execution_count": 93,
     "metadata": {},
     "output_type": "execute_result"
    }
   ],
   "source": [
    "p_limit=0.05\n",
    "be_feat=list(range(X_polynomized.shape[1]))\n",
    "done=False\n",
    "while not done:\n",
    "    be_mult_reg_OLS=sm.OLS(Y,X_polynomized[:,be_feat]).fit()\n",
    "    p_max=max(be_mult_reg_OLS.pvalues)\n",
    "    if p_max>p_limit:\n",
    "        p_max_pos=np.argmax(be_mult_reg_OLS.pvalues)\n",
    "        print('Removing feature {} (p {:.3f})'.format(be_feat[p_max_pos],p_max))\n",
    "        be_feat=be_feat[:p_max_pos]+be_feat[p_max_pos+1:]\n",
    "    else:\n",
    "        print('Next worst feature is {} (p {:.3f}). Done removing!'.format(be_feat[p_max_pos],p_max))\n",
    "        done=True\n",
    "be_mult_reg_OLS.summary()"
   ]
  },
  {
   "cell_type": "markdown",
   "metadata": {
    "deletable": true,
    "editable": true
   },
   "source": [
    "## Forward selection"
   ]
  },
  {
   "cell_type": "code",
   "execution_count": 94,
   "metadata": {
    "collapsed": false,
    "deletable": true,
    "editable": true,
    "scrolled": false
   },
   "outputs": [
    {
     "name": "stdout",
     "output_type": "stream",
     "text": [
      "Adding feature 2 (p 0.000)\n",
      "Next best feature is 1 (p 0.095). Done adding!\n"
     ]
    },
    {
     "name": "stderr",
     "output_type": "stream",
     "text": [
      "/home/ggomarr/.local/lib/python3.5/site-packages/scipy/stats/stats.py:1334: UserWarning: kurtosistest only valid for n>=20 ... continuing anyway, n=10\n",
      "  \"anyway, n=%i\" % int(n))\n"
     ]
    },
    {
     "data": {
      "text/html": [
       "<table class=\"simpletable\">\n",
       "<caption>OLS Regression Results</caption>\n",
       "<tr>\n",
       "  <th>Dep. Variable:</th>            <td>y</td>        <th>  R-squared:         </th> <td>   0.892</td>\n",
       "</tr>\n",
       "<tr>\n",
       "  <th>Model:</th>                   <td>OLS</td>       <th>  Adj. R-squared:    </th> <td>   0.880</td>\n",
       "</tr>\n",
       "<tr>\n",
       "  <th>Method:</th>             <td>Least Squares</td>  <th>  F-statistic:       </th> <td>   74.41</td>\n",
       "</tr>\n",
       "<tr>\n",
       "  <th>Date:</th>             <td>Wed, 05 Jul 2017</td> <th>  Prob (F-statistic):</th> <td>1.21e-05</td>\n",
       "</tr>\n",
       "<tr>\n",
       "  <th>Time:</th>                 <td>11:08:23</td>     <th>  Log-Likelihood:    </th> <td> -131.48</td>\n",
       "</tr>\n",
       "<tr>\n",
       "  <th>No. Observations:</th>      <td>    10</td>      <th>  AIC:               </th> <td>   265.0</td>\n",
       "</tr>\n",
       "<tr>\n",
       "  <th>Df Residuals:</th>          <td>     9</td>      <th>  BIC:               </th> <td>   265.3</td>\n",
       "</tr>\n",
       "<tr>\n",
       "  <th>Df Model:</th>              <td>     1</td>      <th>                     </th>     <td> </td>   \n",
       "</tr>\n",
       "<tr>\n",
       "  <th>Covariance Type:</th>      <td>nonrobust</td>    <th>                     </th>     <td> </td>   \n",
       "</tr>\n",
       "</table>\n",
       "<table class=\"simpletable\">\n",
       "<tr>\n",
       "   <td></td>     <th>coef</th>     <th>std err</th>      <th>t</th>      <th>P>|t|</th>  <th>[0.025</th>    <th>0.975]</th>  \n",
       "</tr>\n",
       "<tr>\n",
       "  <th>x1</th> <td> 7094.1065</td> <td>  822.410</td> <td>    8.626</td> <td> 0.000</td> <td> 5233.686</td> <td> 8954.527</td>\n",
       "</tr>\n",
       "</table>\n",
       "<table class=\"simpletable\">\n",
       "<tr>\n",
       "  <th>Omnibus:</th>       <td>10.760</td> <th>  Durbin-Watson:     </th> <td>   0.946</td>\n",
       "</tr>\n",
       "<tr>\n",
       "  <th>Prob(Omnibus):</th> <td> 0.005</td> <th>  Jarque-Bera (JB):  </th> <td>   4.738</td>\n",
       "</tr>\n",
       "<tr>\n",
       "  <th>Skew:</th>          <td> 1.461</td> <th>  Prob(JB):          </th> <td>  0.0936</td>\n",
       "</tr>\n",
       "<tr>\n",
       "  <th>Kurtosis:</th>      <td> 4.684</td> <th>  Cond. No.          </th> <td>    1.00</td>\n",
       "</tr>\n",
       "</table>"
      ],
      "text/plain": [
       "<class 'statsmodels.iolib.summary.Summary'>\n",
       "\"\"\"\n",
       "                            OLS Regression Results                            \n",
       "==============================================================================\n",
       "Dep. Variable:                      y   R-squared:                       0.892\n",
       "Model:                            OLS   Adj. R-squared:                  0.880\n",
       "Method:                 Least Squares   F-statistic:                     74.41\n",
       "Date:                Wed, 05 Jul 2017   Prob (F-statistic):           1.21e-05\n",
       "Time:                        11:08:23   Log-Likelihood:                -131.48\n",
       "No. Observations:                  10   AIC:                             265.0\n",
       "Df Residuals:                       9   BIC:                             265.3\n",
       "Df Model:                           1                                         \n",
       "Covariance Type:            nonrobust                                         \n",
       "==============================================================================\n",
       "                 coef    std err          t      P>|t|      [0.025      0.975]\n",
       "------------------------------------------------------------------------------\n",
       "x1          7094.1065    822.410      8.626      0.000    5233.686    8954.527\n",
       "==============================================================================\n",
       "Omnibus:                       10.760   Durbin-Watson:                   0.946\n",
       "Prob(Omnibus):                  0.005   Jarque-Bera (JB):                4.738\n",
       "Skew:                           1.461   Prob(JB):                       0.0936\n",
       "Kurtosis:                       4.684   Cond. No.                         1.00\n",
       "==============================================================================\n",
       "\n",
       "Warnings:\n",
       "[1] Standard Errors assume that the covariance matrix of the errors is correctly specified.\n",
       "\"\"\""
      ]
     },
     "execution_count": 94,
     "metadata": {},
     "output_type": "execute_result"
    }
   ],
   "source": [
    "p_limit=0.05\n",
    "fs_feat=[]\n",
    "candidates=list(range(X_polynomized.shape[1]))\n",
    "done=False\n",
    "while not done and len(candidates)>0:\n",
    "    aux_OLS_lst=[sm.OLS(Y,X_polynomized[:,fs_feat+[candidate]]).fit() for candidate in candidates]\n",
    "    p_vals=[aux_OLS.pvalues[-1] for aux_OLS in aux_OLS_lst]\n",
    "    p_min=min(p_vals)\n",
    "    p_min_pos=np.argmin(p_vals)\n",
    "    if p_min<p_limit:\n",
    "        print('Adding feature {} (p {:.3f})'.format(candidates[p_min_pos],p_min))\n",
    "        fs_feat.append(candidates[p_min_pos])\n",
    "        candidates=candidates[:p_min_pos]+candidates[p_min_pos+1:]\n",
    "        fs_mult_reg_OLS=aux_OLS_lst[p_min_pos]\n",
    "    else:\n",
    "        print('Next best feature is {} (p {:.3f}). Done adding!'.format(candidates[p_min_pos],p_min))\n",
    "        done=True\n",
    "fs_mult_reg_OLS.summary()"
   ]
  },
  {
   "cell_type": "markdown",
   "metadata": {
    "deletable": true,
    "editable": true
   },
   "source": [
    "## Checking models"
   ]
  },
  {
   "cell_type": "code",
   "execution_count": 105,
   "metadata": {
    "collapsed": false
   },
   "outputs": [
    {
     "data": {
      "text/plain": [
       "True"
      ]
     },
     "execution_count": 105,
     "metadata": {},
     "output_type": "execute_result"
    }
   ],
   "source": [
    "be_feat==fs_feat"
   ]
  },
  {
   "cell_type": "code",
   "execution_count": 106,
   "metadata": {
    "collapsed": false,
    "scrolled": true
   },
   "outputs": [
    {
     "data": {
      "text/plain": [
       "[<matplotlib.lines.Line2D at 0x7f855fec97b8>]"
      ]
     },
     "execution_count": 106,
     "metadata": {},
     "output_type": "execute_result"
    },
    {
     "data": {
      "image/png": "[encoded data removed]",
      "text/plain": [
       "<matplotlib.figure.Figure at 0x7f855ff62b00>"
      ]
     },
     "metadata": {},
     "output_type": "display_data"
    }
   ],
   "source": [
    "reg_OLS=sm.OLS(Y,X_polynomized[:,be_feat]).fit()\n",
    "_,ax1=plt.subplots()\n",
    "ax1.scatter(X,Y)\n",
    "ax1.plot(X,reg_OLS.predict(X_polynomized[:,be_feat]),color='black')\n",
    "ax2=ax1.twinx()\n",
    "ax2.plot(X,reg_OLS.resid,color='red')"
   ]
  },
  {
   "cell_type": "markdown",
   "metadata": {
    "deletable": true,
    "editable": true
   },
   "source": [
    "# Polynomial features, degree 3"
   ]
  },
  {
   "cell_type": "markdown",
   "metadata": {
    "deletable": true,
    "editable": true
   },
   "source": [
    "## Polynomial feature creation - sklearn.preprocessing.PolynomialFeatures"
   ]
  },
  {
   "cell_type": "code",
   "execution_count": 134,
   "metadata": {
    "collapsed": false,
    "deletable": true,
    "editable": true
   },
   "outputs": [],
   "source": [
    "polynomizer=sklearn.preprocessing.PolynomialFeatures(3)\n",
    "polynomizer.fit(X)\n",
    "X_polynomized=polynomizer.transform(X)"
   ]
  },
  {
   "cell_type": "markdown",
   "metadata": {
    "deletable": true,
    "editable": true
   },
   "source": [
    "## Backward elimination"
   ]
  },
  {
   "cell_type": "code",
   "execution_count": 118,
   "metadata": {
    "collapsed": false,
    "deletable": true,
    "editable": true,
    "scrolled": false
   },
   "outputs": [
    {
     "name": "stdout",
     "output_type": "stream",
     "text": [
      "Removing feature 0 (p 0.260)\n",
      "Next worst feature is 1 (p 0.009). Done removing!\n"
     ]
    },
    {
     "name": "stderr",
     "output_type": "stream",
     "text": [
      "/home/ggomarr/.local/lib/python3.5/site-packages/scipy/stats/stats.py:1334: UserWarning: kurtosistest only valid for n>=20 ... continuing anyway, n=10\n",
      "  \"anyway, n=%i\" % int(n))\n"
     ]
    },
    {
     "data": {
      "text/html": [
       "<table class=\"simpletable\">\n",
       "<caption>OLS Regression Results</caption>\n",
       "<tr>\n",
       "  <th>Dep. Variable:</th>            <td>y</td>        <th>  R-squared:         </th> <td>   0.987</td>\n",
       "</tr>\n",
       "<tr>\n",
       "  <th>Model:</th>                   <td>OLS</td>       <th>  Adj. R-squared:    </th> <td>   0.981</td>\n",
       "</tr>\n",
       "<tr>\n",
       "  <th>Method:</th>             <td>Least Squares</td>  <th>  F-statistic:       </th> <td>   172.6</td>\n",
       "</tr>\n",
       "<tr>\n",
       "  <th>Date:</th>             <td>Wed, 05 Jul 2017</td> <th>  Prob (F-statistic):</th> <td>6.35e-07</td>\n",
       "</tr>\n",
       "<tr>\n",
       "  <th>Time:</th>                 <td>11:19:48</td>     <th>  Log-Likelihood:    </th> <td> -121.03</td>\n",
       "</tr>\n",
       "<tr>\n",
       "  <th>No. Observations:</th>      <td>    10</td>      <th>  AIC:               </th> <td>   248.1</td>\n",
       "</tr>\n",
       "<tr>\n",
       "  <th>Df Residuals:</th>          <td>     7</td>      <th>  BIC:               </th> <td>   249.0</td>\n",
       "</tr>\n",
       "<tr>\n",
       "  <th>Df Model:</th>              <td>     3</td>      <th>                     </th>     <td> </td>   \n",
       "</tr>\n",
       "<tr>\n",
       "  <th>Covariance Type:</th>      <td>nonrobust</td>    <th>                     </th>     <td> </td>   \n",
       "</tr>\n",
       "</table>\n",
       "<table class=\"simpletable\">\n",
       "<tr>\n",
       "   <td></td>     <th>coef</th>     <th>std err</th>      <th>t</th>      <th>P>|t|</th>  <th>[0.025</th>    <th>0.975]</th>  \n",
       "</tr>\n",
       "<tr>\n",
       "  <th>x1</th> <td> 9.566e+04</td> <td>  2.7e+04</td> <td>    3.545</td> <td> 0.009</td> <td> 3.18e+04</td> <td> 1.59e+05</td>\n",
       "</tr>\n",
       "<tr>\n",
       "  <th>x2</th> <td>-3.244e+04</td> <td> 8028.003</td> <td>   -4.041</td> <td> 0.005</td> <td>-5.14e+04</td> <td>-1.35e+04</td>\n",
       "</tr>\n",
       "<tr>\n",
       "  <th>x3</th> <td> 3225.2580</td> <td>  569.062</td> <td>    5.668</td> <td> 0.001</td> <td> 1879.639</td> <td> 4570.877</td>\n",
       "</tr>\n",
       "</table>\n",
       "<table class=\"simpletable\">\n",
       "<tr>\n",
       "  <th>Omnibus:</th>       <td> 0.225</td> <th>  Durbin-Watson:     </th> <td>   1.571</td>\n",
       "</tr>\n",
       "<tr>\n",
       "  <th>Prob(Omnibus):</th> <td> 0.894</td> <th>  Jarque-Bera (JB):  </th> <td>   0.390</td>\n",
       "</tr>\n",
       "<tr>\n",
       "  <th>Skew:</th>          <td>-0.167</td> <th>  Prob(JB):          </th> <td>   0.823</td>\n",
       "</tr>\n",
       "<tr>\n",
       "  <th>Kurtosis:</th>      <td> 2.093</td> <th>  Cond. No.          </th> <td>    762.</td>\n",
       "</tr>\n",
       "</table>"
      ],
      "text/plain": [
       "<class 'statsmodels.iolib.summary.Summary'>\n",
       "\"\"\"\n",
       "                            OLS Regression Results                            \n",
       "==============================================================================\n",
       "Dep. Variable:                      y   R-squared:                       0.987\n",
       "Model:                            OLS   Adj. R-squared:                  0.981\n",
       "Method:                 Least Squares   F-statistic:                     172.6\n",
       "Date:                Wed, 05 Jul 2017   Prob (F-statistic):           6.35e-07\n",
       "Time:                        11:19:48   Log-Likelihood:                -121.03\n",
       "No. Observations:                  10   AIC:                             248.1\n",
       "Df Residuals:                       7   BIC:                             249.0\n",
       "Df Model:                           3                                         \n",
       "Covariance Type:            nonrobust                                         \n",
       "==============================================================================\n",
       "                 coef    std err          t      P>|t|      [0.025      0.975]\n",
       "------------------------------------------------------------------------------\n",
       "x1          9.566e+04    2.7e+04      3.545      0.009    3.18e+04    1.59e+05\n",
       "x2         -3.244e+04   8028.003     -4.041      0.005   -5.14e+04   -1.35e+04\n",
       "x3          3225.2580    569.062      5.668      0.001    1879.639    4570.877\n",
       "==============================================================================\n",
       "Omnibus:                        0.225   Durbin-Watson:                   1.571\n",
       "Prob(Omnibus):                  0.894   Jarque-Bera (JB):                0.390\n",
       "Skew:                          -0.167   Prob(JB):                        0.823\n",
       "Kurtosis:                       2.093   Cond. No.                         762.\n",
       "==============================================================================\n",
       "\n",
       "Warnings:\n",
       "[1] Standard Errors assume that the covariance matrix of the errors is correctly specified.\n",
       "\"\"\""
      ]
     },
     "execution_count": 118,
     "metadata": {},
     "output_type": "execute_result"
    }
   ],
   "source": [
    "p_limit=0.05\n",
    "be_feat=list(range(X_polynomized.shape[1]))\n",
    "done=False\n",
    "while not done:\n",
    "    be_mult_reg_OLS=sm.OLS(Y,X_polynomized[:,be_feat]).fit()\n",
    "    p_max=max(be_mult_reg_OLS.pvalues)\n",
    "    if p_max>p_limit:\n",
    "        p_max_pos=np.argmax(be_mult_reg_OLS.pvalues)\n",
    "        print('Removing feature {} (p {:.3f})'.format(be_feat[p_max_pos],p_max))\n",
    "        be_feat=be_feat[:p_max_pos]+be_feat[p_max_pos+1:]\n",
    "    else:\n",
    "        print('Next worst feature is {} (p {:.3f}). Done removing!'.format(be_feat[p_max_pos],p_max))\n",
    "        done=True\n",
    "be_mult_reg_OLS.summary()"
   ]
  },
  {
   "cell_type": "markdown",
   "metadata": {
    "deletable": true,
    "editable": true
   },
   "source": [
    "## Forward selection"
   ]
  },
  {
   "cell_type": "code",
   "execution_count": 119,
   "metadata": {
    "collapsed": false,
    "deletable": true,
    "editable": true,
    "scrolled": false
   },
   "outputs": [
    {
     "name": "stdout",
     "output_type": "stream",
     "text": [
      "Adding feature 3 (p 0.000)\n",
      "Next best feature is 2 (p 0.156). Done adding!\n"
     ]
    },
    {
     "name": "stderr",
     "output_type": "stream",
     "text": [
      "/home/ggomarr/.local/lib/python3.5/site-packages/scipy/stats/stats.py:1334: UserWarning: kurtosistest only valid for n>=20 ... continuing anyway, n=10\n",
      "  \"anyway, n=%i\" % int(n))\n"
     ]
    },
    {
     "data": {
      "text/html": [
       "<table class=\"simpletable\">\n",
       "<caption>OLS Regression Results</caption>\n",
       "<tr>\n",
       "  <th>Dep. Variable:</th>            <td>y</td>        <th>  R-squared:         </th> <td>   0.951</td>\n",
       "</tr>\n",
       "<tr>\n",
       "  <th>Model:</th>                   <td>OLS</td>       <th>  Adj. R-squared:    </th> <td>   0.946</td>\n",
       "</tr>\n",
       "<tr>\n",
       "  <th>Method:</th>             <td>Least Squares</td>  <th>  F-statistic:       </th> <td>   175.8</td>\n",
       "</tr>\n",
       "<tr>\n",
       "  <th>Date:</th>             <td>Wed, 05 Jul 2017</td> <th>  Prob (F-statistic):</th> <td>3.27e-07</td>\n",
       "</tr>\n",
       "<tr>\n",
       "  <th>Time:</th>                 <td>11:19:53</td>     <th>  Log-Likelihood:    </th> <td> -127.51</td>\n",
       "</tr>\n",
       "<tr>\n",
       "  <th>No. Observations:</th>      <td>    10</td>      <th>  AIC:               </th> <td>   257.0</td>\n",
       "</tr>\n",
       "<tr>\n",
       "  <th>Df Residuals:</th>          <td>     9</td>      <th>  BIC:               </th> <td>   257.3</td>\n",
       "</tr>\n",
       "<tr>\n",
       "  <th>Df Model:</th>              <td>     1</td>      <th>                     </th>     <td> </td>   \n",
       "</tr>\n",
       "<tr>\n",
       "  <th>Covariance Type:</th>      <td>nonrobust</td>    <th>                     </th>     <td> </td>   \n",
       "</tr>\n",
       "</table>\n",
       "<table class=\"simpletable\">\n",
       "<tr>\n",
       "   <td></td>     <th>coef</th>     <th>std err</th>      <th>t</th>      <th>P>|t|</th>  <th>[0.025</th>    <th>0.975]</th>  \n",
       "</tr>\n",
       "<tr>\n",
       "  <th>x1</th> <td>  828.9683</td> <td>   62.516</td> <td>   13.260</td> <td> 0.000</td> <td>  687.548</td> <td>  970.388</td>\n",
       "</tr>\n",
       "</table>\n",
       "<table class=\"simpletable\">\n",
       "<tr>\n",
       "  <th>Omnibus:</th>       <td> 0.528</td> <th>  Durbin-Watson:     </th> <td>   1.189</td>\n",
       "</tr>\n",
       "<tr>\n",
       "  <th>Prob(Omnibus):</th> <td> 0.768</td> <th>  Jarque-Bera (JB):  </th> <td>   0.215</td>\n",
       "</tr>\n",
       "<tr>\n",
       "  <th>Skew:</th>          <td> 0.314</td> <th>  Prob(JB):          </th> <td>   0.898</td>\n",
       "</tr>\n",
       "<tr>\n",
       "  <th>Kurtosis:</th>      <td> 2.652</td> <th>  Cond. No.          </th> <td>    1.00</td>\n",
       "</tr>\n",
       "</table>"
      ],
      "text/plain": [
       "<class 'statsmodels.iolib.summary.Summary'>\n",
       "\"\"\"\n",
       "                            OLS Regression Results                            \n",
       "==============================================================================\n",
       "Dep. Variable:                      y   R-squared:                       0.951\n",
       "Model:                            OLS   Adj. R-squared:                  0.946\n",
       "Method:                 Least Squares   F-statistic:                     175.8\n",
       "Date:                Wed, 05 Jul 2017   Prob (F-statistic):           3.27e-07\n",
       "Time:                        11:19:53   Log-Likelihood:                -127.51\n",
       "No. Observations:                  10   AIC:                             257.0\n",
       "Df Residuals:                       9   BIC:                             257.3\n",
       "Df Model:                           1                                         \n",
       "Covariance Type:            nonrobust                                         \n",
       "==============================================================================\n",
       "                 coef    std err          t      P>|t|      [0.025      0.975]\n",
       "------------------------------------------------------------------------------\n",
       "x1           828.9683     62.516     13.260      0.000     687.548     970.388\n",
       "==============================================================================\n",
       "Omnibus:                        0.528   Durbin-Watson:                   1.189\n",
       "Prob(Omnibus):                  0.768   Jarque-Bera (JB):                0.215\n",
       "Skew:                           0.314   Prob(JB):                        0.898\n",
       "Kurtosis:                       2.652   Cond. No.                         1.00\n",
       "==============================================================================\n",
       "\n",
       "Warnings:\n",
       "[1] Standard Errors assume that the covariance matrix of the errors is correctly specified.\n",
       "\"\"\""
      ]
     },
     "execution_count": 119,
     "metadata": {},
     "output_type": "execute_result"
    }
   ],
   "source": [
    "p_limit=0.05\n",
    "fs_feat=[]\n",
    "candidates=list(range(X_polynomized.shape[1]))\n",
    "done=False\n",
    "while not done and len(candidates)>0:\n",
    "    aux_OLS_lst=[sm.OLS(Y,X_polynomized[:,fs_feat+[candidate]]).fit() for candidate in candidates]\n",
    "    p_vals=[aux_OLS.pvalues[-1] for aux_OLS in aux_OLS_lst]\n",
    "    p_min=min(p_vals)\n",
    "    p_min_pos=np.argmin(p_vals)\n",
    "    if p_min<p_limit:\n",
    "        print('Adding feature {} (p {:.3f})'.format(candidates[p_min_pos],p_min))\n",
    "        fs_feat.append(candidates[p_min_pos])\n",
    "        candidates=candidates[:p_min_pos]+candidates[p_min_pos+1:]\n",
    "        fs_mult_reg_OLS=aux_OLS_lst[p_min_pos]\n",
    "    else:\n",
    "        print('Next best feature is {} (p {:.3f}). Done adding!'.format(candidates[p_min_pos],p_min))\n",
    "        done=True\n",
    "fs_mult_reg_OLS.summary()"
   ]
  },
  {
   "cell_type": "markdown",
   "metadata": {
    "deletable": true,
    "editable": true
   },
   "source": [
    "## Checking models"
   ]
  },
  {
   "cell_type": "code",
   "execution_count": 120,
   "metadata": {
    "collapsed": false,
    "deletable": true,
    "editable": true
   },
   "outputs": [
    {
     "data": {
      "text/plain": [
       "False"
      ]
     },
     "execution_count": 120,
     "metadata": {},
     "output_type": "execute_result"
    }
   ],
   "source": [
    "be_feat==fs_feat"
   ]
  },
  {
   "cell_type": "code",
   "execution_count": 121,
   "metadata": {
    "collapsed": false,
    "deletable": true,
    "editable": true,
    "scrolled": true
   },
   "outputs": [
    {
     "data": {
      "text/plain": [
       "[<matplotlib.lines.Line2D at 0x7f855ffc81d0>]"
      ]
     },
     "execution_count": 121,
     "metadata": {},
     "output_type": "execute_result"
    },
    {
     "data": {
      "image/png": "[encoded data removed]",
      "text/plain": [
       "<matplotlib.figure.Figure at 0x7f855fbb4be0>"
      ]
     },
     "metadata": {},
     "output_type": "display_data"
    }
   ],
   "source": [
    "be_reg_OLS=sm.OLS(Y,X_polynomized[:,be_feat]).fit()\n",
    "_,ax1=plt.subplots()\n",
    "ax1.scatter(X,Y)\n",
    "ax1.plot(X,be_reg_OLS.predict(X_polynomized[:,be_feat]),color='black')\n",
    "ax2=ax1.twinx()\n",
    "ax2.plot(X,be_reg_OLS.resid,color='red')"
   ]
  },
  {
   "cell_type": "code",
   "execution_count": 122,
   "metadata": {
    "collapsed": false,
    "scrolled": false
   },
   "outputs": [
    {
     "data": {
      "text/plain": [
       "[<matplotlib.lines.Line2D at 0x7f855faf55f8>]"
      ]
     },
     "execution_count": 122,
     "metadata": {},
     "output_type": "execute_result"
    },
    {
     "data": {
      "image/png": "[encoded data removed]",
      "text/plain": [
       "<matplotlib.figure.Figure at 0x7f855fe5e9e8>"
      ]
     },
     "metadata": {},
     "output_type": "display_data"
    }
   ],
   "source": [
    "fs_reg_OLS=sm.OLS(Y,X_polynomized[:,fs_feat]).fit()\n",
    "_,ax1=plt.subplots()\n",
    "ax1.scatter(X,Y)\n",
    "ax1.plot(X,fs_reg_OLS.predict(X_polynomized[:,fs_feat]),color='black')\n",
    "ax2=ax1.twinx()\n",
    "ax2.plot(X,fs_reg_OLS.resid,color='red')"
   ]
  },
  {
   "cell_type": "markdown",
   "metadata": {
    "deletable": true,
    "editable": true
   },
   "source": [
    "# Polynomial features, degree 4"
   ]
  },
  {
   "cell_type": "markdown",
   "metadata": {
    "deletable": true,
    "editable": true
   },
   "source": [
    "## Polynomial feature creation - sklearn.preprocessing.PolynomialFeatures"
   ]
  },
  {
   "cell_type": "code",
   "execution_count": 133,
   "metadata": {
    "collapsed": false,
    "deletable": true,
    "editable": true
   },
   "outputs": [],
   "source": [
    "polynomizer=sklearn.preprocessing.PolynomialFeatures(4)\n",
    "polynomizer.fit(X)\n",
    "X_polynomized=polynomizer.transform(X)"
   ]
  },
  {
   "cell_type": "markdown",
   "metadata": {
    "deletable": true,
    "editable": true
   },
   "source": [
    "## Backward elimination"
   ]
  },
  {
   "cell_type": "code",
   "execution_count": 125,
   "metadata": {
    "collapsed": false,
    "deletable": true,
    "editable": true,
    "scrolled": false
   },
   "outputs": [
    {
     "name": "stdout",
     "output_type": "stream",
     "text": [
      "Next worst feature is 0 (p 0.042). Done removing!\n"
     ]
    },
    {
     "name": "stderr",
     "output_type": "stream",
     "text": [
      "/home/ggomarr/.local/lib/python3.5/site-packages/scipy/stats/stats.py:1334: UserWarning: kurtosistest only valid for n>=20 ... continuing anyway, n=10\n",
      "  \"anyway, n=%i\" % int(n))\n"
     ]
    },
    {
     "data": {
      "text/html": [
       "<table class=\"simpletable\">\n",
       "<caption>OLS Regression Results</caption>\n",
       "<tr>\n",
       "  <th>Dep. Variable:</th>            <td>y</td>        <th>  R-squared:         </th> <td>   0.997</td>\n",
       "</tr>\n",
       "<tr>\n",
       "  <th>Model:</th>                   <td>OLS</td>       <th>  Adj. R-squared:    </th> <td>   0.995</td>\n",
       "</tr>\n",
       "<tr>\n",
       "  <th>Method:</th>             <td>Least Squares</td>  <th>  F-statistic:       </th> <td>   478.1</td>\n",
       "</tr>\n",
       "<tr>\n",
       "  <th>Date:</th>             <td>Wed, 05 Jul 2017</td> <th>  Prob (F-statistic):</th> <td>1.21e-06</td>\n",
       "</tr>\n",
       "<tr>\n",
       "  <th>Time:</th>                 <td>11:20:47</td>     <th>  Log-Likelihood:    </th> <td> -110.01</td>\n",
       "</tr>\n",
       "<tr>\n",
       "  <th>No. Observations:</th>      <td>    10</td>      <th>  AIC:               </th> <td>   230.0</td>\n",
       "</tr>\n",
       "<tr>\n",
       "  <th>Df Residuals:</th>          <td>     5</td>      <th>  BIC:               </th> <td>   231.5</td>\n",
       "</tr>\n",
       "<tr>\n",
       "  <th>Df Model:</th>              <td>     4</td>      <th>                     </th>     <td> </td>   \n",
       "</tr>\n",
       "<tr>\n",
       "  <th>Covariance Type:</th>      <td>nonrobust</td>    <th>                     </th>     <td> </td>   \n",
       "</tr>\n",
       "</table>\n",
       "<table class=\"simpletable\">\n",
       "<tr>\n",
       "    <td></td>       <th>coef</th>     <th>std err</th>      <th>t</th>      <th>P>|t|</th>  <th>[0.025</th>    <th>0.975]</th>  \n",
       "</tr>\n",
       "<tr>\n",
       "  <th>const</th> <td> 1.842e+05</td> <td> 6.78e+04</td> <td>    2.718</td> <td> 0.042</td> <td> 9963.382</td> <td> 3.58e+05</td>\n",
       "</tr>\n",
       "<tr>\n",
       "  <th>x1</th>    <td> -2.11e+05</td> <td> 7.64e+04</td> <td>   -2.762</td> <td> 0.040</td> <td>-4.07e+05</td> <td>-1.47e+04</td>\n",
       "</tr>\n",
       "<tr>\n",
       "  <th>x2</th>    <td> 9.477e+04</td> <td> 2.65e+04</td> <td>    3.582</td> <td> 0.016</td> <td> 2.68e+04</td> <td> 1.63e+05</td>\n",
       "</tr>\n",
       "<tr>\n",
       "  <th>x3</th>    <td>-1.546e+04</td> <td> 3534.989</td> <td>   -4.374</td> <td> 0.007</td> <td>-2.46e+04</td> <td>-6376.309</td>\n",
       "</tr>\n",
       "<tr>\n",
       "  <th>x4</th>    <td>  890.1515</td> <td>  159.803</td> <td>    5.570</td> <td> 0.003</td> <td>  479.364</td> <td> 1300.939</td>\n",
       "</tr>\n",
       "</table>\n",
       "<table class=\"simpletable\">\n",
       "<tr>\n",
       "  <th>Omnibus:</th>       <td> 0.950</td> <th>  Durbin-Watson:     </th> <td>   2.281</td>\n",
       "</tr>\n",
       "<tr>\n",
       "  <th>Prob(Omnibus):</th> <td> 0.622</td> <th>  Jarque-Bera (JB):  </th> <td>   0.767</td>\n",
       "</tr>\n",
       "<tr>\n",
       "  <th>Skew:</th>          <td>-0.529</td> <th>  Prob(JB):          </th> <td>   0.681</td>\n",
       "</tr>\n",
       "<tr>\n",
       "  <th>Kurtosis:</th>      <td> 2.149</td> <th>  Cond. No.          </th> <td>6.62e+04</td>\n",
       "</tr>\n",
       "</table>"
      ],
      "text/plain": [
       "<class 'statsmodels.iolib.summary.Summary'>\n",
       "\"\"\"\n",
       "                            OLS Regression Results                            \n",
       "==============================================================================\n",
       "Dep. Variable:                      y   R-squared:                       0.997\n",
       "Model:                            OLS   Adj. R-squared:                  0.995\n",
       "Method:                 Least Squares   F-statistic:                     478.1\n",
       "Date:                Wed, 05 Jul 2017   Prob (F-statistic):           1.21e-06\n",
       "Time:                        11:20:47   Log-Likelihood:                -110.01\n",
       "No. Observations:                  10   AIC:                             230.0\n",
       "Df Residuals:                       5   BIC:                             231.5\n",
       "Df Model:                           4                                         \n",
       "Covariance Type:            nonrobust                                         \n",
       "==============================================================================\n",
       "                 coef    std err          t      P>|t|      [0.025      0.975]\n",
       "------------------------------------------------------------------------------\n",
       "const       1.842e+05   6.78e+04      2.718      0.042    9963.382    3.58e+05\n",
       "x1          -2.11e+05   7.64e+04     -2.762      0.040   -4.07e+05   -1.47e+04\n",
       "x2          9.477e+04   2.65e+04      3.582      0.016    2.68e+04    1.63e+05\n",
       "x3         -1.546e+04   3534.989     -4.374      0.007   -2.46e+04   -6376.309\n",
       "x4           890.1515    159.803      5.570      0.003     479.364    1300.939\n",
       "==============================================================================\n",
       "Omnibus:                        0.950   Durbin-Watson:                   2.281\n",
       "Prob(Omnibus):                  0.622   Jarque-Bera (JB):                0.767\n",
       "Skew:                          -0.529   Prob(JB):                        0.681\n",
       "Kurtosis:                       2.149   Cond. No.                     6.62e+04\n",
       "==============================================================================\n",
       "\n",
       "Warnings:\n",
       "[1] Standard Errors assume that the covariance matrix of the errors is correctly specified.\n",
       "[2] The condition number is large, 6.62e+04. This might indicate that there are\n",
       "strong multicollinearity or other numerical problems.\n",
       "\"\"\""
      ]
     },
     "execution_count": 125,
     "metadata": {},
     "output_type": "execute_result"
    }
   ],
   "source": [
    "p_limit=0.05\n",
    "be_feat=list(range(X_polynomized.shape[1]))\n",
    "done=False\n",
    "while not done:\n",
    "    be_mult_reg_OLS=sm.OLS(Y,X_polynomized[:,be_feat]).fit()\n",
    "    p_max=max(be_mult_reg_OLS.pvalues)\n",
    "    if p_max>p_limit:\n",
    "        p_max_pos=np.argmax(be_mult_reg_OLS.pvalues)\n",
    "        print('Removing feature {} (p {:.3f})'.format(be_feat[p_max_pos],p_max))\n",
    "        be_feat=be_feat[:p_max_pos]+be_feat[p_max_pos+1:]\n",
    "    else:\n",
    "        print('Next worst feature is {} (p {:.3f}). Done removing!'.format(be_feat[p_max_pos],p_max))\n",
    "        done=True\n",
    "be_mult_reg_OLS.summary()"
   ]
  },
  {
   "cell_type": "markdown",
   "metadata": {
    "deletable": true,
    "editable": true
   },
   "source": [
    "## Forward selection"
   ]
  },
  {
   "cell_type": "code",
   "execution_count": 126,
   "metadata": {
    "collapsed": false,
    "deletable": true,
    "editable": true,
    "scrolled": false
   },
   "outputs": [
    {
     "name": "stdout",
     "output_type": "stream",
     "text": [
      "Adding feature 4 (p 0.000)\n",
      "Next best feature is 0 (p 0.265). Done adding!\n"
     ]
    },
    {
     "name": "stderr",
     "output_type": "stream",
     "text": [
      "/home/ggomarr/.local/lib/python3.5/site-packages/scipy/stats/stats.py:1334: UserWarning: kurtosistest only valid for n>=20 ... continuing anyway, n=10\n",
      "  \"anyway, n=%i\" % int(n))\n"
     ]
    },
    {
     "data": {
      "text/html": [
       "<table class=\"simpletable\">\n",
       "<caption>OLS Regression Results</caption>\n",
       "<tr>\n",
       "  <th>Dep. Variable:</th>            <td>y</td>        <th>  R-squared:         </th> <td>   0.974</td>\n",
       "</tr>\n",
       "<tr>\n",
       "  <th>Model:</th>                   <td>OLS</td>       <th>  Adj. R-squared:    </th> <td>   0.971</td>\n",
       "</tr>\n",
       "<tr>\n",
       "  <th>Method:</th>             <td>Least Squares</td>  <th>  F-statistic:       </th> <td>   335.3</td>\n",
       "</tr>\n",
       "<tr>\n",
       "  <th>Date:</th>             <td>Wed, 05 Jul 2017</td> <th>  Prob (F-statistic):</th> <td>1.97e-08</td>\n",
       "</tr>\n",
       "<tr>\n",
       "  <th>Time:</th>                 <td>11:20:48</td>     <th>  Log-Likelihood:    </th> <td> -124.40</td>\n",
       "</tr>\n",
       "<tr>\n",
       "  <th>No. Observations:</th>      <td>    10</td>      <th>  AIC:               </th> <td>   250.8</td>\n",
       "</tr>\n",
       "<tr>\n",
       "  <th>Df Residuals:</th>          <td>     9</td>      <th>  BIC:               </th> <td>   251.1</td>\n",
       "</tr>\n",
       "<tr>\n",
       "  <th>Df Model:</th>              <td>     1</td>      <th>                     </th>     <td> </td>   \n",
       "</tr>\n",
       "<tr>\n",
       "  <th>Covariance Type:</th>      <td>nonrobust</td>    <th>                     </th>     <td> </td>   \n",
       "</tr>\n",
       "</table>\n",
       "<table class=\"simpletable\">\n",
       "<tr>\n",
       "   <td></td>     <th>coef</th>     <th>std err</th>      <th>t</th>      <th>P>|t|</th>  <th>[0.025</th>    <th>0.975]</th>  \n",
       "</tr>\n",
       "<tr>\n",
       "  <th>x1</th> <td>   91.0911</td> <td>    4.975</td> <td>   18.311</td> <td> 0.000</td> <td>   79.838</td> <td>  102.345</td>\n",
       "</tr>\n",
       "</table>\n",
       "<table class=\"simpletable\">\n",
       "<tr>\n",
       "  <th>Omnibus:</th>       <td> 2.797</td> <th>  Durbin-Watson:     </th> <td>   1.111</td>\n",
       "</tr>\n",
       "<tr>\n",
       "  <th>Prob(Omnibus):</th> <td> 0.247</td> <th>  Jarque-Bera (JB):  </th> <td>   1.613</td>\n",
       "</tr>\n",
       "<tr>\n",
       "  <th>Skew:</th>          <td>-0.952</td> <th>  Prob(JB):          </th> <td>   0.447</td>\n",
       "</tr>\n",
       "<tr>\n",
       "  <th>Kurtosis:</th>      <td> 2.507</td> <th>  Cond. No.          </th> <td>    1.00</td>\n",
       "</tr>\n",
       "</table>"
      ],
      "text/plain": [
       "<class 'statsmodels.iolib.summary.Summary'>\n",
       "\"\"\"\n",
       "                            OLS Regression Results                            \n",
       "==============================================================================\n",
       "Dep. Variable:                      y   R-squared:                       0.974\n",
       "Model:                            OLS   Adj. R-squared:                  0.971\n",
       "Method:                 Least Squares   F-statistic:                     335.3\n",
       "Date:                Wed, 05 Jul 2017   Prob (F-statistic):           1.97e-08\n",
       "Time:                        11:20:48   Log-Likelihood:                -124.40\n",
       "No. Observations:                  10   AIC:                             250.8\n",
       "Df Residuals:                       9   BIC:                             251.1\n",
       "Df Model:                           1                                         \n",
       "Covariance Type:            nonrobust                                         \n",
       "==============================================================================\n",
       "                 coef    std err          t      P>|t|      [0.025      0.975]\n",
       "------------------------------------------------------------------------------\n",
       "x1            91.0911      4.975     18.311      0.000      79.838     102.345\n",
       "==============================================================================\n",
       "Omnibus:                        2.797   Durbin-Watson:                   1.111\n",
       "Prob(Omnibus):                  0.247   Jarque-Bera (JB):                1.613\n",
       "Skew:                          -0.952   Prob(JB):                        0.447\n",
       "Kurtosis:                       2.507   Cond. No.                         1.00\n",
       "==============================================================================\n",
       "\n",
       "Warnings:\n",
       "[1] Standard Errors assume that the covariance matrix of the errors is correctly specified.\n",
       "\"\"\""
      ]
     },
     "execution_count": 126,
     "metadata": {},
     "output_type": "execute_result"
    }
   ],
   "source": [
    "p_limit=0.05\n",
    "fs_feat=[]\n",
    "candidates=list(range(X_polynomized.shape[1]))\n",
    "done=False\n",
    "while not done and len(candidates)>0:\n",
    "    aux_OLS_lst=[sm.OLS(Y,X_polynomized[:,fs_feat+[candidate]]).fit() for candidate in candidates]\n",
    "    p_vals=[aux_OLS.pvalues[-1] for aux_OLS in aux_OLS_lst]\n",
    "    p_min=min(p_vals)\n",
    "    p_min_pos=np.argmin(p_vals)\n",
    "    if p_min<p_limit:\n",
    "        print('Adding feature {} (p {:.3f})'.format(candidates[p_min_pos],p_min))\n",
    "        fs_feat.append(candidates[p_min_pos])\n",
    "        candidates=candidates[:p_min_pos]+candidates[p_min_pos+1:]\n",
    "        fs_mult_reg_OLS=aux_OLS_lst[p_min_pos]\n",
    "    else:\n",
    "        print('Next best feature is {} (p {:.3f}). Done adding!'.format(candidates[p_min_pos],p_min))\n",
    "        done=True\n",
    "fs_mult_reg_OLS.summary()"
   ]
  },
  {
   "cell_type": "markdown",
   "metadata": {
    "deletable": true,
    "editable": true
   },
   "source": [
    "## Checking models"
   ]
  },
  {
   "cell_type": "code",
   "execution_count": 128,
   "metadata": {
    "collapsed": false,
    "deletable": true,
    "editable": true,
    "scrolled": true
   },
   "outputs": [
    {
     "data": {
      "text/plain": [
       "[<matplotlib.lines.Line2D at 0x7f855f9d9cc0>]"
      ]
     },
     "execution_count": 128,
     "metadata": {},
     "output_type": "execute_result"
    },
    {
     "data": {
      "image/png": "[encoded data removed]",
      "text/plain": [
       "<matplotlib.figure.Figure at 0x7f855fbb4080>"
      ]
     },
     "metadata": {},
     "output_type": "display_data"
    }
   ],
   "source": [
    "be_reg_OLS=sm.OLS(Y,X_polynomized[:,be_feat]).fit()\n",
    "_,ax1=plt.subplots()\n",
    "ax1.scatter(X,Y)\n",
    "ax1.plot(X,be_reg_OLS.predict(X_polynomized[:,be_feat]),color='black')\n",
    "ax2=ax1.twinx()\n",
    "ax2.plot(X,be_reg_OLS.resid,color='red')"
   ]
  },
  {
   "cell_type": "code",
   "execution_count": 129,
   "metadata": {
    "collapsed": false,
    "deletable": true,
    "editable": true,
    "scrolled": true
   },
   "outputs": [
    {
     "data": {
      "text/plain": [
       "[<matplotlib.lines.Line2D at 0x7f855f927dd8>]"
      ]
     },
     "execution_count": 129,
     "metadata": {},
     "output_type": "execute_result"
    },
    {
     "data": {
      "image/png": "[encoded data removed]",
      "text/plain": [
       "<matplotlib.figure.Figure at 0x7f855fb1a358>"
      ]
     },
     "metadata": {},
     "output_type": "display_data"
    }
   ],
   "source": [
    "fs_reg_OLS=sm.OLS(Y,X_polynomized[:,fs_feat]).fit()\n",
    "_,ax1=plt.subplots()\n",
    "ax1.scatter(X,Y)\n",
    "ax1.plot(X,fs_reg_OLS.predict(X_polynomized[:,fs_feat]),color='black')\n",
    "ax2=ax1.twinx()\n",
    "ax2.plot(X,fs_reg_OLS.resid,color='red')"
   ]
  },
  {
   "cell_type": "markdown",
   "metadata": {
    "deletable": true,
    "editable": true
   },
   "source": [
    "# Polynomial features, degree 5"
   ]
  },
  {
   "cell_type": "markdown",
   "metadata": {
    "deletable": true,
    "editable": true
   },
   "source": [
    "## Polynomial feature creation - sklearn.preprocessing.PolynomialFeatures"
   ]
  },
  {
   "cell_type": "code",
   "execution_count": 131,
   "metadata": {
    "collapsed": false,
    "deletable": true,
    "editable": true
   },
   "outputs": [],
   "source": [
    "polynomizer=sklearn.preprocessing.PolynomialFeatures(5)\n",
    "polynomizer.fit(X)\n",
    "X_polynomized=polynomizer.transform(X)"
   ]
  },
  {
   "cell_type": "markdown",
   "metadata": {
    "deletable": true,
    "editable": true
   },
   "source": [
    "## Backward elimination"
   ]
  },
  {
   "cell_type": "code",
   "execution_count": 109,
   "metadata": {
    "collapsed": false,
    "deletable": true,
    "editable": true,
    "scrolled": false
   },
   "outputs": [
    {
     "name": "stdout",
     "output_type": "stream",
     "text": [
      "Removing feature 0 (p 0.349)\n",
      "Next worst feature is 1 (p 0.001). Done removing!\n"
     ]
    },
    {
     "name": "stderr",
     "output_type": "stream",
     "text": [
      "/home/ggomarr/.local/lib/python3.5/site-packages/scipy/stats/stats.py:1334: UserWarning: kurtosistest only valid for n>=20 ... continuing anyway, n=10\n",
      "  \"anyway, n=%i\" % int(n))\n"
     ]
    },
    {
     "data": {
      "text/html": [
       "<table class=\"simpletable\">\n",
       "<caption>OLS Regression Results</caption>\n",
       "<tr>\n",
       "  <th>Dep. Variable:</th>            <td>y</td>        <th>  R-squared:         </th> <td>   1.000</td>\n",
       "</tr>\n",
       "<tr>\n",
       "  <th>Model:</th>                   <td>OLS</td>       <th>  Adj. R-squared:    </th> <td>   1.000</td>\n",
       "</tr>\n",
       "<tr>\n",
       "  <th>Method:</th>             <td>Least Squares</td>  <th>  F-statistic:       </th> <td>   6810.</td>\n",
       "</tr>\n",
       "<tr>\n",
       "  <th>Date:</th>             <td>Wed, 05 Jul 2017</td> <th>  Prob (F-statistic):</th> <td>1.42e-09</td>\n",
       "</tr>\n",
       "<tr>\n",
       "  <th>Time:</th>                 <td>11:16:43</td>     <th>  Log-Likelihood:    </th> <td> -98.486</td>\n",
       "</tr>\n",
       "<tr>\n",
       "  <th>No. Observations:</th>      <td>    10</td>      <th>  AIC:               </th> <td>   207.0</td>\n",
       "</tr>\n",
       "<tr>\n",
       "  <th>Df Residuals:</th>          <td>     5</td>      <th>  BIC:               </th> <td>   208.5</td>\n",
       "</tr>\n",
       "<tr>\n",
       "  <th>Df Model:</th>              <td>     5</td>      <th>                     </th>     <td> </td>   \n",
       "</tr>\n",
       "<tr>\n",
       "  <th>Covariance Type:</th>      <td>nonrobust</td>    <th>                     </th>     <td> </td>   \n",
       "</tr>\n",
       "</table>\n",
       "<table class=\"simpletable\">\n",
       "<tr>\n",
       "   <td></td>     <th>coef</th>     <th>std err</th>      <th>t</th>      <th>P>|t|</th>  <th>[0.025</th>    <th>0.975]</th>  \n",
       "</tr>\n",
       "<tr>\n",
       "  <th>x1</th> <td> 9.948e+04</td> <td> 1.23e+04</td> <td>    8.117</td> <td> 0.000</td> <td>  6.8e+04</td> <td> 1.31e+05</td>\n",
       "</tr>\n",
       "<tr>\n",
       "  <th>x2</th> <td>-7.084e+04</td> <td> 9879.611</td> <td>   -7.170</td> <td> 0.001</td> <td>-9.62e+04</td> <td>-4.54e+04</td>\n",
       "</tr>\n",
       "<tr>\n",
       "  <th>x3</th> <td> 2.198e+04</td> <td> 2741.097</td> <td>    8.018</td> <td> 0.000</td> <td> 1.49e+04</td> <td>  2.9e+04</td>\n",
       "</tr>\n",
       "<tr>\n",
       "  <th>x4</th> <td>-2862.0063</td> <td>  312.944</td> <td>   -9.145</td> <td> 0.000</td> <td>-3666.455</td> <td>-2057.558</td>\n",
       "</tr>\n",
       "<tr>\n",
       "  <th>x5</th> <td>  137.2854</td> <td>   12.577</td> <td>   10.916</td> <td> 0.000</td> <td>  104.956</td> <td>  169.615</td>\n",
       "</tr>\n",
       "</table>\n",
       "<table class=\"simpletable\">\n",
       "<tr>\n",
       "  <th>Omnibus:</th>       <td> 0.758</td> <th>  Durbin-Watson:     </th> <td>   2.741</td>\n",
       "</tr>\n",
       "<tr>\n",
       "  <th>Prob(Omnibus):</th> <td> 0.685</td> <th>  Jarque-Bera (JB):  </th> <td>   0.058</td>\n",
       "</tr>\n",
       "<tr>\n",
       "  <th>Skew:</th>          <td> 0.184</td> <th>  Prob(JB):          </th> <td>   0.972</td>\n",
       "</tr>\n",
       "<tr>\n",
       "  <th>Kurtosis:</th>      <td> 2.942</td> <th>  Cond. No.          </th> <td>3.00e+05</td>\n",
       "</tr>\n",
       "</table>"
      ],
      "text/plain": [
       "<class 'statsmodels.iolib.summary.Summary'>\n",
       "\"\"\"\n",
       "                            OLS Regression Results                            \n",
       "==============================================================================\n",
       "Dep. Variable:                      y   R-squared:                       1.000\n",
       "Model:                            OLS   Adj. R-squared:                  1.000\n",
       "Method:                 Least Squares   F-statistic:                     6810.\n",
       "Date:                Wed, 05 Jul 2017   Prob (F-statistic):           1.42e-09\n",
       "Time:                        11:16:43   Log-Likelihood:                -98.486\n",
       "No. Observations:                  10   AIC:                             207.0\n",
       "Df Residuals:                       5   BIC:                             208.5\n",
       "Df Model:                           5                                         \n",
       "Covariance Type:            nonrobust                                         \n",
       "==============================================================================\n",
       "                 coef    std err          t      P>|t|      [0.025      0.975]\n",
       "------------------------------------------------------------------------------\n",
       "x1          9.948e+04   1.23e+04      8.117      0.000     6.8e+04    1.31e+05\n",
       "x2         -7.084e+04   9879.611     -7.170      0.001   -9.62e+04   -4.54e+04\n",
       "x3          2.198e+04   2741.097      8.018      0.000    1.49e+04     2.9e+04\n",
       "x4         -2862.0063    312.944     -9.145      0.000   -3666.455   -2057.558\n",
       "x5           137.2854     12.577     10.916      0.000     104.956     169.615\n",
       "==============================================================================\n",
       "Omnibus:                        0.758   Durbin-Watson:                   2.741\n",
       "Prob(Omnibus):                  0.685   Jarque-Bera (JB):                0.058\n",
       "Skew:                           0.184   Prob(JB):                        0.972\n",
       "Kurtosis:                       2.942   Cond. No.                     3.00e+05\n",
       "==============================================================================\n",
       "\n",
       "Warnings:\n",
       "[1] Standard Errors assume that the covariance matrix of the errors is correctly specified.\n",
       "[2] The condition number is large,  3e+05. This might indicate that there are\n",
       "strong multicollinearity or other numerical problems.\n",
       "\"\"\""
      ]
     },
     "execution_count": 109,
     "metadata": {},
     "output_type": "execute_result"
    }
   ],
   "source": [
    "p_limit=0.05\n",
    "be_feat=list(range(X_polynomized.shape[1]))\n",
    "done=False\n",
    "while not done:\n",
    "    be_mult_reg_OLS=sm.OLS(Y,X_polynomized[:,be_feat]).fit()\n",
    "    p_max=max(be_mult_reg_OLS.pvalues)\n",
    "    if p_max>p_limit:\n",
    "        p_max_pos=np.argmax(be_mult_reg_OLS.pvalues)\n",
    "        print('Removing feature {} (p {:.3f})'.format(be_feat[p_max_pos],p_max))\n",
    "        be_feat=be_feat[:p_max_pos]+be_feat[p_max_pos+1:]\n",
    "    else:\n",
    "        print('Next worst feature is {} (p {:.3f}). Done removing!'.format(be_feat[p_max_pos],p_max))\n",
    "        done=True\n",
    "be_mult_reg_OLS.summary()"
   ]
  },
  {
   "cell_type": "markdown",
   "metadata": {
    "deletable": true,
    "editable": true
   },
   "source": [
    "## Forward selection"
   ]
  },
  {
   "cell_type": "code",
   "execution_count": 110,
   "metadata": {
    "collapsed": false,
    "deletable": true,
    "editable": true,
    "scrolled": false
   },
   "outputs": [
    {
     "name": "stdout",
     "output_type": "stream",
     "text": [
      "Adding feature 5 (p 0.000)\n",
      "Adding feature 0 (p 0.010)\n",
      "Next best feature is 4 (p 0.116). Done adding!\n"
     ]
    },
    {
     "name": "stderr",
     "output_type": "stream",
     "text": [
      "/home/ggomarr/.local/lib/python3.5/site-packages/scipy/stats/stats.py:1334: UserWarning: kurtosistest only valid for n>=20 ... continuing anyway, n=10\n",
      "  \"anyway, n=%i\" % int(n))\n"
     ]
    },
    {
     "data": {
      "text/html": [
       "<table class=\"simpletable\">\n",
       "<caption>OLS Regression Results</caption>\n",
       "<tr>\n",
       "  <th>Dep. Variable:</th>            <td>y</td>        <th>  R-squared:         </th> <td>   0.983</td>\n",
       "</tr>\n",
       "<tr>\n",
       "  <th>Model:</th>                   <td>OLS</td>       <th>  Adj. R-squared:    </th> <td>   0.981</td>\n",
       "</tr>\n",
       "<tr>\n",
       "  <th>Method:</th>             <td>Least Squares</td>  <th>  F-statistic:       </th> <td>   471.5</td>\n",
       "</tr>\n",
       "<tr>\n",
       "  <th>Date:</th>             <td>Wed, 05 Jul 2017</td> <th>  Prob (F-statistic):</th> <td>2.13e-08</td>\n",
       "</tr>\n",
       "<tr>\n",
       "  <th>Time:</th>                 <td>11:16:48</td>     <th>  Log-Likelihood:    </th> <td> -119.29</td>\n",
       "</tr>\n",
       "<tr>\n",
       "  <th>No. Observations:</th>      <td>    10</td>      <th>  AIC:               </th> <td>   242.6</td>\n",
       "</tr>\n",
       "<tr>\n",
       "  <th>Df Residuals:</th>          <td>     8</td>      <th>  BIC:               </th> <td>   243.2</td>\n",
       "</tr>\n",
       "<tr>\n",
       "  <th>Df Model:</th>              <td>     1</td>      <th>                     </th>     <td> </td>   \n",
       "</tr>\n",
       "<tr>\n",
       "  <th>Covariance Type:</th>      <td>nonrobust</td>    <th>                     </th>     <td> </td>   \n",
       "</tr>\n",
       "</table>\n",
       "<table class=\"simpletable\">\n",
       "<tr>\n",
       "    <td></td>       <th>coef</th>     <th>std err</th>      <th>t</th>      <th>P>|t|</th>  <th>[0.025</th>    <th>0.975]</th>  \n",
       "</tr>\n",
       "<tr>\n",
       "  <th>x1</th>    <td>    8.8891</td> <td>    0.409</td> <td>   21.714</td> <td> 0.000</td> <td>    7.945</td> <td>    9.833</td>\n",
       "</tr>\n",
       "<tr>\n",
       "  <th>const</th> <td> 5.321e+04</td> <td> 1.58e+04</td> <td>    3.365</td> <td> 0.010</td> <td> 1.67e+04</td> <td> 8.97e+04</td>\n",
       "</tr>\n",
       "</table>\n",
       "<table class=\"simpletable\">\n",
       "<tr>\n",
       "  <th>Omnibus:</th>       <td> 2.000</td> <th>  Durbin-Watson:     </th> <td>   1.685</td>\n",
       "</tr>\n",
       "<tr>\n",
       "  <th>Prob(Omnibus):</th> <td> 0.368</td> <th>  Jarque-Bera (JB):  </th> <td>   0.700</td>\n",
       "</tr>\n",
       "<tr>\n",
       "  <th>Skew:</th>          <td>-0.648</td> <th>  Prob(JB):          </th> <td>   0.705</td>\n",
       "</tr>\n",
       "<tr>\n",
       "  <th>Kurtosis:</th>      <td> 2.968</td> <th>  Cond. No.          </th> <td>4.71e+04</td>\n",
       "</tr>\n",
       "</table>"
      ],
      "text/plain": [
       "<class 'statsmodels.iolib.summary.Summary'>\n",
       "\"\"\"\n",
       "                            OLS Regression Results                            \n",
       "==============================================================================\n",
       "Dep. Variable:                      y   R-squared:                       0.983\n",
       "Model:                            OLS   Adj. R-squared:                  0.981\n",
       "Method:                 Least Squares   F-statistic:                     471.5\n",
       "Date:                Wed, 05 Jul 2017   Prob (F-statistic):           2.13e-08\n",
       "Time:                        11:16:48   Log-Likelihood:                -119.29\n",
       "No. Observations:                  10   AIC:                             242.6\n",
       "Df Residuals:                       8   BIC:                             243.2\n",
       "Df Model:                           1                                         \n",
       "Covariance Type:            nonrobust                                         \n",
       "==============================================================================\n",
       "                 coef    std err          t      P>|t|      [0.025      0.975]\n",
       "------------------------------------------------------------------------------\n",
       "x1             8.8891      0.409     21.714      0.000       7.945       9.833\n",
       "const       5.321e+04   1.58e+04      3.365      0.010    1.67e+04    8.97e+04\n",
       "==============================================================================\n",
       "Omnibus:                        2.000   Durbin-Watson:                   1.685\n",
       "Prob(Omnibus):                  0.368   Jarque-Bera (JB):                0.700\n",
       "Skew:                          -0.648   Prob(JB):                        0.705\n",
       "Kurtosis:                       2.968   Cond. No.                     4.71e+04\n",
       "==============================================================================\n",
       "\n",
       "Warnings:\n",
       "[1] Standard Errors assume that the covariance matrix of the errors is correctly specified.\n",
       "[2] The condition number is large, 4.71e+04. This might indicate that there are\n",
       "strong multicollinearity or other numerical problems.\n",
       "\"\"\""
      ]
     },
     "execution_count": 110,
     "metadata": {},
     "output_type": "execute_result"
    }
   ],
   "source": [
    "p_limit=0.05\n",
    "fs_feat=[]\n",
    "candidates=list(range(X_polynomized.shape[1]))\n",
    "done=False\n",
    "while not done and len(candidates)>0:\n",
    "    aux_OLS_lst=[sm.OLS(Y,X_polynomized[:,fs_feat+[candidate]]).fit() for candidate in candidates]\n",
    "    p_vals=[aux_OLS.pvalues[-1] for aux_OLS in aux_OLS_lst]\n",
    "    p_min=min(p_vals)\n",
    "    p_min_pos=np.argmin(p_vals)\n",
    "    if p_min<p_limit:\n",
    "        print('Adding feature {} (p {:.3f})'.format(candidates[p_min_pos],p_min))\n",
    "        fs_feat.append(candidates[p_min_pos])\n",
    "        candidates=candidates[:p_min_pos]+candidates[p_min_pos+1:]\n",
    "        fs_mult_reg_OLS=aux_OLS_lst[p_min_pos]\n",
    "    else:\n",
    "        print('Next best feature is {} (p {:.3f}). Done adding!'.format(candidates[p_min_pos],p_min))\n",
    "        done=True\n",
    "fs_mult_reg_OLS.summary()"
   ]
  },
  {
   "cell_type": "markdown",
   "metadata": {
    "deletable": true,
    "editable": true
   },
   "source": [
    "## Checking models"
   ]
  },
  {
   "cell_type": "code",
   "execution_count": 114,
   "metadata": {
    "collapsed": false,
    "deletable": true,
    "editable": true,
    "scrolled": true
   },
   "outputs": [
    {
     "data": {
      "text/plain": [
       "[<matplotlib.lines.Line2D at 0x7f855fc7dc18>]"
      ]
     },
     "execution_count": 114,
     "metadata": {},
     "output_type": "execute_result"
    },
    {
     "data": {
      "image/png": "[encoded data removed]",
      "text/plain": [
       "<matplotlib.figure.Figure at 0x7f855fdd1cf8>"
      ]
     },
     "metadata": {},
     "output_type": "display_data"
    }
   ],
   "source": [
    "be_reg_OLS=sm.OLS(Y,X_polynomized[:,be_feat]).fit()\n",
    "_,ax1=plt.subplots()\n",
    "ax1.scatter(X,Y)\n",
    "ax1.plot(X,be_reg_OLS.predict(X_polynomized[:,be_feat]),color='black')\n",
    "ax2=ax1.twinx()\n",
    "ax2.plot(X,be_reg_OLS.resid,color='red')"
   ]
  },
  {
   "cell_type": "code",
   "execution_count": 115,
   "metadata": {
    "collapsed": false,
    "deletable": true,
    "editable": true,
    "scrolled": true
   },
   "outputs": [
    {
     "data": {
      "text/plain": [
       "[<matplotlib.lines.Line2D at 0x7f855fbd1cc0>]"
      ]
     },
     "execution_count": 115,
     "metadata": {},
     "output_type": "execute_result"
    },
    {
     "data": {
      "image/png": "[encoded data removed]",
      "text/plain": [
       "<matplotlib.figure.Figure at 0x7f855fc67ef0>"
      ]
     },
     "metadata": {},
     "output_type": "display_data"
    }
   ],
   "source": [
    "fs_reg_OLS=sm.OLS(Y,X_polynomized[:,fs_feat]).fit()\n",
    "_,ax1=plt.subplots()\n",
    "ax1.scatter(X,Y)\n",
    "ax1.plot(X,fs_reg_OLS.predict(X_polynomized[:,fs_feat]),color='black')\n",
    "ax2=ax1.twinx()\n",
    "ax2.plot(X,fs_reg_OLS.resid,color='red')"
   ]
  },
  {
   "cell_type": "code",
   "execution_count": null,
   "metadata": {
    "collapsed": true
   },
   "outputs": [],
   "source": []
  }
 ],
 "metadata": {
  "kernelspec": {
   "display_name": "Python 3",
   "language": "python",
   "name": "python3"
  },
  "language_info": {
   "codemirror_mode": {
    "name": "ipython",
    "version": 3
   },
   "file_extension": ".py",
   "mimetype": "text/x-python",
   "name": "python",
   "nbconvert_exporter": "python",
   "pygments_lexer": "ipython3",
   "version": "3.5.3"
  }
 },
 "nbformat": 4,
 "nbformat_minor": 2
}
