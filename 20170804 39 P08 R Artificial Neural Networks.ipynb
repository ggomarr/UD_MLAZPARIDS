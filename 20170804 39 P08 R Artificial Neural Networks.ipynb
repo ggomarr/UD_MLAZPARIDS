{
 "cells": [
  {
   "cell_type": "markdown",
   "metadata": {},
   "source": [
    "# Libraries"
   ]
  },
  {
   "cell_type": "code",
   "execution_count": 1,
   "metadata": {},
   "outputs": [],
   "source": [
    "# install.packages('h2o')"
   ]
  },
  {
   "cell_type": "code",
   "execution_count": 2,
   "metadata": {
    "scrolled": false
   },
   "outputs": [
    {
     "name": "stderr",
     "output_type": "stream",
     "text": [
      "\n",
      "----------------------------------------------------------------------\n",
      "\n",
      "Your next step is to start H2O:\n",
      "    > h2o.init()\n",
      "\n",
      "For H2O package documentation, ask for help:\n",
      "    > ??h2o\n",
      "\n",
      "After starting H2O, you can use the Web UI at http://localhost:54321\n",
      "For more information visit http://docs.h2o.ai\n",
      "\n",
      "----------------------------------------------------------------------\n",
      "\n",
      "\n",
      "Attaching package: ‘h2o’\n",
      "\n",
      "The following objects are masked from ‘package:stats’:\n",
      "\n",
      "    cor, sd, var\n",
      "\n",
      "The following objects are masked from ‘package:base’:\n",
      "\n",
      "    &&, %*%, %in%, ||, apply, as.factor, as.numeric, colnames,\n",
      "    colnames<-, ifelse, is.character, is.factor, is.numeric, log,\n",
      "    log10, log1p, log2, round, signif, trunc\n",
      "\n"
     ]
    }
   ],
   "source": [
    "library(caTools)\n",
    "library(ggplot2)\n",
    "library(repr)\n",
    "options(repr.plot.width=4, repr.plot.height=4)\n",
    "library(h2o)"
   ]
  },
  {
   "cell_type": "markdown",
   "metadata": {},
   "source": [
    "# Without one hot encoding"
   ]
  },
  {
   "cell_type": "markdown",
   "metadata": {},
   "source": [
    "## Read data"
   ]
  },
  {
   "cell_type": "code",
   "execution_count": 11,
   "metadata": {
    "scrolled": true
   },
   "outputs": [
    {
     "name": "stdout",
     "output_type": "stream",
     "text": [
      "'data.frame':\t10000 obs. of  11 variables:\n",
      " $ Geography      : Factor w/ 3 levels \"France\",\"Germany\",..: 1 3 1 1 3 3 1 2 1 1 ...\n",
      " $ Gender         : Factor w/ 2 levels \"Female\",\"Male\": 1 1 1 1 1 2 2 1 2 2 ...\n",
      " $ Age            : int  42 41 42 39 43 44 50 29 44 27 ...\n",
      " $ CreditScore    : int  619 608 502 699 850 645 822 376 501 684 ...\n",
      " $ EstimatedSalary: num  101349 112543 113932 93827 79084 ...\n",
      " $ Tenure         : int  2 1 8 1 2 8 7 4 4 2 ...\n",
      " $ Balance        : num  0 83808 159661 0 125511 ...\n",
      " $ NumOfProducts  : int  1 1 3 2 1 2 2 4 2 1 ...\n",
      " $ HasCrCard      : int  1 0 1 0 1 1 1 1 0 1 ...\n",
      " $ IsActiveMember : int  1 1 0 0 1 0 1 0 1 1 ...\n",
      " $ Exited         : int  1 0 1 0 0 1 0 1 0 0 ...\n"
     ]
    }
   ],
   "source": [
    "root_dir=\"~/Documents/Education/20170623 Udemy - Machine Learning A-Z: Hands-On Python and R in Data Science/\"\n",
    "work_dir=\"Course data/Part 8 - Deep Learning/Section 39 - Artificial Neural Networks (ANN)\"\n",
    "setwd(paste(root_dir,work_dir,sep=''))\n",
    "df=read.csv('Churn_Modelling.csv')[c('Geography','Gender','Age','CreditScore','EstimatedSalary',\n",
    "                                     'Tenure','Balance','NumOfProducts','HasCrCard','IsActiveMember',\n",
    "                                     'Exited')]\n",
    "str(df)"
   ]
  },
  {
   "cell_type": "markdown",
   "metadata": {},
   "source": [
    "## Factorize an numerize features"
   ]
  },
  {
   "cell_type": "code",
   "execution_count": 4,
   "metadata": {},
   "outputs": [
    {
     "name": "stdout",
     "output_type": "stream",
     "text": [
      "'data.frame':\t10000 obs. of  11 variables:\n",
      " $ Geography      : num  1 3 1 1 3 3 1 2 1 1 ...\n",
      " $ Gender         : num  1 1 1 1 1 2 2 1 2 2 ...\n",
      " $ Age            : int  42 41 42 39 43 44 50 29 44 27 ...\n",
      " $ CreditScore    : int  619 608 502 699 850 645 822 376 501 684 ...\n",
      " $ EstimatedSalary: num  101349 112543 113932 93827 79084 ...\n",
      " $ Tenure         : int  2 1 8 1 2 8 7 4 4 2 ...\n",
      " $ Balance        : num  0 83808 159661 0 125511 ...\n",
      " $ NumOfProducts  : int  1 1 3 2 1 2 2 4 2 1 ...\n",
      " $ HasCrCard      : int  1 0 1 0 1 1 1 1 0 1 ...\n",
      " $ IsActiveMember : int  1 1 0 0 1 0 1 0 1 1 ...\n",
      " $ Exited         : int  1 0 1 0 0 1 0 1 0 0 ...\n"
     ]
    }
   ],
   "source": [
    "df$Geography=as.numeric(factor(df$Geography))\n",
    "df$Gender=as.numeric(factor(df$Gender))\n",
    "str(df)"
   ]
  },
  {
   "cell_type": "markdown",
   "metadata": {},
   "source": [
    "## Scale"
   ]
  },
  {
   "cell_type": "code",
   "execution_count": 5,
   "metadata": {
    "scrolled": true
   },
   "outputs": [
    {
     "name": "stdout",
     "output_type": "stream",
     "text": [
      "'data.frame':\t10000 obs. of  11 variables:\n",
      " $ Geography      : num  -0.902 1.515 -0.902 -0.902 1.515 ...\n",
      " $ Gender         : num  -1.1 -1.1 -1.1 -1.1 -1.1 ...\n",
      " $ Age            : num  0.2935 0.19815 0.2935 0.00746 0.38885 ...\n",
      " $ CreditScore    : num  -0.326 -0.44 -1.537 0.501 2.064 ...\n",
      " $ EstimatedSalary: num  0.0219 0.2165 0.2407 -0.1089 -0.3653 ...\n",
      " $ Tenure         : num  -1.04 -1.39 1.03 -1.39 -1.04 ...\n",
      " $ Balance        : num  -1.226 0.117 1.333 -1.226 0.786 ...\n",
      " $ NumOfProducts  : num  -0.912 -0.912 2.527 0.808 -0.912 ...\n",
      " $ HasCrCard      : num  0.646 -1.548 0.646 -1.548 0.646 ...\n",
      " $ IsActiveMember : num  0.97 0.97 -1.03 -1.03 0.97 ...\n",
      " $ Exited         : int  1 0 1 0 0 1 0 1 0 0 ...\n"
     ]
    }
   ],
   "source": [
    "scale_features=c('Geography','Gender','Age','CreditScore','EstimatedSalary',\n",
    "                 'Tenure','Balance','NumOfProducts','HasCrCard','IsActiveMember')\n",
    "df[,scale_features]=scale(df[,scale_features])\n",
    "str(df)"
   ]
  },
  {
   "cell_type": "markdown",
   "metadata": {},
   "source": [
    "## Train/test"
   ]
  },
  {
   "cell_type": "code",
   "execution_count": 6,
   "metadata": {},
   "outputs": [
    {
     "name": "stdout",
     "output_type": "stream",
     "text": [
      "Training set: 8000x11\n",
      "Test set: 2000x11\n"
     ]
    }
   ],
   "source": [
    "set.seed(123)\n",
    "split=sample.split(df$Exited, SplitRatio=0.8)\n",
    "training_set=subset(df,split)\n",
    "test_set=subset(df,!split)\n",
    "writeLines(noquote(paste('Training set:',paste(dim(training_set),collapse='x'))))\n",
    "writeLines(noquote(paste('Test set:',paste(dim(test_set),collapse='x'))))"
   ]
  },
  {
   "cell_type": "markdown",
   "metadata": {},
   "source": [
    "## Artificial Neural Network"
   ]
  },
  {
   "cell_type": "code",
   "execution_count": 7,
   "metadata": {},
   "outputs": [
    {
     "name": "stdout",
     "output_type": "stream",
     "text": [
      "\n",
      "H2O is not running yet, starting it now...\n",
      "\n",
      "Note:  In case of errors look at the following log files:\n",
      "    /tmp/Rtmp6CmQnl/h2o_ggomarr_started_from_r.out\n",
      "    /tmp/Rtmp6CmQnl/h2o_ggomarr_started_from_r.err\n",
      "\n",
      "\n",
      "Starting H2O JVM and connecting: .. Connection successful!\n",
      "\n",
      "R is connected to the H2O cluster: \n",
      "    H2O cluster uptime:         1 seconds 859 milliseconds \n",
      "    H2O cluster version:        3.10.5.3 \n",
      "    H2O cluster version age:    1 month and 5 days  \n",
      "    H2O cluster name:           H2O_started_from_R_ggomarr_iiw313 \n",
      "    H2O cluster total nodes:    1 \n",
      "    H2O cluster total memory:   1.71 GB \n",
      "    H2O cluster total cores:    4 \n",
      "    H2O cluster allowed cores:  4 \n",
      "    H2O cluster healthy:        TRUE \n",
      "    H2O Connection ip:          localhost \n",
      "    H2O Connection port:        54321 \n",
      "    H2O Connection proxy:       NA \n",
      "    H2O Internal Security:      FALSE \n",
      "    R Version:                  R version 3.3.2 (2016-10-31) \n",
      "\n"
     ]
    }
   ],
   "source": [
    "h2o.init(nthreads=-1)"
   ]
  },
  {
   "cell_type": "code",
   "execution_count": 8,
   "metadata": {
    "scrolled": false
   },
   "outputs": [
    {
     "name": "stdout",
     "output_type": "stream",
     "text": [
      "\n",
      "=== ANN ===\n",
      "  |======================================================================| 100%\n",
      "  |======================================================================| 100%\n",
      "\n",
      "Classifier summary:\n",
      "Model Details:\n",
      "==============\n",
      "\n",
      "H2ORegressionModel: deeplearning\n",
      "Model Key:  DeepLearning_model_R_1501853168543_1 \n",
      "Status of Neuron Layers: predicting Exited, regression, gaussian distribution, Quadratic loss, 115 weights/biases, 5.7 KB, 200,224 training samples, mini-batch size 1\n",
      "  layer units      type dropout       l1       l2 mean_rate rate_rms momentum\n",
      "1     1    10     Input  0.00 %                                              \n",
      "2     2     6 Rectifier  0.00 % 0.000000 0.000000  0.000747 0.000295 0.000000\n",
      "3     3     6 Rectifier  0.00 % 0.000000 0.000000  0.000400 0.000279 0.000000\n",
      "4     4     1    Linear         0.000000 0.000000  0.000233 0.000103 0.000000\n",
      "  mean_weight weight_rms mean_bias bias_rms\n",
      "1                                          \n",
      "2    0.063562   0.368509  0.257034 0.608200\n",
      "3   -0.102029   0.436585  0.912859 0.266151\n",
      "4   -0.263595   0.754386  0.192023 0.000000\n",
      "\n",
      "H2ORegressionMetrics: deeplearning\n",
      "** Reported on training data. **\n",
      "** Metrics reported on full training frame **\n",
      "\n",
      "MSE:  0.1085054\n",
      "RMSE:  0.3294016\n",
      "MAE:  0.2286778\n",
      "RMSLE:  0.2327878\n",
      "Mean Residual Deviance :  0.1085054\n",
      "\n",
      "\n",
      "\n",
      "\n",
      "\n",
      "Scoring History: \n",
      "            timestamp   duration training_speed   epochs iterations\n",
      "1 2017-08-04 16:26:13  0.000 sec                 0.00000          0\n",
      "2 2017-08-04 16:26:14  1.641 sec  93457 obs/sec  2.50000          1\n",
      "3 2017-08-04 16:26:14  2.152 sec 288923 obs/sec 25.02800         10\n",
      "        samples training_rmse training_deviance training_mae\n",
      "1      0.000000                                             \n",
      "2  20000.000000       0.37467           0.14038      0.29690\n",
      "3 200224.000000       0.32940           0.10851      0.22868\n",
      "\n",
      "Variable Importances: (Extract with `h2o.varimp`) \n",
      "=================================================\n",
      "\n",
      "Variable Importances: \n",
      "          variable relative_importance scaled_importance percentage\n",
      "1    NumOfProducts            1.000000          1.000000   0.245143\n",
      "2              Age            0.882018          0.882018   0.216221\n",
      "3   IsActiveMember            0.666792          0.666792   0.163460\n",
      "4        Geography            0.431525          0.431525   0.105786\n",
      "5          Balance            0.421001          0.421001   0.103206\n",
      "6           Gender            0.204021          0.204021   0.050014\n",
      "7        HasCrCard            0.162996          0.162996   0.039957\n",
      "8      CreditScore            0.112914          0.112914   0.027680\n",
      "9           Tenure            0.111858          0.111858   0.027421\n",
      "10 EstimatedSalary            0.086119          0.086119   0.021111\n",
      "Variable Importances: \n",
      "          variable relative_importance scaled_importance percentage\n",
      "1    NumOfProducts            1.000000          1.000000   0.245143\n",
      "2              Age            0.882018          0.882018   0.216221\n",
      "3   IsActiveMember            0.666792          0.666792   0.163460\n",
      "4        Geography            0.431525          0.431525   0.105786\n",
      "5          Balance            0.421001          0.421001   0.103206\n",
      "6           Gender            0.204021          0.204021   0.050014\n",
      "7        HasCrCard            0.162996          0.162996   0.039957\n",
      "8      CreditScore            0.112914          0.112914   0.027680\n",
      "9           Tenure            0.111858          0.111858   0.027421\n",
      "10 EstimatedSalary            0.086119          0.086119   0.021111\n",
      "  |======================================================================| 100%\n",
      "  |======================================================================| 100%\n",
      "\n",
      "Confusion matrix:\n",
      "   y_pred\n",
      "       0    1\n",
      "  0 1526   67\n",
      "  1  217  190\n"
     ]
    },
    {
     "data": {
      "image/png": "[encoded data removed]",
      "text/plain": [
       "Plot with title “Histogram of as.vector(prob_pred)”"
      ]
     },
     "metadata": {},
     "output_type": "display_data"
    }
   ],
   "source": [
    "writeLines('\\n=== ANN ===')\n",
    "my_classifier=h2o.deeplearning(y='Exited',\n",
    "                               training_frame=as.h2o(training_set),\n",
    "                               activation='Rectifier',\n",
    "                               hidden=c(6,6),\n",
    "                               epochs=25,\n",
    "                               train_samples_per_iteration=-2)\n",
    "writeLines('\\nClassifier summary:')\n",
    "print(summary(my_classifier))\n",
    "prob_pred=h2o.predict(my_classifier,newdata=as.h2o(test_set[-11]))\n",
    "y_pred=as.vector(prob_pred>0.5)\n",
    "writeLines('\\nConfusion matrix:')\n",
    "print(table(test_set$Exited,y_pred))\n",
    "hist(as.vector(prob_pred))"
   ]
  },
  {
   "cell_type": "code",
   "execution_count": 9,
   "metadata": {},
   "outputs": [
    {
     "data": {
      "text/html": [
       "TRUE"
      ],
      "text/latex": [
       "TRUE"
      ],
      "text/markdown": [
       "TRUE"
      ],
      "text/plain": [
       "[1] TRUE"
      ]
     },
     "metadata": {},
     "output_type": "display_data"
    }
   ],
   "source": [
    "h2o.shutdown(prompt=FALSE)"
   ]
  },
  {
   "cell_type": "markdown",
   "metadata": {},
   "source": [
    "# With one hot encoding of Geography"
   ]
  },
  {
   "cell_type": "markdown",
   "metadata": {},
   "source": [
    "## Read data"
   ]
  },
  {
   "cell_type": "code",
   "execution_count": 11,
   "metadata": {
    "scrolled": true
   },
   "outputs": [
    {
     "name": "stdout",
     "output_type": "stream",
     "text": [
      "'data.frame':\t10000 obs. of  11 variables:\n",
      " $ Geography      : Factor w/ 3 levels \"France\",\"Germany\",..: 1 3 1 1 3 3 1 2 1 1 ...\n",
      " $ Gender         : Factor w/ 2 levels \"Female\",\"Male\": 1 1 1 1 1 2 2 1 2 2 ...\n",
      " $ Age            : int  42 41 42 39 43 44 50 29 44 27 ...\n",
      " $ CreditScore    : int  619 608 502 699 850 645 822 376 501 684 ...\n",
      " $ EstimatedSalary: num  101349 112543 113932 93827 79084 ...\n",
      " $ Tenure         : int  2 1 8 1 2 8 7 4 4 2 ...\n",
      " $ Balance        : num  0 83808 159661 0 125511 ...\n",
      " $ NumOfProducts  : int  1 1 3 2 1 2 2 4 2 1 ...\n",
      " $ HasCrCard      : int  1 0 1 0 1 1 1 1 0 1 ...\n",
      " $ IsActiveMember : int  1 1 0 0 1 0 1 0 1 1 ...\n",
      " $ Exited         : int  1 0 1 0 0 1 0 1 0 0 ...\n"
     ]
    }
   ],
   "source": [
    "root_dir=\"~/Documents/Education/20170623 Udemy - Machine Learning A-Z: Hands-On Python and R in Data Science/\"\n",
    "work_dir=\"Course data/Part 8 - Deep Learning/Section 39 - Artificial Neural Networks (ANN)\"\n",
    "setwd(paste(root_dir,work_dir,sep=''))\n",
    "df=read.csv('Churn_Modelling.csv')[c('Geography','Gender','Age','CreditScore','EstimatedSalary',\n",
    "                                     'Tenure','Balance','NumOfProducts','HasCrCard','IsActiveMember',\n",
    "                                     'Exited')]\n",
    "str(df)"
   ]
  },
  {
   "cell_type": "markdown",
   "metadata": {},
   "source": [
    "## Factorize an numerize features"
   ]
  },
  {
   "cell_type": "code",
   "execution_count": 22,
   "metadata": {},
   "outputs": [
    {
     "name": "stdout",
     "output_type": "stream",
     "text": [
      "'data.frame':\t10000 obs. of  12 variables:\n",
      " $ GeographyGermany: num  0 0 0 0 0 0 0 1 0 0 ...\n",
      " $ GeographySpain  : num  0 1 0 0 1 1 0 0 0 0 ...\n",
      " $ Gender          : num  1 1 1 1 1 2 2 1 2 2 ...\n",
      " $ Age             : int  42 41 42 39 43 44 50 29 44 27 ...\n",
      " $ CreditScore     : int  619 608 502 699 850 645 822 376 501 684 ...\n",
      " $ EstimatedSalary : num  101349 112543 113932 93827 79084 ...\n",
      " $ Tenure          : int  2 1 8 1 2 8 7 4 4 2 ...\n",
      " $ Balance         : num  0 83808 159661 0 125511 ...\n",
      " $ NumOfProducts   : int  1 1 3 2 1 2 2 4 2 1 ...\n",
      " $ HasCrCard       : int  1 0 1 0 1 1 1 1 0 1 ...\n",
      " $ IsActiveMember  : int  1 1 0 0 1 0 1 0 1 1 ...\n",
      " $ Exited          : int  1 0 1 0 0 1 0 1 0 0 ...\n"
     ]
    }
   ],
   "source": [
    "df=cbind(data.frame(model.matrix(~Geography-1,df))[-1],df[,!(colnames(df)=='Geography')])\n",
    "df$Gender=as.numeric(factor(df$Gender))\n",
    "str(df)"
   ]
  },
  {
   "cell_type": "markdown",
   "metadata": {},
   "source": [
    "## Scale"
   ]
  },
  {
   "cell_type": "code",
   "execution_count": 24,
   "metadata": {
    "scrolled": true
   },
   "outputs": [
    {
     "name": "stdout",
     "output_type": "stream",
     "text": [
      "'data.frame':\t10000 obs. of  12 variables:\n",
      " $ GeographyGermany: num  -0.579 -0.579 -0.579 -0.579 -0.579 ...\n",
      " $ GeographySpain  : num  -0.574 1.743 -0.574 -0.574 1.743 ...\n",
      " $ Gender          : num  -1.1 -1.1 -1.1 -1.1 -1.1 ...\n",
      " $ Age             : num  0.2935 0.19815 0.2935 0.00746 0.38885 ...\n",
      " $ CreditScore     : num  -0.326 -0.44 -1.537 0.501 2.064 ...\n",
      " $ EstimatedSalary : num  0.0219 0.2165 0.2407 -0.1089 -0.3653 ...\n",
      " $ Tenure          : num  -1.04 -1.39 1.03 -1.39 -1.04 ...\n",
      " $ Balance         : num  -1.226 0.117 1.333 -1.226 0.786 ...\n",
      " $ NumOfProducts   : num  -0.912 -0.912 2.527 0.808 -0.912 ...\n",
      " $ HasCrCard       : num  0.646 -1.548 0.646 -1.548 0.646 ...\n",
      " $ IsActiveMember  : num  0.97 0.97 -1.03 -1.03 0.97 ...\n",
      " $ Exited          : int  1 0 1 0 0 1 0 1 0 0 ...\n"
     ]
    }
   ],
   "source": [
    "scale_features=c('GeographyGermany','GeographySpain','Gender','Age','CreditScore','EstimatedSalary',\n",
    "                 'Tenure','Balance','NumOfProducts','HasCrCard','IsActiveMember')\n",
    "df[,scale_features]=scale(df[,scale_features])\n",
    "str(df)"
   ]
  },
  {
   "cell_type": "markdown",
   "metadata": {},
   "source": [
    "## Train/test"
   ]
  },
  {
   "cell_type": "code",
   "execution_count": 25,
   "metadata": {},
   "outputs": [
    {
     "name": "stdout",
     "output_type": "stream",
     "text": [
      "Training set: 8000x12\n",
      "Test set: 2000x12\n"
     ]
    }
   ],
   "source": [
    "set.seed(123)\n",
    "split=sample.split(df$Exited, SplitRatio=0.8)\n",
    "training_set=subset(df,split)\n",
    "test_set=subset(df,!split)\n",
    "writeLines(noquote(paste('Training set:',paste(dim(training_set),collapse='x'))))\n",
    "writeLines(noquote(paste('Test set:',paste(dim(test_set),collapse='x'))))"
   ]
  },
  {
   "cell_type": "markdown",
   "metadata": {},
   "source": [
    "## Artificial Neural Network"
   ]
  },
  {
   "cell_type": "code",
   "execution_count": 26,
   "metadata": {},
   "outputs": [
    {
     "name": "stdout",
     "output_type": "stream",
     "text": [
      "\n",
      "H2O is not running yet, starting it now...\n",
      "\n",
      "Note:  In case of errors look at the following log files:\n",
      "    /tmp/Rtmp6CmQnl/h2o_ggomarr_started_from_r.out\n",
      "    /tmp/Rtmp6CmQnl/h2o_ggomarr_started_from_r.err\n",
      "\n",
      "\n",
      "Starting H2O JVM and connecting: .. Connection successful!\n",
      "\n",
      "R is connected to the H2O cluster: \n",
      "    H2O cluster uptime:         1 seconds 819 milliseconds \n",
      "    H2O cluster version:        3.10.5.3 \n",
      "    H2O cluster version age:    1 month and 5 days  \n",
      "    H2O cluster name:           H2O_started_from_R_ggomarr_iiw313 \n",
      "    H2O cluster total nodes:    1 \n",
      "    H2O cluster total memory:   1.71 GB \n",
      "    H2O cluster total cores:    4 \n",
      "    H2O cluster allowed cores:  4 \n",
      "    H2O cluster healthy:        TRUE \n",
      "    H2O Connection ip:          localhost \n",
      "    H2O Connection port:        54321 \n",
      "    H2O Connection proxy:       NA \n",
      "    H2O Internal Security:      FALSE \n",
      "    R Version:                  R version 3.3.2 (2016-10-31) \n",
      "\n"
     ]
    }
   ],
   "source": [
    "h2o.init(nthreads=-1)"
   ]
  },
  {
   "cell_type": "code",
   "execution_count": 27,
   "metadata": {
    "scrolled": false
   },
   "outputs": [
    {
     "name": "stdout",
     "output_type": "stream",
     "text": [
      "\n",
      "=== ANN ===\n",
      "  |======================================================================| 100%\n",
      "  |======================================================================| 100%\n",
      "\n",
      "Classifier summary:\n",
      "Model Details:\n",
      "==============\n",
      "\n",
      "H2ORegressionModel: deeplearning\n",
      "Model Key:  DeepLearning_model_R_1501854383382_1 \n",
      "Status of Neuron Layers: predicting Exited, regression, gaussian distribution, Quadratic loss, 121 weights/biases, 5.9 KB, 219,643 training samples, mini-batch size 1\n",
      "  layer units      type dropout       l1       l2 mean_rate rate_rms momentum\n",
      "1     1    11     Input  0.00 %                                              \n",
      "2     2     6 Rectifier  0.00 % 0.000000 0.000000  0.000790 0.000999 0.000000\n",
      "3     3     6 Rectifier  0.00 % 0.000000 0.000000  0.001105 0.002180 0.000000\n",
      "4     4     1    Linear         0.000000 0.000000  0.000266 0.000094 0.000000\n",
      "  mean_weight weight_rms mean_bias bias_rms\n",
      "1                                          \n",
      "2    0.043532   0.301908 -0.069972 0.611037\n",
      "3   -0.060774   0.497871  1.014541 0.190093\n",
      "4   -0.084227   0.685165  0.154589 0.000000\n",
      "\n",
      "H2ORegressionMetrics: deeplearning\n",
      "** Reported on training data. **\n",
      "** Metrics reported on full training frame **\n",
      "\n",
      "MSE:  0.1077681\n",
      "RMSE:  0.3282805\n",
      "MAE:  0.1892738\n",
      "RMSLE:  0.2270604\n",
      "Mean Residual Deviance :  0.1077681\n",
      "\n",
      "\n",
      "\n",
      "\n",
      "\n",
      "Scoring History: \n",
      "            timestamp   duration training_speed   epochs iterations\n",
      "1 2017-08-04 16:46:29  0.000 sec                 0.00000          0\n",
      "2 2017-08-04 16:46:30  1.811 sec  63739 obs/sec  2.50975          1\n",
      "3 2017-08-04 16:46:31  2.346 sec 267531 obs/sec 27.45538         11\n",
      "        samples training_rmse training_deviance training_mae\n",
      "1      0.000000                                             \n",
      "2  20078.000000       0.35881           0.12875      0.25637\n",
      "3 219643.000000       0.32828           0.10777      0.18927\n",
      "\n",
      "Variable Importances: (Extract with `h2o.varimp`) \n",
      "=================================================\n",
      "\n",
      "Variable Importances: \n",
      "           variable relative_importance scaled_importance percentage\n",
      "1     NumOfProducts            1.000000          1.000000   0.245635\n",
      "2               Age            0.937488          0.937488   0.230280\n",
      "3    IsActiveMember            0.505778          0.505778   0.124237\n",
      "4           Balance            0.411259          0.411259   0.101020\n",
      "5  GeographyGermany            0.297245          0.297245   0.073014\n",
      "6    GeographySpain            0.224247          0.224247   0.055083\n",
      "7            Gender            0.172127          0.172127   0.042280\n",
      "8         HasCrCard            0.161088          0.161088   0.039569\n",
      "9            Tenure            0.137762          0.137762   0.033839\n",
      "10      CreditScore            0.135211          0.135211   0.033213\n",
      "11  EstimatedSalary            0.088873          0.088873   0.021830\n",
      "Variable Importances: \n",
      "           variable relative_importance scaled_importance percentage\n",
      "1     NumOfProducts            1.000000          1.000000   0.245635\n",
      "2               Age            0.937488          0.937488   0.230280\n",
      "3    IsActiveMember            0.505778          0.505778   0.124237\n",
      "4           Balance            0.411259          0.411259   0.101020\n",
      "5  GeographyGermany            0.297245          0.297245   0.073014\n",
      "6    GeographySpain            0.224247          0.224247   0.055083\n",
      "7            Gender            0.172127          0.172127   0.042280\n",
      "8         HasCrCard            0.161088          0.161088   0.039569\n",
      "9            Tenure            0.137762          0.137762   0.033839\n",
      "10      CreditScore            0.135211          0.135211   0.033213\n",
      "11  EstimatedSalary            0.088873          0.088873   0.021830\n",
      "  |======================================================================| 100%\n",
      "  |======================================================================| 100%\n"
     ]
    },
    {
     "name": "stderr",
     "output_type": "stream",
     "text": [
      "Warning message in doTryCatch(return(expr), name, parentenv, handler):\n",
      "“Test/Validation dataset is missing column 'IsActiveMember': substituting in a column of NaN”"
     ]
    },
    {
     "name": "stdout",
     "output_type": "stream",
     "text": [
      "\n",
      "Confusion matrix:\n",
      "   y_pred\n",
      "       0    1\n",
      "  0 1540   53\n",
      "  1  253  154\n"
     ]
    },
    {
     "data": {
      "image/png": "[encoded data removed]",
      "text/plain": [
       "Plot with title “Histogram of as.vector(prob_pred)”"
      ]
     },
     "metadata": {},
     "output_type": "display_data"
    }
   ],
   "source": [
    "writeLines('\\n=== ANN ===')\n",
    "my_classifier=h2o.deeplearning(y='Exited',\n",
    "                               training_frame=as.h2o(training_set),\n",
    "                               activation='Rectifier',\n",
    "                               hidden=c(6,6),\n",
    "                               epochs=25,\n",
    "                               train_samples_per_iteration=-2)\n",
    "writeLines('\\nClassifier summary:')\n",
    "print(summary(my_classifier))\n",
    "prob_pred=h2o.predict(my_classifier,newdata=as.h2o(test_set[-11]))\n",
    "y_pred=as.vector(prob_pred>0.5)\n",
    "writeLines('\\nConfusion matrix:')\n",
    "print(table(test_set$Exited,y_pred))\n",
    "hist(as.vector(prob_pred))"
   ]
  },
  {
   "cell_type": "code",
   "execution_count": 28,
   "metadata": {},
   "outputs": [
    {
     "data": {
      "text/html": [
       "TRUE"
      ],
      "text/latex": [
       "TRUE"
      ],
      "text/markdown": [
       "TRUE"
      ],
      "text/plain": [
       "[1] TRUE"
      ]
     },
     "metadata": {},
     "output_type": "display_data"
    }
   ],
   "source": [
    "h2o.shutdown(prompt=FALSE)"
   ]
  },
  {
   "cell_type": "code",
   "execution_count": null,
   "metadata": {
    "collapsed": true
   },
   "outputs": [],
   "source": []
  }
 ],
 "metadata": {
  "kernelspec": {
   "display_name": "R",
   "language": "R",
   "name": "ir"
  },
  "language_info": {
   "codemirror_mode": "r",
   "file_extension": ".r",
   "mimetype": "text/x-r-source",
   "name": "R",
   "pygments_lexer": "r",
   "version": "3.3.2"
  }
 },
 "nbformat": 4,
 "nbformat_minor": 2
}
