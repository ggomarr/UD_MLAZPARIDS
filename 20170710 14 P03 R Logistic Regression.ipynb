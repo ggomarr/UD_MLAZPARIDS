{
 "cells": [
  {
   "cell_type": "markdown",
   "metadata": {},
   "source": [
    "# Libraries"
   ]
  },
  {
   "cell_type": "code",
   "execution_count": 41,
   "metadata": {},
   "outputs": [
    {
     "name": "stderr",
     "output_type": "stream",
     "text": [
      "Installing package into ‘/home/ggomarr/R/x86_64-pc-linux-gnu-library/3.3’\n",
      "(as ‘lib’ is unspecified)\n"
     ]
    }
   ],
   "source": [
    "# install.packages('ElemStatLearn')"
   ]
  },
  {
   "cell_type": "code",
   "execution_count": 42,
   "metadata": {},
   "outputs": [],
   "source": [
    "library(caTools)\n",
    "library(ggplot2)\n",
    "library(repr)\n",
    "options(repr.plot.width=4, repr.plot.height=4)\n",
    "library(ElemStatLearn)"
   ]
  },
  {
   "cell_type": "markdown",
   "metadata": {},
   "source": [
    "# Read data"
   ]
  },
  {
   "cell_type": "code",
   "execution_count": 11,
   "metadata": {
    "scrolled": true
   },
   "outputs": [
    {
     "name": "stdout",
     "output_type": "stream",
     "text": [
      "'data.frame':\t400 obs. of  4 variables:\n",
      " $ Gender         : Factor w/ 2 levels \"Female\",\"Male\": 2 2 1 1 2 2 1 1 2 1 ...\n",
      " $ Age            : int  19 35 26 27 19 27 27 32 25 35 ...\n",
      " $ EstimatedSalary: int  19000 20000 43000 57000 76000 58000 84000 150000 33000 65000 ...\n",
      " $ Purchased      : int  0 0 0 0 0 0 0 1 0 0 ...\n"
     ]
    }
   ],
   "source": [
    "root_dir=\"~/Documents/Education/20170623 Udemy - Machine Learning A-Z: Hands-On Python and R in Data Science/\"\n",
    "work_dir=\"Course data/Part 3 - Classification/Section 14 - Logistic Regression\"\n",
    "setwd(paste(root_dir,work_dir,sep=''))\n",
    "df=read.csv('Social_Network_Ads.csv')[c('Gender','Age','EstimatedSalary','Purchased')]\n",
    "str(df)"
   ]
  },
  {
   "cell_type": "markdown",
   "metadata": {},
   "source": [
    "# Categorize"
   ]
  },
  {
   "cell_type": "code",
   "execution_count": 13,
   "metadata": {},
   "outputs": [
    {
     "name": "stdout",
     "output_type": "stream",
     "text": [
      "'data.frame':\t400 obs. of  4 variables:\n",
      " $ Gender         : Factor w/ 2 levels \"Female\",\"Male\": 2 2 1 1 2 2 1 1 2 1 ...\n",
      " $ Age            : int  19 35 26 27 19 27 27 32 25 35 ...\n",
      " $ EstimatedSalary: int  19000 20000 43000 57000 76000 58000 84000 150000 33000 65000 ...\n",
      " $ Purchased      : int  0 0 0 0 0 0 0 1 0 0 ...\n"
     ]
    }
   ],
   "source": [
    "df$Gender=factor(df$Gender)\n",
    "str(df)"
   ]
  },
  {
   "cell_type": "markdown",
   "metadata": {},
   "source": [
    "# Scale"
   ]
  },
  {
   "cell_type": "code",
   "execution_count": 14,
   "metadata": {
    "scrolled": true
   },
   "outputs": [
    {
     "name": "stdout",
     "output_type": "stream",
     "text": [
      "'data.frame':\t400 obs. of  4 variables:\n",
      " $ Gender         : Factor w/ 2 levels \"Female\",\"Male\": 2 2 1 1 2 2 1 1 2 1 ...\n",
      " $ Age            : num  -1.78 -0.253 -1.112 -1.016 -1.78 ...\n",
      " $ EstimatedSalary: num  -1.488 -1.459 -0.784 -0.374 0.184 ...\n",
      " $ Purchased      : int  0 0 0 0 0 0 0 1 0 0 ...\n"
     ]
    }
   ],
   "source": [
    "df[,c('Age','EstimatedSalary')]=scale(df[,c('Age','EstimatedSalary')])\n",
    "str(df)"
   ]
  },
  {
   "cell_type": "markdown",
   "metadata": {},
   "source": [
    "# Train/test"
   ]
  },
  {
   "cell_type": "code",
   "execution_count": 15,
   "metadata": {},
   "outputs": [
    {
     "name": "stdout",
     "output_type": "stream",
     "text": [
      "[1] Training set: 300x4\n",
      "[1] Test set: 100x4\n"
     ]
    }
   ],
   "source": [
    "set.seed(123)\n",
    "split=sample.split(df$Purchased, SplitRatio=0.75)\n",
    "training_set=subset(df,split)\n",
    "test_set=subset(df,!split)\n",
    "print(noquote(paste('Training set:',paste(dim(training_set),collapse='x'))))\n",
    "print(noquote(paste('Test set:',paste(dim(test_set),collapse='x'))))"
   ]
  },
  {
   "cell_type": "markdown",
   "metadata": {},
   "source": [
    "# Logistic regression model"
   ]
  },
  {
   "cell_type": "markdown",
   "metadata": {},
   "source": [
    "## Age, Salary and Gender"
   ]
  },
  {
   "cell_type": "code",
   "execution_count": 16,
   "metadata": {},
   "outputs": [
    {
     "data": {
      "text/plain": [
       "\n",
       "Call:\n",
       "glm(formula = Purchased ~ ., family = binomial, data = training_set)\n",
       "\n",
       "Deviance Residuals: \n",
       "    Min       1Q   Median       3Q      Max  \n",
       "-3.0481  -0.5102  -0.1123   0.3135   2.4775  \n",
       "\n",
       "Coefficients:\n",
       "                Estimate Std. Error z value Pr(>|z|)    \n",
       "(Intercept)      -1.3555     0.2989  -4.535 5.76e-06 ***\n",
       "GenderMale        0.2962     0.3623   0.817    0.414    \n",
       "Age               2.6801     0.3548   7.553 4.25e-14 ***\n",
       "EstimatedSalary   1.3743     0.2280   6.026 1.68e-09 ***\n",
       "---\n",
       "Signif. codes:  0 ‘***’ 0.001 ‘**’ 0.01 ‘*’ 0.05 ‘.’ 0.1 ‘ ’ 1\n",
       "\n",
       "(Dispersion parameter for binomial family taken to be 1)\n",
       "\n",
       "    Null deviance: 390.89  on 299  degrees of freedom\n",
       "Residual deviance: 199.11  on 296  degrees of freedom\n",
       "AIC: 207.11\n",
       "\n",
       "Number of Fisher Scoring iterations: 6\n"
      ]
     },
     "metadata": {},
     "output_type": "display_data"
    }
   ],
   "source": [
    "log_reg=glm(formula=Purchased~.,family=binomial,data=training_set)\n",
    "summary(log_reg)"
   ]
  },
  {
   "cell_type": "code",
   "execution_count": 24,
   "metadata": {},
   "outputs": [
    {
     "data": {
      "text/html": [
       "<dl class=dl-horizontal>\n",
       "\t<dt>2</dt>\n",
       "\t\t<dd>0.0231359024798942</dd>\n",
       "\t<dt>4</dt>\n",
       "\t\t<dd>0.0100194236278922</dd>\n",
       "\t<dt>5</dt>\n",
       "\t\t<dd>0.00377146119099623</dd>\n",
       "\t<dt>9</dt>\n",
       "\t\t<dd>0.00309265792664847</dd>\n",
       "\t<dt>12</dt>\n",
       "\t\t<dd>0.00636634273735301</dd>\n",
       "\t<dt>18</dt>\n",
       "\t\t<dd>0.279989245059064</dd>\n",
       "</dl>\n"
      ],
      "text/latex": [
       "\\begin{description*}\n",
       "\\item[2] 0.0231359024798942\n",
       "\\item[4] 0.0100194236278922\n",
       "\\item[5] 0.00377146119099623\n",
       "\\item[9] 0.00309265792664847\n",
       "\\item[12] 0.00636634273735301\n",
       "\\item[18] 0.279989245059064\n",
       "\\end{description*}\n"
      ],
      "text/markdown": [
       "2\n",
       ":   0.02313590247989424\n",
       ":   0.01001942362789225\n",
       ":   0.003771461190996239\n",
       ":   0.0030926579266484712\n",
       ":   0.0063663427373530118\n",
       ":   0.279989245059064\n",
       "\n"
      ],
      "text/plain": [
       "          2           4           5           9          12          18 \n",
       "0.023135902 0.010019424 0.003771461 0.003092658 0.006366343 0.279989245 "
      ]
     },
     "metadata": {},
     "output_type": "display_data"
    },
    {
     "data": {
      "text/html": [
       "<dl class=dl-horizontal>\n",
       "\t<dt>380</dt>\n",
       "\t\t<dd>0.876751288363542</dd>\n",
       "\t<dt>383</dt>\n",
       "\t\t<dd>0.955128783693771</dd>\n",
       "\t<dt>389</dt>\n",
       "\t\t<dd>0.472339208705725</dd>\n",
       "\t<dt>392</dt>\n",
       "\t\t<dd>0.364912849775209</dd>\n",
       "\t<dt>395</dt>\n",
       "\t\t<dd>0.190833122510592</dd>\n",
       "\t<dt>400</dt>\n",
       "\t\t<dd>0.546122526687962</dd>\n",
       "</dl>\n"
      ],
      "text/latex": [
       "\\begin{description*}\n",
       "\\item[380] 0.876751288363542\n",
       "\\item[383] 0.955128783693771\n",
       "\\item[389] 0.472339208705725\n",
       "\\item[392] 0.364912849775209\n",
       "\\item[395] 0.190833122510592\n",
       "\\item[400] 0.546122526687962\n",
       "\\end{description*}\n"
      ],
      "text/markdown": [
       "380\n",
       ":   0.876751288363542383\n",
       ":   0.955128783693771389\n",
       ":   0.472339208705725392\n",
       ":   0.364912849775209395\n",
       ":   0.190833122510592400\n",
       ":   0.546122526687962\n",
       "\n"
      ],
      "text/plain": [
       "      380       383       389       392       395       400 \n",
       "0.8767513 0.9551288 0.4723392 0.3649128 0.1908331 0.5461225 "
      ]
     },
     "metadata": {},
     "output_type": "display_data"
    }
   ],
   "source": [
    "prob_pred=predict(log_reg,type='response',newdata=test_set)\n",
    "head(prob_pred)\n",
    "tail(prob_pred)"
   ]
  },
  {
   "cell_type": "code",
   "execution_count": 25,
   "metadata": {},
   "outputs": [
    {
     "data": {
      "text/html": [
       "<dl class=dl-horizontal>\n",
       "\t<dt>2</dt>\n",
       "\t\t<dd>0</dd>\n",
       "\t<dt>4</dt>\n",
       "\t\t<dd>0</dd>\n",
       "\t<dt>5</dt>\n",
       "\t\t<dd>0</dd>\n",
       "\t<dt>9</dt>\n",
       "\t\t<dd>0</dd>\n",
       "\t<dt>12</dt>\n",
       "\t\t<dd>0</dd>\n",
       "\t<dt>18</dt>\n",
       "\t\t<dd>0</dd>\n",
       "</dl>\n"
      ],
      "text/latex": [
       "\\begin{description*}\n",
       "\\item[2] 0\n",
       "\\item[4] 0\n",
       "\\item[5] 0\n",
       "\\item[9] 0\n",
       "\\item[12] 0\n",
       "\\item[18] 0\n",
       "\\end{description*}\n"
      ],
      "text/markdown": [
       "2\n",
       ":   04\n",
       ":   05\n",
       ":   09\n",
       ":   012\n",
       ":   018\n",
       ":   0\n",
       "\n"
      ],
      "text/plain": [
       " 2  4  5  9 12 18 \n",
       " 0  0  0  0  0  0 "
      ]
     },
     "metadata": {},
     "output_type": "display_data"
    },
    {
     "data": {
      "text/html": [
       "<dl class=dl-horizontal>\n",
       "\t<dt>380</dt>\n",
       "\t\t<dd>1</dd>\n",
       "\t<dt>383</dt>\n",
       "\t\t<dd>1</dd>\n",
       "\t<dt>389</dt>\n",
       "\t\t<dd>0</dd>\n",
       "\t<dt>392</dt>\n",
       "\t\t<dd>0</dd>\n",
       "\t<dt>395</dt>\n",
       "\t\t<dd>0</dd>\n",
       "\t<dt>400</dt>\n",
       "\t\t<dd>1</dd>\n",
       "</dl>\n"
      ],
      "text/latex": [
       "\\begin{description*}\n",
       "\\item[380] 1\n",
       "\\item[383] 1\n",
       "\\item[389] 0\n",
       "\\item[392] 0\n",
       "\\item[395] 0\n",
       "\\item[400] 1\n",
       "\\end{description*}\n"
      ],
      "text/markdown": [
       "380\n",
       ":   1383\n",
       ":   1389\n",
       ":   0392\n",
       ":   0395\n",
       ":   0400\n",
       ":   1\n",
       "\n"
      ],
      "text/plain": [
       "380 383 389 392 395 400 \n",
       "  1   1   0   0   0   1 "
      ]
     },
     "metadata": {},
     "output_type": "display_data"
    }
   ],
   "source": [
    "y_pred=ifelse(prob_pred>0.5,1,0)\n",
    "head(y_pred)\n",
    "tail(y_pred)"
   ]
  },
  {
   "cell_type": "code",
   "execution_count": 32,
   "metadata": {},
   "outputs": [
    {
     "data": {
      "text/plain": [
       "   y_pred\n",
       "     0  1\n",
       "  0 57  7\n",
       "  1 10 26"
      ]
     },
     "metadata": {},
     "output_type": "display_data"
    }
   ],
   "source": [
    "table(test_set$Purchased,y_pred)"
   ]
  },
  {
   "cell_type": "markdown",
   "metadata": {},
   "source": [
    "## Age and Salary (i.e., without Gender)"
   ]
  },
  {
   "cell_type": "code",
   "execution_count": 37,
   "metadata": {},
   "outputs": [
    {
     "data": {
      "text/plain": [
       "\n",
       "Call:\n",
       "glm(formula = Purchased ~ Age + EstimatedSalary, family = binomial, \n",
       "    data = training_set)\n",
       "\n",
       "Deviance Residuals: \n",
       "    Min       1Q   Median       3Q      Max  \n",
       "-3.0753  -0.5235  -0.1161   0.3224   2.3977  \n",
       "\n",
       "Coefficients:\n",
       "                Estimate Std. Error z value Pr(>|z|)    \n",
       "(Intercept)      -1.1799     0.2007  -5.878 4.16e-09 ***\n",
       "Age               2.6383     0.3469   7.606 2.83e-14 ***\n",
       "EstimatedSalary   1.3572     0.2264   5.996 2.03e-09 ***\n",
       "---\n",
       "Signif. codes:  0 ‘***’ 0.001 ‘**’ 0.01 ‘*’ 0.05 ‘.’ 0.1 ‘ ’ 1\n",
       "\n",
       "(Dispersion parameter for binomial family taken to be 1)\n",
       "\n",
       "    Null deviance: 390.89  on 299  degrees of freedom\n",
       "Residual deviance: 199.78  on 297  degrees of freedom\n",
       "AIC: 205.78\n",
       "\n",
       "Number of Fisher Scoring iterations: 6\n"
      ]
     },
     "metadata": {},
     "output_type": "display_data"
    }
   ],
   "source": [
    "log_reg=glm(formula=Purchased~Age+EstimatedSalary,family=binomial,data=training_set)\n",
    "summary(log_reg)"
   ]
  },
  {
   "cell_type": "code",
   "execution_count": 38,
   "metadata": {},
   "outputs": [
    {
     "data": {
      "text/html": [
       "<dl class=dl-horizontal>\n",
       "\t<dt>2</dt>\n",
       "\t\t<dd>0.021287608497734</dd>\n",
       "\t<dt>4</dt>\n",
       "\t\t<dd>0.0125086559135353</dd>\n",
       "\t<dt>5</dt>\n",
       "\t\t<dd>0.00359052561135275</dd>\n",
       "\t<dt>9</dt>\n",
       "\t\t<dd>0.00293707204405926</dd>\n",
       "\t<dt>12</dt>\n",
       "\t\t<dd>0.00800665611203325</dd>\n",
       "\t<dt>18</dt>\n",
       "\t\t<dd>0.254920038540053</dd>\n",
       "</dl>\n"
      ],
      "text/latex": [
       "\\begin{description*}\n",
       "\\item[2] 0.021287608497734\n",
       "\\item[4] 0.0125086559135353\n",
       "\\item[5] 0.00359052561135275\n",
       "\\item[9] 0.00293707204405926\n",
       "\\item[12] 0.00800665611203325\n",
       "\\item[18] 0.254920038540053\n",
       "\\end{description*}\n"
      ],
      "text/markdown": [
       "2\n",
       ":   0.0212876084977344\n",
       ":   0.01250865591353535\n",
       ":   0.003590525611352759\n",
       ":   0.0029370720440592612\n",
       ":   0.0080066561120332518\n",
       ":   0.254920038540053\n",
       "\n"
      ],
      "text/plain": [
       "          2           4           5           9          12          18 \n",
       "0.021287608 0.012508656 0.003590526 0.002937072 0.008006656 0.254920039 "
      ]
     },
     "metadata": {},
     "output_type": "display_data"
    },
    {
     "data": {
      "text/html": [
       "<dl class=dl-horizontal>\n",
       "\t<dt>380</dt>\n",
       "\t\t<dd>0.88892562563042</dd>\n",
       "\t<dt>383</dt>\n",
       "\t\t<dd>0.959831618587817</dd>\n",
       "\t<dt>389</dt>\n",
       "\t\t<dd>0.43763701368317</dd>\n",
       "\t<dt>392</dt>\n",
       "\t\t<dd>0.334343299523498</dd>\n",
       "\t<dt>395</dt>\n",
       "\t\t<dd>0.219420894392359</dd>\n",
       "\t<dt>400</dt>\n",
       "\t\t<dd>0.582294577620762</dd>\n",
       "</dl>\n"
      ],
      "text/latex": [
       "\\begin{description*}\n",
       "\\item[380] 0.88892562563042\n",
       "\\item[383] 0.959831618587817\n",
       "\\item[389] 0.43763701368317\n",
       "\\item[392] 0.334343299523498\n",
       "\\item[395] 0.219420894392359\n",
       "\\item[400] 0.582294577620762\n",
       "\\end{description*}\n"
      ],
      "text/markdown": [
       "380\n",
       ":   0.88892562563042383\n",
       ":   0.959831618587817389\n",
       ":   0.43763701368317392\n",
       ":   0.334343299523498395\n",
       ":   0.219420894392359400\n",
       ":   0.582294577620762\n",
       "\n"
      ],
      "text/plain": [
       "      380       383       389       392       395       400 \n",
       "0.8889256 0.9598316 0.4376370 0.3343433 0.2194209 0.5822946 "
      ]
     },
     "metadata": {},
     "output_type": "display_data"
    }
   ],
   "source": [
    "prob_pred=predict(log_reg,type='response',newdata=test_set)\n",
    "head(prob_pred)\n",
    "tail(prob_pred)"
   ]
  },
  {
   "cell_type": "code",
   "execution_count": 39,
   "metadata": {},
   "outputs": [
    {
     "data": {
      "text/html": [
       "<dl class=dl-horizontal>\n",
       "\t<dt>2</dt>\n",
       "\t\t<dd>0</dd>\n",
       "\t<dt>4</dt>\n",
       "\t\t<dd>0</dd>\n",
       "\t<dt>5</dt>\n",
       "\t\t<dd>0</dd>\n",
       "\t<dt>9</dt>\n",
       "\t\t<dd>0</dd>\n",
       "\t<dt>12</dt>\n",
       "\t\t<dd>0</dd>\n",
       "\t<dt>18</dt>\n",
       "\t\t<dd>0</dd>\n",
       "</dl>\n"
      ],
      "text/latex": [
       "\\begin{description*}\n",
       "\\item[2] 0\n",
       "\\item[4] 0\n",
       "\\item[5] 0\n",
       "\\item[9] 0\n",
       "\\item[12] 0\n",
       "\\item[18] 0\n",
       "\\end{description*}\n"
      ],
      "text/markdown": [
       "2\n",
       ":   04\n",
       ":   05\n",
       ":   09\n",
       ":   012\n",
       ":   018\n",
       ":   0\n",
       "\n"
      ],
      "text/plain": [
       " 2  4  5  9 12 18 \n",
       " 0  0  0  0  0  0 "
      ]
     },
     "metadata": {},
     "output_type": "display_data"
    },
    {
     "data": {
      "text/html": [
       "<dl class=dl-horizontal>\n",
       "\t<dt>380</dt>\n",
       "\t\t<dd>1</dd>\n",
       "\t<dt>383</dt>\n",
       "\t\t<dd>1</dd>\n",
       "\t<dt>389</dt>\n",
       "\t\t<dd>0</dd>\n",
       "\t<dt>392</dt>\n",
       "\t\t<dd>0</dd>\n",
       "\t<dt>395</dt>\n",
       "\t\t<dd>0</dd>\n",
       "\t<dt>400</dt>\n",
       "\t\t<dd>1</dd>\n",
       "</dl>\n"
      ],
      "text/latex": [
       "\\begin{description*}\n",
       "\\item[380] 1\n",
       "\\item[383] 1\n",
       "\\item[389] 0\n",
       "\\item[392] 0\n",
       "\\item[395] 0\n",
       "\\item[400] 1\n",
       "\\end{description*}\n"
      ],
      "text/markdown": [
       "380\n",
       ":   1383\n",
       ":   1389\n",
       ":   0392\n",
       ":   0395\n",
       ":   0400\n",
       ":   1\n",
       "\n"
      ],
      "text/plain": [
       "380 383 389 392 395 400 \n",
       "  1   1   0   0   0   1 "
      ]
     },
     "metadata": {},
     "output_type": "display_data"
    }
   ],
   "source": [
    "y_pred=ifelse(prob_pred>0.5,1,0)\n",
    "head(y_pred)\n",
    "tail(y_pred)"
   ]
  },
  {
   "cell_type": "code",
   "execution_count": 40,
   "metadata": {},
   "outputs": [
    {
     "data": {
      "text/plain": [
       "   y_pred\n",
       "     0  1\n",
       "  0 57  7\n",
       "  1 10 26"
      ]
     },
     "metadata": {},
     "output_type": "display_data"
    }
   ],
   "source": [
    "table(test_set$Purchased,y_pred)"
   ]
  },
  {
   "cell_type": "code",
   "execution_count": 43,
   "metadata": {},
   "outputs": [],
   "source": [
    "range_plot_X=function(x,num,ext){\n",
    "    delta=max(x)-min(x)\n",
    "    return(seq(min(x)-ext*delta,max(x)+ext*delta,length.out=num))\n",
    "}"
   ]
  },
  {
   "cell_type": "code",
   "execution_count": 48,
   "metadata": {},
   "outputs": [
    {
     "data": {
      "image/png": "[encoded data removed]",
      "text/plain": [
       "Plot with title “Logistic Regression (Training set)”"
      ]
     },
     "metadata": {},
     "output_type": "display_data"
    }
   ],
   "source": [
    "X_plot=range_plot_X(df$Age,1000,0.1)\n",
    "Y_plot=range_plot_X(df$EstimatedSalary,1000,0.1)\n",
    "XY_grid=expand.grid(X_plot,Y_plot)\n",
    "colnames(XY_grid)=c('Age','EstimatedSalary')\n",
    "prob_pred_grid=predict(log_reg,type='response',newdata=XY_grid)\n",
    "y_pred_grid=ifelse(prob_pred_grid>0.5,1,0)\n",
    "plot(df[c('Age','EstimatedSalary')],\n",
    "     main='Logistic Regression (Training set)',\n",
    "     xlab='Age',ylab='Estimated Salary',\n",
    "     xlim=range(X_plot),ylim=range(Y_plot))\n",
    "contour(X_plot,Y_plot,matrix(as.numeric(y_pred_grid),length(X_plot),length(Y_plot)),add=TRUE)\n",
    "points(XY_grid,pch='.',col=ifelse(y_pred_grid==1,'springgreen3','tomato'))\n",
    "points(training_set[c('Age','EstimatedSalary')],pch=21,bg=ifelse(training_set$Purchased==1,'green4','red3'))"
   ]
  },
  {
   "cell_type": "code",
   "execution_count": 49,
   "metadata": {},
   "outputs": [
    {
     "data": {
      "image/png": "[encoded data removed]",
      "text/plain": [
       "Plot with title “Logistic Regression (Test set)”"
      ]
     },
     "metadata": {},
     "output_type": "display_data"
    }
   ],
   "source": [
    "X_plot=range_plot_X(df$Age,1000,0.1)\n",
    "Y_plot=range_plot_X(df$EstimatedSalary,1000,0.1)\n",
    "XY_grid=expand.grid(X_plot,Y_plot)\n",
    "colnames(XY_grid)=c('Age','EstimatedSalary')\n",
    "prob_pred_grid=predict(log_reg,type='response',newdata=XY_grid)\n",
    "y_pred_grid=ifelse(prob_pred_grid>0.5,1,0)\n",
    "plot(df[c('Age','EstimatedSalary')],\n",
    "     main='Logistic Regression (Test set)',\n",
    "     xlab='Age',ylab='Estimated Salary',\n",
    "     xlim=range(X_plot),ylim=range(Y_plot))\n",
    "contour(X_plot,Y_plot,matrix(as.numeric(y_pred_grid),length(X_plot),length(Y_plot)),add=TRUE)\n",
    "points(XY_grid,pch='.',col=ifelse(y_pred_grid==1,'springgreen3','tomato'))\n",
    "points(test_set[c('Age','EstimatedSalary')],pch=21,bg=ifelse(test_set$Purchased==1,'green4','red3'))"
   ]
  },
  {
   "cell_type": "code",
   "execution_count": null,
   "metadata": {
    "collapsed": true
   },
   "outputs": [],
   "source": []
  }
 ],
 "metadata": {
  "kernelspec": {
   "display_name": "R",
   "language": "R",
   "name": "ir"
  },
  "language_info": {
   "codemirror_mode": "r",
   "file_extension": ".r",
   "mimetype": "text/x-r-source",
   "name": "R",
   "pygments_lexer": "r",
   "version": "3.3.2"
  }
 },
 "nbformat": 4,
 "nbformat_minor": 2
}
