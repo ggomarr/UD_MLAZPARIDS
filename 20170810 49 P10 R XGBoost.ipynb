{
 "cells": [
  {
   "cell_type": "markdown",
   "metadata": {},
   "source": [
    "# Libraries"
   ]
  },
  {
   "cell_type": "code",
   "execution_count": 1,
   "metadata": {},
   "outputs": [
    {
     "name": "stderr",
     "output_type": "stream",
     "text": [
      "Installing package into ‘/home/ggomarr/R/x86_64-pc-linux-gnu-library/3.3’\n",
      "(as ‘lib’ is unspecified)\n"
     ]
    }
   ],
   "source": [
    "# install.packages('xgboost')"
   ]
  },
  {
   "cell_type": "code",
   "execution_count": 3,
   "metadata": {
    "scrolled": false
   },
   "outputs": [],
   "source": [
    "library(caTools)\n",
    "library(ggplot2)\n",
    "library(repr)\n",
    "options(repr.plot.width=4, repr.plot.height=4)\n",
    "library(xgboost)"
   ]
  },
  {
   "cell_type": "markdown",
   "metadata": {},
   "source": [
    "# Without one hot encoding"
   ]
  },
  {
   "cell_type": "markdown",
   "metadata": {},
   "source": [
    "## Read data"
   ]
  },
  {
   "cell_type": "code",
   "execution_count": 4,
   "metadata": {
    "scrolled": true
   },
   "outputs": [
    {
     "name": "stdout",
     "output_type": "stream",
     "text": [
      "'data.frame':\t10000 obs. of  11 variables:\n",
      " $ Geography      : Factor w/ 3 levels \"France\",\"Germany\",..: 1 3 1 1 3 3 1 2 1 1 ...\n",
      " $ Gender         : Factor w/ 2 levels \"Female\",\"Male\": 1 1 1 1 1 2 2 1 2 2 ...\n",
      " $ Age            : int  42 41 42 39 43 44 50 29 44 27 ...\n",
      " $ CreditScore    : int  619 608 502 699 850 645 822 376 501 684 ...\n",
      " $ EstimatedSalary: num  101349 112543 113932 93827 79084 ...\n",
      " $ Tenure         : int  2 1 8 1 2 8 7 4 4 2 ...\n",
      " $ Balance        : num  0 83808 159661 0 125511 ...\n",
      " $ NumOfProducts  : int  1 1 3 2 1 2 2 4 2 1 ...\n",
      " $ HasCrCard      : int  1 0 1 0 1 1 1 1 0 1 ...\n",
      " $ IsActiveMember : int  1 1 0 0 1 0 1 0 1 1 ...\n",
      " $ Exited         : int  1 0 1 0 0 1 0 1 0 0 ...\n"
     ]
    }
   ],
   "source": [
    "root_dir=\"~/Documents/Education/20170623 Udemy - Machine Learning A-Z: Hands-On Python and R in Data Science/\"\n",
    "work_dir=\"Course data/Part 10 - Model Selection & Boosting/Section 49 - XGBoost\"\n",
    "setwd(paste(root_dir,work_dir,sep=''))\n",
    "df=read.csv('Churn_Modelling.csv')[c('Geography','Gender','Age','CreditScore','EstimatedSalary',\n",
    "                                     'Tenure','Balance','NumOfProducts','HasCrCard','IsActiveMember',\n",
    "                                     'Exited')]\n",
    "str(df)"
   ]
  },
  {
   "cell_type": "markdown",
   "metadata": {},
   "source": [
    "## Factorize an numerize features"
   ]
  },
  {
   "cell_type": "code",
   "execution_count": 5,
   "metadata": {},
   "outputs": [
    {
     "name": "stdout",
     "output_type": "stream",
     "text": [
      "'data.frame':\t10000 obs. of  11 variables:\n",
      " $ Geography      : num  1 3 1 1 3 3 1 2 1 1 ...\n",
      " $ Gender         : num  1 1 1 1 1 2 2 1 2 2 ...\n",
      " $ Age            : int  42 41 42 39 43 44 50 29 44 27 ...\n",
      " $ CreditScore    : int  619 608 502 699 850 645 822 376 501 684 ...\n",
      " $ EstimatedSalary: num  101349 112543 113932 93827 79084 ...\n",
      " $ Tenure         : int  2 1 8 1 2 8 7 4 4 2 ...\n",
      " $ Balance        : num  0 83808 159661 0 125511 ...\n",
      " $ NumOfProducts  : int  1 1 3 2 1 2 2 4 2 1 ...\n",
      " $ HasCrCard      : int  1 0 1 0 1 1 1 1 0 1 ...\n",
      " $ IsActiveMember : int  1 1 0 0 1 0 1 0 1 1 ...\n",
      " $ Exited         : int  1 0 1 0 0 1 0 1 0 0 ...\n"
     ]
    }
   ],
   "source": [
    "df$Geography=as.numeric(factor(df$Geography))\n",
    "df$Gender=as.numeric(factor(df$Gender))\n",
    "str(df)"
   ]
  },
  {
   "cell_type": "markdown",
   "metadata": {},
   "source": [
    "## Scale"
   ]
  },
  {
   "cell_type": "code",
   "execution_count": 6,
   "metadata": {
    "scrolled": true
   },
   "outputs": [],
   "source": [
    "# scale_features=c('Geography','Gender','Age','CreditScore','EstimatedSalary',\n",
    "#                  'Tenure','Balance','NumOfProducts','HasCrCard','IsActiveMember')\n",
    "# df[,scale_features]=scale(df[,scale_features])\n",
    "# str(df)"
   ]
  },
  {
   "cell_type": "markdown",
   "metadata": {},
   "source": [
    "## Train/test"
   ]
  },
  {
   "cell_type": "code",
   "execution_count": 7,
   "metadata": {},
   "outputs": [
    {
     "name": "stdout",
     "output_type": "stream",
     "text": [
      "Training set: 8000x11\n",
      "Test set: 2000x11\n"
     ]
    }
   ],
   "source": [
    "set.seed(123)\n",
    "split=sample.split(df$Exited, SplitRatio=0.8)\n",
    "training_set=subset(df,split)\n",
    "test_set=subset(df,!split)\n",
    "writeLines(noquote(paste('Training set:',paste(dim(training_set),collapse='x'))))\n",
    "writeLines(noquote(paste('Test set:',paste(dim(test_set),collapse='x'))))"
   ]
  },
  {
   "cell_type": "markdown",
   "metadata": {},
   "source": [
    "## XGBoost"
   ]
  },
  {
   "cell_type": "code",
   "execution_count": 13,
   "metadata": {
    "scrolled": false
   },
   "outputs": [
    {
     "name": "stdout",
     "output_type": "stream",
     "text": [
      "\n",
      "=== XGBoost ===\n",
      "[1]\ttrain-rmse:0.419544 \n",
      "[2]\ttrain-rmse:0.372652 \n",
      "[3]\ttrain-rmse:0.344825 \n",
      "[4]\ttrain-rmse:0.329253 \n",
      "[5]\ttrain-rmse:0.318175 \n",
      "[6]\ttrain-rmse:0.311982 \n",
      "[7]\ttrain-rmse:0.308010 \n",
      "[8]\ttrain-rmse:0.305612 \n",
      "[9]\ttrain-rmse:0.303504 \n",
      "[10]\ttrain-rmse:0.301552 \n",
      "\n",
      "Classifier summary:\n",
      "               Length Class              Mode       \n",
      "handle             1  xgb.Booster.handle externalptr\n",
      "raw            36294  -none-             raw        \n",
      "niter              1  -none-             numeric    \n",
      "evaluation_log     2  data.table         list       \n",
      "call              13  -none-             call       \n",
      "params             1  -none-             list       \n",
      "callbacks          3  -none-             list       \n",
      "\n",
      "Confusion matrix:\n",
      "   y_pred\n",
      "    FALSE TRUE\n",
      "  0  1530   63\n",
      "  1   208  199\n"
     ]
    }
   ],
   "source": [
    "writeLines('\\n=== XGBoost ===')\n",
    "my_classifier=xgboost(data=as.matrix(training_set[,names(training_set)!='Exited']),\n",
    "                      label=training_set$Exited,\n",
    "                      nrounds=10)\n",
    "writeLines('\\nClassifier summary:')\n",
    "print(summary(my_classifier))\n",
    "prob_pred=predict(my_classifier,newdata=as.matrix(test_set[,names(test_set)!='Exited']))\n",
    "y_pred=as.vector(prob_pred>0.5)\n",
    "writeLines('\\nConfusion matrix:')\n",
    "print(table(test_set$Exited,y_pred))"
   ]
  },
  {
   "cell_type": "markdown",
   "metadata": {},
   "source": [
    "# With one hot encoding of Geography"
   ]
  },
  {
   "cell_type": "markdown",
   "metadata": {},
   "source": [
    "## Read data"
   ]
  },
  {
   "cell_type": "code",
   "execution_count": 14,
   "metadata": {
    "scrolled": true
   },
   "outputs": [
    {
     "name": "stdout",
     "output_type": "stream",
     "text": [
      "'data.frame':\t10000 obs. of  11 variables:\n",
      " $ Geography      : Factor w/ 3 levels \"France\",\"Germany\",..: 1 3 1 1 3 3 1 2 1 1 ...\n",
      " $ Gender         : Factor w/ 2 levels \"Female\",\"Male\": 1 1 1 1 1 2 2 1 2 2 ...\n",
      " $ Age            : int  42 41 42 39 43 44 50 29 44 27 ...\n",
      " $ CreditScore    : int  619 608 502 699 850 645 822 376 501 684 ...\n",
      " $ EstimatedSalary: num  101349 112543 113932 93827 79084 ...\n",
      " $ Tenure         : int  2 1 8 1 2 8 7 4 4 2 ...\n",
      " $ Balance        : num  0 83808 159661 0 125511 ...\n",
      " $ NumOfProducts  : int  1 1 3 2 1 2 2 4 2 1 ...\n",
      " $ HasCrCard      : int  1 0 1 0 1 1 1 1 0 1 ...\n",
      " $ IsActiveMember : int  1 1 0 0 1 0 1 0 1 1 ...\n",
      " $ Exited         : int  1 0 1 0 0 1 0 1 0 0 ...\n"
     ]
    }
   ],
   "source": [
    "root_dir=\"~/Documents/Education/20170623 Udemy - Machine Learning A-Z: Hands-On Python and R in Data Science/\"\n",
    "work_dir=\"Course data/Part 10 - Model Selection & Boosting/Section 49 - XGBoost\"\n",
    "setwd(paste(root_dir,work_dir,sep=''))\n",
    "df=read.csv('Churn_Modelling.csv')[c('Geography','Gender','Age','CreditScore','EstimatedSalary',\n",
    "                                     'Tenure','Balance','NumOfProducts','HasCrCard','IsActiveMember',\n",
    "                                     'Exited')]\n",
    "str(df)"
   ]
  },
  {
   "cell_type": "markdown",
   "metadata": {},
   "source": [
    "## Factorize an numerize features"
   ]
  },
  {
   "cell_type": "code",
   "execution_count": 15,
   "metadata": {},
   "outputs": [
    {
     "name": "stdout",
     "output_type": "stream",
     "text": [
      "'data.frame':\t10000 obs. of  12 variables:\n",
      " $ GeographyGermany: num  0 0 0 0 0 0 0 1 0 0 ...\n",
      " $ GeographySpain  : num  0 1 0 0 1 1 0 0 0 0 ...\n",
      " $ Gender          : num  1 1 1 1 1 2 2 1 2 2 ...\n",
      " $ Age             : int  42 41 42 39 43 44 50 29 44 27 ...\n",
      " $ CreditScore     : int  619 608 502 699 850 645 822 376 501 684 ...\n",
      " $ EstimatedSalary : num  101349 112543 113932 93827 79084 ...\n",
      " $ Tenure          : int  2 1 8 1 2 8 7 4 4 2 ...\n",
      " $ Balance         : num  0 83808 159661 0 125511 ...\n",
      " $ NumOfProducts   : int  1 1 3 2 1 2 2 4 2 1 ...\n",
      " $ HasCrCard       : int  1 0 1 0 1 1 1 1 0 1 ...\n",
      " $ IsActiveMember  : int  1 1 0 0 1 0 1 0 1 1 ...\n",
      " $ Exited          : int  1 0 1 0 0 1 0 1 0 0 ...\n"
     ]
    }
   ],
   "source": [
    "df=cbind(data.frame(model.matrix(~Geography-1,df))[-1],df[,!(colnames(df)=='Geography')])\n",
    "df$Gender=as.numeric(factor(df$Gender))\n",
    "str(df)"
   ]
  },
  {
   "cell_type": "markdown",
   "metadata": {},
   "source": [
    "## Scale"
   ]
  },
  {
   "cell_type": "code",
   "execution_count": 16,
   "metadata": {
    "scrolled": true
   },
   "outputs": [],
   "source": [
    "# scale_features=c('GeographyGermany','GeographySpain','Gender','Age','CreditScore','EstimatedSalary',\n",
    "#                  'Tenure','Balance','NumOfProducts','HasCrCard','IsActiveMember')\n",
    "# df[,scale_features]=scale(df[,scale_features])\n",
    "# str(df)"
   ]
  },
  {
   "cell_type": "markdown",
   "metadata": {},
   "source": [
    "## Train/test"
   ]
  },
  {
   "cell_type": "code",
   "execution_count": 17,
   "metadata": {},
   "outputs": [
    {
     "name": "stdout",
     "output_type": "stream",
     "text": [
      "Training set: 8000x12\n",
      "Test set: 2000x12\n"
     ]
    }
   ],
   "source": [
    "set.seed(123)\n",
    "split=sample.split(df$Exited, SplitRatio=0.8)\n",
    "training_set=subset(df,split)\n",
    "test_set=subset(df,!split)\n",
    "writeLines(noquote(paste('Training set:',paste(dim(training_set),collapse='x'))))\n",
    "writeLines(noquote(paste('Test set:',paste(dim(test_set),collapse='x'))))"
   ]
  },
  {
   "cell_type": "markdown",
   "metadata": {},
   "source": [
    "## XGBoost"
   ]
  },
  {
   "cell_type": "code",
   "execution_count": 18,
   "metadata": {
    "scrolled": false
   },
   "outputs": [
    {
     "name": "stdout",
     "output_type": "stream",
     "text": [
      "\n",
      "=== XGBoost ===\n",
      "[1]\ttrain-rmse:0.417724 \n",
      "[2]\ttrain-rmse:0.369587 \n",
      "[3]\ttrain-rmse:0.342100 \n",
      "[4]\ttrain-rmse:0.325539 \n",
      "[5]\ttrain-rmse:0.315935 \n",
      "[6]\ttrain-rmse:0.310204 \n",
      "[7]\ttrain-rmse:0.305209 \n",
      "[8]\ttrain-rmse:0.302848 \n",
      "[9]\ttrain-rmse:0.300243 \n",
      "[10]\ttrain-rmse:0.296988 \n",
      "\n",
      "Classifier summary:\n",
      "               Length Class              Mode       \n",
      "handle             1  xgb.Booster.handle externalptr\n",
      "raw            36942  -none-             raw        \n",
      "niter              1  -none-             numeric    \n",
      "evaluation_log     2  data.table         list       \n",
      "call              13  -none-             call       \n",
      "params             1  -none-             list       \n",
      "callbacks          3  -none-             list       \n",
      "\n",
      "Confusion matrix:\n",
      "   y_pred\n",
      "    FALSE TRUE\n",
      "  0  1539   54\n",
      "  1   209  198\n"
     ]
    }
   ],
   "source": [
    "writeLines('\\n=== XGBoost ===')\n",
    "my_classifier=xgboost(data=as.matrix(training_set[,names(training_set)!='Exited']),\n",
    "                      label=training_set$Exited,\n",
    "                      nrounds=10)\n",
    "writeLines('\\nClassifier summary:')\n",
    "print(summary(my_classifier))\n",
    "prob_pred=predict(my_classifier,newdata=as.matrix(test_set[,names(test_set)!='Exited']))\n",
    "y_pred=as.vector(prob_pred>0.5)\n",
    "writeLines('\\nConfusion matrix:')\n",
    "print(table(test_set$Exited,y_pred))"
   ]
  },
  {
   "cell_type": "code",
   "execution_count": null,
   "metadata": {
    "collapsed": true
   },
   "outputs": [],
   "source": []
  }
 ],
 "metadata": {
  "kernelspec": {
   "display_name": "R",
   "language": "R",
   "name": "ir"
  },
  "language_info": {
   "codemirror_mode": "r",
   "file_extension": ".r",
   "mimetype": "text/x-r-source",
   "name": "R",
   "pygments_lexer": "r",
   "version": "3.3.2"
  }
 },
 "nbformat": 4,
 "nbformat_minor": 2
}
