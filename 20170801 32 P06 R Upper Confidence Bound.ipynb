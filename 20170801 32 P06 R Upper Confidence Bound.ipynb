{
 "cells": [
  {
   "cell_type": "markdown",
   "metadata": {
    "deletable": true,
    "editable": true
   },
   "source": [
    "# Libraries"
   ]
  },
  {
   "cell_type": "code",
   "execution_count": 1,
   "metadata": {
    "collapsed": false,
    "deletable": true,
    "editable": true
   },
   "outputs": [],
   "source": [
    "# install.packages('')"
   ]
  },
  {
   "cell_type": "code",
   "execution_count": 2,
   "metadata": {
    "collapsed": false,
    "deletable": true,
    "editable": true
   },
   "outputs": [],
   "source": [
    "library(caTools)\n",
    "library(ggplot2)\n",
    "library(repr)\n",
    "options(repr.plot.width=8,repr.plot.height=4)"
   ]
  },
  {
   "cell_type": "markdown",
   "metadata": {
    "deletable": true,
    "editable": true
   },
   "source": [
    "# Read data"
   ]
  },
  {
   "cell_type": "code",
   "execution_count": 3,
   "metadata": {
    "collapsed": false,
    "deletable": true,
    "editable": true,
    "scrolled": true
   },
   "outputs": [
    {
     "name": "stdout",
     "output_type": "stream",
     "text": [
      "'data.frame':\t10000 obs. of  10 variables:\n",
      " $ Ad.1 : int  1 0 0 0 0 1 0 1 0 0 ...\n",
      " $ Ad.2 : int  0 0 0 1 0 1 0 1 0 0 ...\n",
      " $ Ad.3 : int  0 0 0 0 0 0 0 0 0 1 ...\n",
      " $ Ad.4 : int  0 0 0 0 0 0 1 0 0 0 ...\n",
      " $ Ad.5 : int  1 0 0 0 0 0 0 1 0 0 ...\n",
      " $ Ad.6 : int  0 0 0 0 0 0 0 0 0 0 ...\n",
      " $ Ad.7 : int  0 0 0 0 0 0 0 0 0 0 ...\n",
      " $ Ad.8 : int  0 0 0 1 0 0 0 0 0 0 ...\n",
      " $ Ad.9 : int  1 1 0 0 0 0 0 0 0 0 ...\n",
      " $ Ad.10: int  0 0 0 0 0 0 0 0 0 0 ...\n"
     ]
    }
   ],
   "source": [
    "root_dir=\"~/Documents/Education/20170623 Udemy - Machine Learning A-Z: Hands-On Python and R in Data Science/\"\n",
    "work_dir=\"Course data/Part 6 - Reinforcement Learning/Section 32 - Upper Confidence Bound (UCB)\"\n",
    "setwd(paste(root_dir,work_dir,sep=''))\n",
    "df=read.csv('Ads_CTR_Optimisation.csv')\n",
    "str(df)"
   ]
  },
  {
   "cell_type": "code",
   "execution_count": 4,
   "metadata": {
    "collapsed": false,
    "deletable": true,
    "editable": true
   },
   "outputs": [
    {
     "data": {
      "text/html": [
       "<dl class=dl-horizontal>\n",
       "\t<dt>Ad.1</dt>\n",
       "\t\t<dd>0.1703</dd>\n",
       "\t<dt>Ad.2</dt>\n",
       "\t\t<dd>0.1295</dd>\n",
       "\t<dt>Ad.3</dt>\n",
       "\t\t<dd>0.0728</dd>\n",
       "\t<dt>Ad.4</dt>\n",
       "\t\t<dd>0.1196</dd>\n",
       "\t<dt>Ad.5</dt>\n",
       "\t\t<dd>0.2695</dd>\n",
       "\t<dt>Ad.6</dt>\n",
       "\t\t<dd>0.0126</dd>\n",
       "\t<dt>Ad.7</dt>\n",
       "\t\t<dd>0.1112</dd>\n",
       "\t<dt>Ad.8</dt>\n",
       "\t\t<dd>0.2091</dd>\n",
       "\t<dt>Ad.9</dt>\n",
       "\t\t<dd>0.0952</dd>\n",
       "\t<dt>Ad.10</dt>\n",
       "\t\t<dd>0.0489</dd>\n",
       "</dl>\n"
      ],
      "text/latex": [
       "\\begin{description*}\n",
       "\\item[Ad.1] 0.1703\n",
       "\\item[Ad.2] 0.1295\n",
       "\\item[Ad.3] 0.0728\n",
       "\\item[Ad.4] 0.1196\n",
       "\\item[Ad.5] 0.2695\n",
       "\\item[Ad.6] 0.0126\n",
       "\\item[Ad.7] 0.1112\n",
       "\\item[Ad.8] 0.2091\n",
       "\\item[Ad.9] 0.0952\n",
       "\\item[Ad.10] 0.0489\n",
       "\\end{description*}\n"
      ],
      "text/markdown": [
       "Ad.1\n",
       ":   0.1703Ad.2\n",
       ":   0.1295Ad.3\n",
       ":   0.0728Ad.4\n",
       ":   0.1196Ad.5\n",
       ":   0.2695Ad.6\n",
       ":   0.0126Ad.7\n",
       ":   0.1112Ad.8\n",
       ":   0.2091Ad.9\n",
       ":   0.0952Ad.10\n",
       ":   0.0489\n",
       "\n"
      ],
      "text/plain": [
       "  Ad.1   Ad.2   Ad.3   Ad.4   Ad.5   Ad.6   Ad.7   Ad.8   Ad.9  Ad.10 \n",
       "0.1703 0.1295 0.0728 0.1196 0.2695 0.0126 0.1112 0.2091 0.0952 0.0489 "
      ]
     },
     "metadata": {},
     "output_type": "display_data"
    }
   ],
   "source": [
    "colMeans(df)"
   ]
  },
  {
   "cell_type": "markdown",
   "metadata": {
    "deletable": true,
    "editable": true
   },
   "source": [
    "# Upper Confidence Bound"
   ]
  },
  {
   "cell_type": "code",
   "execution_count": 36,
   "metadata": {
    "collapsed": false,
    "deletable": true,
    "editable": true
   },
   "outputs": [],
   "source": [
    "show=function(pos){\n",
    "    if(randomizeStream){\n",
    "        record_pos=sample(1:numShows,1)\n",
    "    } else {\n",
    "        record_pos=sum(n)+1\n",
    "    }\n",
    "    n[pos]<<-n[pos]+1\n",
    "    s[pos]<<-s[pos]+df[record_pos,pos]\n",
    "}\n",
    "\n",
    "compute=function(){\n",
    "    a<<-sapply(1:numBandits,FUN=function(pos){s[pos]/n[pos]})\n",
    "    u<<-sapply(1:numBandits,FUN=function(pos){a[pos]+sqrt(3/2*log(sum(n))/n[pos])})\n",
    "    if(sd(u)!=0){\n",
    "        probs=sapply(u,FUN=function(ucb){exp((ucb-mean(u))/sd(u))})\n",
    "    } else {\n",
    "        probs=rep(1,numBandits)\n",
    "    }\n",
    "    p<<-sapply(probs,FUN=function(prob){prob/sum(probs)})\n",
    "}\n",
    "\n",
    "report=function(){\n",
    "    writeLines(noquote(paste('=== State at round',sum(n),'===')))\n",
    "    writeLines(noquote(paste('Total score:',sum(s))))\n",
    "    writeLines('Bandit  Num  Scr  Avg  UCB  Prb')\n",
    "    for(pos in 1:numBandits){\n",
    "        writeLines(noquote(paste(format(pos,   width=4),' ',\n",
    "                                 format(n[pos],width=4),\n",
    "                                 format(s[pos],width=4),\n",
    "                                 sprintf('%4.2f',a[pos]),\n",
    "                                 sprintf('%4.2f',u[pos]),\n",
    "                                 sprintf('%4.2f',p[pos]))))\n",
    "    }\n",
    "}\n",
    "\n",
    "seed=function(){\n",
    "    seedPosLst=1:numBandits\n",
    "    if(randomizeSeed){\n",
    "        seedPosLst=sample(seedPosLst)\n",
    "    }\n",
    "    writeLines(noquote(paste(c('Seeding [',seedPosLst,']...'),collapse=' ')))\n",
    "    for(pos in seedPosLst){\n",
    "        show(pos)\n",
    "    }\n",
    "    compute()\n",
    "    report()\n",
    "}\n",
    "\n",
    "streamItToMe=function(numRounds=100){\n",
    "    for(r in 1:numRounds){\n",
    "        if(useProbs){\n",
    "            pos=sample(1:numBandits,1,prob=p)\n",
    "        } else {\n",
    "            pos=which.max(u)\n",
    "        }\n",
    "        show(pos)\n",
    "        compute()\n",
    "    }\n",
    "    report()\n",
    "}"
   ]
  },
  {
   "cell_type": "code",
   "execution_count": 37,
   "metadata": {
    "collapsed": false,
    "deletable": true,
    "editable": true
   },
   "outputs": [],
   "source": [
    "seedRounds=1\n",
    "randomizeSeed=FALSE\n",
    "randomizeStream=FALSE\n",
    "useProbs=FALSE"
   ]
  },
  {
   "cell_type": "code",
   "execution_count": 38,
   "metadata": {
    "collapsed": false,
    "deletable": true,
    "editable": true
   },
   "outputs": [],
   "source": [
    "numShows  =dim(df)[1]\n",
    "numBandits=dim(df)[2]\n",
    "n=integer(numBandits)\n",
    "s=integer(numBandits)\n",
    "a=numeric(numBandits)\n",
    "u=numeric(numBandits)\n",
    "p=numeric(numBandits)"
   ]
  },
  {
   "cell_type": "code",
   "execution_count": 39,
   "metadata": {
    "collapsed": false,
    "deletable": true,
    "editable": true
   },
   "outputs": [
    {
     "name": "stdout",
     "output_type": "stream",
     "text": [
      "Seeding [ 1 2 3 4 5 6 7 8 9 10 ]...\n",
      "=== State at round 10 ===\n",
      "Total score: 1\n",
      "Bandit  Num  Scr  Avg  UCB  Prb\n",
      "   1      1    1 1.00 2.86 0.72\n",
      "   2      1    0 0.00 1.86 0.03\n",
      "   3      1    0 0.00 1.86 0.03\n",
      "   4      1    0 0.00 1.86 0.03\n",
      "   5      1    0 0.00 1.86 0.03\n",
      "   6      1    0 0.00 1.86 0.03\n",
      "   7      1    0 0.00 1.86 0.03\n",
      "   8      1    0 0.00 1.86 0.03\n",
      "   9      1    0 0.00 1.86 0.03\n",
      "  10      1    0 0.00 1.86 0.03\n"
     ]
    }
   ],
   "source": [
    "seed()"
   ]
  },
  {
   "cell_type": "code",
   "execution_count": 40,
   "metadata": {
    "collapsed": false,
    "deletable": true,
    "editable": true
   },
   "outputs": [
    {
     "name": "stdout",
     "output_type": "stream",
     "text": [
      "=== State at round 10000 ===\n",
      "Total score: 2211\n",
      "Bandit  Num  Scr  Avg  UCB  Prb\n",
      "   1    502   74 0.15 0.31 0.04\n",
      "   2    364   43 0.12 0.31 0.03\n",
      "   3    278   25 0.09 0.31 0.02\n",
      "   4    317   33 0.10 0.31 0.02\n",
      "   5   6434 1730 0.27 0.32 0.68\n",
      "   6    147    1 0.01 0.31 0.05\n",
      "   7    326   35 0.11 0.31 0.04\n",
      "   8   1130  229 0.20 0.31 0.04\n",
      "   9    331   36 0.11 0.31 0.03\n",
      "  10    171    5 0.03 0.31 0.05\n"
     ]
    }
   ],
   "source": [
    "streamItToMe(9990)"
   ]
  },
  {
   "cell_type": "code",
   "execution_count": 41,
   "metadata": {
    "collapsed": false,
    "deletable": true,
    "editable": true,
    "scrolled": false
   },
   "outputs": [
    {
     "data": {
      "image/png": "[encoded data removed]",
      "text/plain": [
       "plot without title"
      ]
     },
     "metadata": {},
     "output_type": "display_data"
    }
   ],
   "source": [
    "barplot(n,names.arg=1:numBandits)"
   ]
  },
  {
   "cell_type": "code",
   "execution_count": 42,
   "metadata": {
    "collapsed": false,
    "deletable": true,
    "editable": true
   },
   "outputs": [],
   "source": [
    "seedRounds=1\n",
    "randomizeSeed=TRUE\n",
    "randomizeStream=FALSE\n",
    "useProbs=FALSE"
   ]
  },
  {
   "cell_type": "code",
   "execution_count": 43,
   "metadata": {
    "collapsed": false,
    "deletable": true,
    "editable": true
   },
   "outputs": [],
   "source": [
    "numShows  =dim(df)[1]\n",
    "numBandits=dim(df)[2]\n",
    "n=integer(numBandits)\n",
    "s=integer(numBandits)\n",
    "a=numeric(numBandits)\n",
    "u=numeric(numBandits)\n",
    "p=numeric(numBandits)"
   ]
  },
  {
   "cell_type": "code",
   "execution_count": 44,
   "metadata": {
    "collapsed": false,
    "deletable": true,
    "editable": true
   },
   "outputs": [
    {
     "name": "stdout",
     "output_type": "stream",
     "text": [
      "Seeding [ 3 9 1 5 4 2 7 6 10 8 ]...\n",
      "=== State at round 10 ===\n",
      "Total score: 2\n",
      "Bandit  Num  Scr  Avg  UCB  Prb\n",
      "   1      1    0 0.00 1.86 0.03\n",
      "   2      1    1 1.00 2.86 0.36\n",
      "   3      1    0 0.00 1.86 0.03\n",
      "   4      1    0 0.00 1.86 0.03\n",
      "   5      1    0 0.00 1.86 0.03\n",
      "   6      1    0 0.00 1.86 0.03\n",
      "   7      1    0 0.00 1.86 0.03\n",
      "   8      1    0 0.00 1.86 0.03\n",
      "   9      1    1 1.00 2.86 0.36\n",
      "  10      1    0 0.00 1.86 0.03\n"
     ]
    }
   ],
   "source": [
    "seed()"
   ]
  },
  {
   "cell_type": "code",
   "execution_count": 45,
   "metadata": {
    "collapsed": false,
    "deletable": true,
    "editable": true
   },
   "outputs": [
    {
     "name": "stdout",
     "output_type": "stream",
     "text": [
      "=== State at round 10000 ===\n",
      "Total score: 2204\n",
      "Bandit  Num  Scr  Avg  UCB  Prb\n",
      "   1    852  160 0.19 0.32 0.06\n",
      "   2    333   37 0.11 0.31 0.02\n",
      "   3    230   16 0.07 0.31 0.02\n",
      "   4    360   43 0.12 0.32 0.10\n",
      "   5   6007 1610 0.27 0.32 0.50\n",
      "   6    152    2 0.01 0.31 0.02\n",
      "   7    351   41 0.12 0.32 0.07\n",
      "   8   1217  254 0.21 0.32 0.08\n",
      "   9    323   35 0.11 0.32 0.06\n",
      "  10    175    6 0.03 0.32 0.08\n"
     ]
    }
   ],
   "source": [
    "streamItToMe(9990)"
   ]
  },
  {
   "cell_type": "code",
   "execution_count": 46,
   "metadata": {
    "collapsed": false,
    "deletable": true,
    "editable": true,
    "scrolled": false
   },
   "outputs": [
    {
     "data": {
      "image/png": "[encoded data removed]",
      "text/plain": [
       "plot without title"
      ]
     },
     "metadata": {},
     "output_type": "display_data"
    }
   ],
   "source": [
    "barplot(n,names.arg=1:numBandits)"
   ]
  },
  {
   "cell_type": "code",
   "execution_count": 47,
   "metadata": {
    "collapsed": false,
    "deletable": true,
    "editable": true
   },
   "outputs": [],
   "source": [
    "seedRounds=1\n",
    "randomizeSeed=TRUE\n",
    "randomizeStream=TRUE\n",
    "useProbs=FALSE"
   ]
  },
  {
   "cell_type": "code",
   "execution_count": 48,
   "metadata": {
    "collapsed": false,
    "deletable": true,
    "editable": true
   },
   "outputs": [],
   "source": [
    "numShows  =dim(df)[1]\n",
    "numBandits=dim(df)[2]\n",
    "n=integer(numBandits)\n",
    "s=integer(numBandits)\n",
    "a=numeric(numBandits)\n",
    "u=numeric(numBandits)\n",
    "p=numeric(numBandits)"
   ]
  },
  {
   "cell_type": "code",
   "execution_count": 49,
   "metadata": {
    "collapsed": false,
    "deletable": true,
    "editable": true
   },
   "outputs": [
    {
     "name": "stdout",
     "output_type": "stream",
     "text": [
      "Seeding [ 6 10 3 2 4 8 7 9 1 5 ]...\n",
      "=== State at round 10 ===\n",
      "Total score: 3\n",
      "Bandit  Num  Scr  Avg  UCB  Prb\n",
      "   1      1    0 0.00 1.86 0.03\n",
      "   2      1    1 1.00 2.86 0.26\n",
      "   3      1    0 0.00 1.86 0.03\n",
      "   4      1    0 0.00 1.86 0.03\n",
      "   5      1    0 0.00 1.86 0.03\n",
      "   6      1    0 0.00 1.86 0.03\n",
      "   7      1    1 1.00 2.86 0.26\n",
      "   8      1    1 1.00 2.86 0.26\n",
      "   9      1    0 0.00 1.86 0.03\n",
      "  10      1    0 0.00 1.86 0.03\n"
     ]
    }
   ],
   "source": [
    "seed()"
   ]
  },
  {
   "cell_type": "code",
   "execution_count": 50,
   "metadata": {
    "collapsed": false,
    "deletable": true,
    "editable": true
   },
   "outputs": [
    {
     "name": "stdout",
     "output_type": "stream",
     "text": [
      "=== State at round 10000 ===\n",
      "Total score: 2249\n",
      "Bandit  Num  Scr  Avg  UCB  Prb\n",
      "   1    610  102 0.17 0.32 0.04\n",
      "   2    392   51 0.13 0.32 0.06\n",
      "   3    195   10 0.05 0.32 0.01\n",
      "   4    291   29 0.10 0.32 0.02\n",
      "   5   6364 1730 0.27 0.32 0.49\n",
      "   6    143    1 0.01 0.32 0.05\n",
      "   7    328   37 0.11 0.32 0.12\n",
      "   8   1190  250 0.21 0.32 0.06\n",
      "   9    271   25 0.09 0.32 0.12\n",
      "  10    216   14 0.06 0.32 0.04\n"
     ]
    }
   ],
   "source": [
    "streamItToMe(9990)"
   ]
  },
  {
   "cell_type": "code",
   "execution_count": 51,
   "metadata": {
    "collapsed": false,
    "deletable": true,
    "editable": true,
    "scrolled": false
   },
   "outputs": [
    {
     "data": {
      "image/png": "[encoded data removed]",
      "text/plain": [
       "plot without title"
      ]
     },
     "metadata": {},
     "output_type": "display_data"
    }
   ],
   "source": [
    "barplot(n,names.arg=1:numBandits)"
   ]
  },
  {
   "cell_type": "code",
   "execution_count": 52,
   "metadata": {
    "collapsed": false,
    "deletable": true,
    "editable": true
   },
   "outputs": [],
   "source": [
    "seedRounds=1\n",
    "randomizeSeed=TRUE\n",
    "randomizeStream=TRUE\n",
    "useProbs=TRUE"
   ]
  },
  {
   "cell_type": "code",
   "execution_count": 53,
   "metadata": {
    "collapsed": false,
    "deletable": true,
    "editable": true
   },
   "outputs": [],
   "source": [
    "numShows  =dim(df)[1]\n",
    "numBandits=dim(df)[2]\n",
    "n=integer(numBandits)\n",
    "s=integer(numBandits)\n",
    "a=numeric(numBandits)\n",
    "u=numeric(numBandits)\n",
    "p=numeric(numBandits)"
   ]
  },
  {
   "cell_type": "code",
   "execution_count": 54,
   "metadata": {
    "collapsed": false,
    "deletable": true,
    "editable": true
   },
   "outputs": [
    {
     "name": "stdout",
     "output_type": "stream",
     "text": [
      "Seeding [ 3 9 10 2 5 1 4 7 8 6 ]...\n",
      "=== State at round 10 ===\n",
      "Total score: 1\n",
      "Bandit  Num  Scr  Avg  UCB  Prb\n",
      "   1      1    0 0.00 1.86 0.03\n",
      "   2      1    0 0.00 1.86 0.03\n",
      "   3      1    0 0.00 1.86 0.03\n",
      "   4      1    0 0.00 1.86 0.03\n",
      "   5      1    1 1.00 2.86 0.72\n",
      "   6      1    0 0.00 1.86 0.03\n",
      "   7      1    0 0.00 1.86 0.03\n",
      "   8      1    0 0.00 1.86 0.03\n",
      "   9      1    0 0.00 1.86 0.03\n",
      "  10      1    0 0.00 1.86 0.03\n"
     ]
    }
   ],
   "source": [
    "seed()"
   ]
  },
  {
   "cell_type": "code",
   "execution_count": 55,
   "metadata": {
    "collapsed": false,
    "deletable": true,
    "editable": true
   },
   "outputs": [
    {
     "name": "stdout",
     "output_type": "stream",
     "text": [
      "=== State at round 10000 ===\n",
      "Total score: 1974\n",
      "Bandit  Num  Scr  Avg  UCB  Prb\n",
      "   1   1066  185 0.17 0.29 0.08\n",
      "   2    637   83 0.13 0.28 0.05\n",
      "   3    381   30 0.08 0.27 0.04\n",
      "   4    551   64 0.12 0.27 0.05\n",
      "   5   4297 1172 0.27 0.33 0.52\n",
      "   6    242    2 0.01 0.25 0.01\n",
      "   7    544   60 0.11 0.27 0.04\n",
      "   8   1595  331 0.21 0.30 0.15\n",
      "   9    439   41 0.09 0.27 0.04\n",
      "  10    248    6 0.02 0.26 0.03\n"
     ]
    }
   ],
   "source": [
    "streamItToMe(9990)"
   ]
  },
  {
   "cell_type": "code",
   "execution_count": 56,
   "metadata": {
    "collapsed": false,
    "deletable": true,
    "editable": true,
    "scrolled": false
   },
   "outputs": [
    {
     "data": {
      "image/png": "[encoded data removed]",
      "text/plain": [
       "plot without title"
      ]
     },
     "metadata": {},
     "output_type": "display_data"
    }
   ],
   "source": [
    "barplot(n,names.arg=1:numBandits)"
   ]
  },
  {
   "cell_type": "code",
   "execution_count": null,
   "metadata": {
    "collapsed": true
   },
   "outputs": [],
   "source": []
  }
 ],
 "metadata": {
  "kernelspec": {
   "display_name": "R",
   "language": "R",
   "name": "ir"
  },
  "language_info": {
   "codemirror_mode": "r",
   "file_extension": ".r",
   "mimetype": "text/x-r-source",
   "name": "R",
   "pygments_lexer": "r",
   "version": "3.3.2"
  }
 },
 "nbformat": 4,
 "nbformat_minor": 2
}
