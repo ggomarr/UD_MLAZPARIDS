{
 "cells": [
  {
   "cell_type": "markdown",
   "metadata": {
    "deletable": true,
    "editable": true
   },
   "source": [
    "# Libraries"
   ]
  },
  {
   "cell_type": "code",
   "execution_count": 1,
   "metadata": {
    "collapsed": false,
    "deletable": true,
    "editable": true,
    "scrolled": true
   },
   "outputs": [],
   "source": [
    "%matplotlib inline\n",
    "import matplotlib.pyplot as plt\n",
    "import matplotlib.colors\n",
    "import pandas as pd\n",
    "import numpy as np\n",
    "import math"
   ]
  },
  {
   "cell_type": "markdown",
   "metadata": {
    "deletable": true,
    "editable": true
   },
   "source": [
    "# Read data"
   ]
  },
  {
   "cell_type": "code",
   "execution_count": 2,
   "metadata": {
    "collapsed": false,
    "deletable": true,
    "editable": true,
    "scrolled": true
   },
   "outputs": [
    {
     "data": {
      "text/html": [
       "<div>\n",
       "<table border=\"1\" class=\"dataframe\">\n",
       "  <thead>\n",
       "    <tr style=\"text-align: right;\">\n",
       "      <th></th>\n",
       "      <th>Ad 1</th>\n",
       "      <th>Ad 2</th>\n",
       "      <th>Ad 3</th>\n",
       "      <th>Ad 4</th>\n",
       "      <th>Ad 5</th>\n",
       "      <th>Ad 6</th>\n",
       "      <th>Ad 7</th>\n",
       "      <th>Ad 8</th>\n",
       "      <th>Ad 9</th>\n",
       "      <th>Ad 10</th>\n",
       "    </tr>\n",
       "  </thead>\n",
       "  <tbody>\n",
       "    <tr>\n",
       "      <th>0</th>\n",
       "      <td>1</td>\n",
       "      <td>0</td>\n",
       "      <td>0</td>\n",
       "      <td>0</td>\n",
       "      <td>1</td>\n",
       "      <td>0</td>\n",
       "      <td>0</td>\n",
       "      <td>0</td>\n",
       "      <td>1</td>\n",
       "      <td>0</td>\n",
       "    </tr>\n",
       "    <tr>\n",
       "      <th>1</th>\n",
       "      <td>0</td>\n",
       "      <td>0</td>\n",
       "      <td>0</td>\n",
       "      <td>0</td>\n",
       "      <td>0</td>\n",
       "      <td>0</td>\n",
       "      <td>0</td>\n",
       "      <td>0</td>\n",
       "      <td>1</td>\n",
       "      <td>0</td>\n",
       "    </tr>\n",
       "    <tr>\n",
       "      <th>2</th>\n",
       "      <td>0</td>\n",
       "      <td>0</td>\n",
       "      <td>0</td>\n",
       "      <td>0</td>\n",
       "      <td>0</td>\n",
       "      <td>0</td>\n",
       "      <td>0</td>\n",
       "      <td>0</td>\n",
       "      <td>0</td>\n",
       "      <td>0</td>\n",
       "    </tr>\n",
       "    <tr>\n",
       "      <th>3</th>\n",
       "      <td>0</td>\n",
       "      <td>1</td>\n",
       "      <td>0</td>\n",
       "      <td>0</td>\n",
       "      <td>0</td>\n",
       "      <td>0</td>\n",
       "      <td>0</td>\n",
       "      <td>1</td>\n",
       "      <td>0</td>\n",
       "      <td>0</td>\n",
       "    </tr>\n",
       "    <tr>\n",
       "      <th>4</th>\n",
       "      <td>0</td>\n",
       "      <td>0</td>\n",
       "      <td>0</td>\n",
       "      <td>0</td>\n",
       "      <td>0</td>\n",
       "      <td>0</td>\n",
       "      <td>0</td>\n",
       "      <td>0</td>\n",
       "      <td>0</td>\n",
       "      <td>0</td>\n",
       "    </tr>\n",
       "  </tbody>\n",
       "</table>\n",
       "</div>"
      ],
      "text/plain": [
       "   Ad 1  Ad 2  Ad 3  Ad 4  Ad 5  Ad 6  Ad 7  Ad 8  Ad 9  Ad 10\n",
       "0     1     0     0     0     1     0     0     0     1      0\n",
       "1     0     0     0     0     0     0     0     0     1      0\n",
       "2     0     0     0     0     0     0     0     0     0      0\n",
       "3     0     1     0     0     0     0     0     1     0      0\n",
       "4     0     0     0     0     0     0     0     0     0      0"
      ]
     },
     "execution_count": 2,
     "metadata": {},
     "output_type": "execute_result"
    }
   ],
   "source": [
    "work_dir='/home/ggomarr/Documents/Education/20170623 Udemy - Machine Learning A-Z: Hands-On Python and R in Data Science/' + \\\n",
    "         'Course data/Part 6 - Reinforcement Learning/Section 32 - Upper Confidence Bound (UCB)/'\n",
    "df=pd.read_csv(work_dir+'Ads_CTR_Optimisation.csv')\n",
    "df.head()"
   ]
  },
  {
   "cell_type": "code",
   "execution_count": 3,
   "metadata": {
    "collapsed": false,
    "deletable": true,
    "editable": true
   },
   "outputs": [
    {
     "data": {
      "text/plain": [
       "Ad 1     0.1703\n",
       "Ad 2     0.1295\n",
       "Ad 3     0.0728\n",
       "Ad 4     0.1196\n",
       "Ad 5     0.2695\n",
       "Ad 6     0.0126\n",
       "Ad 7     0.1112\n",
       "Ad 8     0.2091\n",
       "Ad 9     0.0952\n",
       "Ad 10    0.0489\n",
       "dtype: float64"
      ]
     },
     "execution_count": 3,
     "metadata": {},
     "output_type": "execute_result"
    }
   ],
   "source": [
    "df.mean()"
   ]
  },
  {
   "cell_type": "markdown",
   "metadata": {
    "collapsed": true,
    "deletable": true,
    "editable": true
   },
   "source": [
    "# Upper Confidence Bound"
   ]
  },
  {
   "cell_type": "code",
   "execution_count": 4,
   "metadata": {
    "collapsed": false,
    "deletable": true,
    "editable": true
   },
   "outputs": [],
   "source": [
    "class UCB():\n",
    "    def __init__(self,\n",
    "                 sim_stream_file,separator=',',header=True,\n",
    "                 randomize_stream=False,\n",
    "                 seed_rounds=1,randomize_seed=False,\n",
    "                 use_probs=False,\n",
    "                 random_seed=None):\n",
    "        self.sim_stream_file=sim_stream_file\n",
    "        with open(self.sim_stream_file,'r') as sim_stream:\n",
    "            self.sim_stream=[ [int(out) for out in sim_event.strip().split(separator)]\n",
    "                              for sim_event in sim_stream.readlines()[header:] ]\n",
    "        self.num_bandits=len(self.sim_stream[0])\n",
    "        self.randomize_stream=randomize_stream\n",
    "        self.randomize_seed=randomize_seed\n",
    "        self.use_probs=use_probs\n",
    "        self.n=[0]*self.num_bandits\n",
    "        self.s=[0]*self.num_bandits\n",
    "        self.a=[0]*self.num_bandits\n",
    "        self.u=[0]*self.num_bandits\n",
    "        self.p=[0]*self.num_bandits\n",
    "        np.random.seed(random_seed)\n",
    "        for seed_round in range(seed_rounds):\n",
    "            self.seed()\n",
    "    def seed(self):\n",
    "        seed_pos_lst=list(range(self.num_bandits))\n",
    "        if self.randomize_seed:\n",
    "            np.random.shuffle(seed_pos_lst)\n",
    "        print('Seeding {}...'.format(seed_pos_lst))\n",
    "        for pos in seed_pos_lst:\n",
    "            self.show(pos)\n",
    "        self.compute()\n",
    "        self.report()\n",
    "    def show(self,pos):\n",
    "        if self.randomize_stream:\n",
    "            record_pos=np.random.randint(0,len(self.sim_stream))\n",
    "        else:\n",
    "            record_pos=sum(self.n)\n",
    "        self.s[pos]=self.s[pos]+self.sim_stream[record_pos][pos]\n",
    "        self.n[pos]=self.n[pos]+1\n",
    "    def compute(self):\n",
    "        self.a=[ 1.0*self.s[pos]/self.n[pos] for pos in range(self.num_bandits) ]\n",
    "        self.u=[ self.a[pos]+1.0*math.sqrt(3/2*math.log(sum(self.n))/self.n[pos]) for pos in range(self.num_bandits) ]\n",
    "        if np.std(self.u)!=0:\n",
    "            probs=[ math.exp((u-np.mean(self.u))/np.std(self.u)) for u in self.u ]\n",
    "        else:\n",
    "            probs=[1]*self.num_bandits\n",
    "        self.p=[ p/sum(probs) for p in probs ]\n",
    "    def report(self):\n",
    "        print('=== State at round {} ==='.format(sum(self.n)))\n",
    "        print('Total score: {}'.format(sum(self.s)))\n",
    "        for pos in range(self.num_bandits):\n",
    "            print('Bandit {:d}: seen {:4d}, score {:4d}, '.format(pos,self.n[pos],self.s[pos]) + \\\n",
    "                  'average {:.2f}, ucb {:.2f}, prob {:.2f}'.format(self.a[pos],self.u[pos],self.p[pos]))\n",
    "    def stream_it_to_me(self,num_rounds=100):\n",
    "        for r in range(num_rounds):\n",
    "            if self.use_probs:\n",
    "                pos=np.random.choice(range(self.num_bandits),p=self.p)\n",
    "            else:\n",
    "                pos=np.argmax(self.u)\n",
    "            self.show(pos)\n",
    "            self.compute()\n",
    "        self.report()"
   ]
  },
  {
   "cell_type": "code",
   "execution_count": 5,
   "metadata": {
    "collapsed": false,
    "deletable": true,
    "editable": true,
    "scrolled": false
   },
   "outputs": [
    {
     "name": "stdout",
     "output_type": "stream",
     "text": [
      "Seeding [0, 1, 2, 3, 4, 5, 6, 7, 8, 9]...\n",
      "=== State at round 10 ===\n",
      "Total score: 1\n",
      "Bandit 0: seen    1, score    1, average 1.00, ucb 2.86, prob 0.76\n",
      "Bandit 1: seen    1, score    0, average 0.00, ucb 1.86, prob 0.03\n",
      "Bandit 2: seen    1, score    0, average 0.00, ucb 1.86, prob 0.03\n",
      "Bandit 3: seen    1, score    0, average 0.00, ucb 1.86, prob 0.03\n",
      "Bandit 4: seen    1, score    0, average 0.00, ucb 1.86, prob 0.03\n",
      "Bandit 5: seen    1, score    0, average 0.00, ucb 1.86, prob 0.03\n",
      "Bandit 6: seen    1, score    0, average 0.00, ucb 1.86, prob 0.03\n",
      "Bandit 7: seen    1, score    0, average 0.00, ucb 1.86, prob 0.03\n",
      "Bandit 8: seen    1, score    0, average 0.00, ucb 1.86, prob 0.03\n",
      "Bandit 9: seen    1, score    0, average 0.00, ucb 1.86, prob 0.03\n"
     ]
    }
   ],
   "source": [
    "ucb=UCB(work_dir+'Ads_CTR_Optimisation.csv',\n",
    "        seed_rounds=1,randomize_seed=False,\n",
    "        randomize_stream=False,use_probs=False)"
   ]
  },
  {
   "cell_type": "code",
   "execution_count": 6,
   "metadata": {
    "collapsed": false,
    "deletable": true,
    "editable": true,
    "scrolled": true
   },
   "outputs": [
    {
     "name": "stdout",
     "output_type": "stream",
     "text": [
      "=== State at round 10000 ===\n",
      "Total score: 2211\n",
      "Bandit 0: seen  502, score   74, average 0.15, ucb 0.31, prob 0.04\n",
      "Bandit 1: seen  364, score   43, average 0.12, ucb 0.31, prob 0.02\n",
      "Bandit 2: seen  278, score   25, average 0.09, ucb 0.31, prob 0.02\n",
      "Bandit 3: seen  317, score   33, average 0.10, ucb 0.31, prob 0.02\n",
      "Bandit 4: seen 6434, score 1730, average 0.27, ucb 0.32, prob 0.72\n",
      "Bandit 5: seen  147, score    1, average 0.01, ucb 0.31, prob 0.04\n",
      "Bandit 6: seen  326, score   35, average 0.11, ucb 0.31, prob 0.03\n",
      "Bandit 7: seen 1130, score  229, average 0.20, ucb 0.31, prob 0.03\n",
      "Bandit 8: seen  331, score   36, average 0.11, ucb 0.31, prob 0.03\n",
      "Bandit 9: seen  171, score    5, average 0.03, ucb 0.31, prob 0.05\n"
     ]
    }
   ],
   "source": [
    "ucb.stream_it_to_me(9990)"
   ]
  },
  {
   "cell_type": "code",
   "execution_count": 25,
   "metadata": {
    "collapsed": false,
    "deletable": true,
    "editable": true
   },
   "outputs": [
    {
     "data": {
      "image/png": "[encoded data removed]",
      "text/plain": [
       "<matplotlib.figure.Figure at 0x7faca14699e8>"
      ]
     },
     "metadata": {},
     "output_type": "display_data"
    }
   ],
   "source": [
    "plt.bar(range(ucb.num_bandits),ucb.n)\n",
    "plt.show()"
   ]
  },
  {
   "cell_type": "code",
   "execution_count": 26,
   "metadata": {
    "collapsed": false,
    "deletable": true,
    "editable": true
   },
   "outputs": [
    {
     "name": "stdout",
     "output_type": "stream",
     "text": [
      "Seeding [4, 1, 7, 3, 2, 5, 9, 6, 0, 8]...\n",
      "=== State at round 10 ===\n",
      "Total score: 1\n",
      "Bandit 0: seen    1, score    0, average 0.00, ucb 1.86, prob 0.03\n",
      "Bandit 1: seen    1, score    0, average 0.00, ucb 1.86, prob 0.03\n",
      "Bandit 2: seen    1, score    0, average 0.00, ucb 1.86, prob 0.03\n",
      "Bandit 3: seen    1, score    0, average 0.00, ucb 1.86, prob 0.03\n",
      "Bandit 4: seen    1, score    1, average 1.00, ucb 2.86, prob 0.76\n",
      "Bandit 5: seen    1, score    0, average 0.00, ucb 1.86, prob 0.03\n",
      "Bandit 6: seen    1, score    0, average 0.00, ucb 1.86, prob 0.03\n",
      "Bandit 7: seen    1, score    0, average 0.00, ucb 1.86, prob 0.03\n",
      "Bandit 8: seen    1, score    0, average 0.00, ucb 1.86, prob 0.03\n",
      "Bandit 9: seen    1, score    0, average 0.00, ucb 1.86, prob 0.03\n"
     ]
    }
   ],
   "source": [
    "ucb=UCB(work_dir+'Ads_CTR_Optimisation.csv',\n",
    "        seed_rounds=1,randomize_seed=True,\n",
    "        randomize_stream=False,use_probs=False)"
   ]
  },
  {
   "cell_type": "code",
   "execution_count": 27,
   "metadata": {
    "collapsed": false,
    "deletable": true,
    "editable": true
   },
   "outputs": [
    {
     "name": "stdout",
     "output_type": "stream",
     "text": [
      "=== State at round 10000 ===\n",
      "Total score: 2174\n",
      "Bandit 0: seen  637, score  104, average 0.16, ucb 0.31, prob 0.03\n",
      "Bandit 1: seen  391, score   48, average 0.12, ucb 0.31, prob 0.04\n",
      "Bandit 2: seen  251, score   19, average 0.08, ucb 0.31, prob 0.02\n",
      "Bandit 3: seen  266, score   22, average 0.08, ucb 0.31, prob 0.03\n",
      "Bandit 4: seen 6223, score 1654, average 0.27, ucb 0.31, prob 0.73\n",
      "Bandit 5: seen  150, score    1, average 0.01, ucb 0.31, prob 0.02\n",
      "Bandit 6: seen  335, score   36, average 0.11, ucb 0.31, prob 0.03\n",
      "Bandit 7: seen 1165, score  235, average 0.20, ucb 0.31, prob 0.04\n",
      "Bandit 8: seen  368, score   43, average 0.12, ucb 0.31, prob 0.03\n",
      "Bandit 9: seen  214, score   12, average 0.06, ucb 0.31, prob 0.02\n"
     ]
    }
   ],
   "source": [
    "ucb.stream_it_to_me(9990)"
   ]
  },
  {
   "cell_type": "code",
   "execution_count": 28,
   "metadata": {
    "collapsed": false,
    "deletable": true,
    "editable": true
   },
   "outputs": [
    {
     "data": {
      "image/png": "[encoded data removed]",
      "text/plain": [
       "<matplotlib.figure.Figure at 0x7faca14a2080>"
      ]
     },
     "metadata": {},
     "output_type": "display_data"
    }
   ],
   "source": [
    "plt.bar(range(ucb.num_bandits),ucb.n)\n",
    "plt.show()"
   ]
  },
  {
   "cell_type": "code",
   "execution_count": 29,
   "metadata": {
    "collapsed": false,
    "deletable": true,
    "editable": true
   },
   "outputs": [
    {
     "name": "stdout",
     "output_type": "stream",
     "text": [
      "Seeding [7, 1, 9, 0, 2, 4, 6, 8, 5, 3]...\n",
      "=== State at round 10 ===\n",
      "Total score: 3\n",
      "Bandit 0: seen    1, score    1, average 1.00, ucb 2.86, prob 0.26\n",
      "Bandit 1: seen    1, score    0, average 0.00, ucb 1.86, prob 0.03\n",
      "Bandit 2: seen    1, score    0, average 0.00, ucb 1.86, prob 0.03\n",
      "Bandit 3: seen    1, score    0, average 0.00, ucb 1.86, prob 0.03\n",
      "Bandit 4: seen    1, score    0, average 0.00, ucb 1.86, prob 0.03\n",
      "Bandit 5: seen    1, score    0, average 0.00, ucb 1.86, prob 0.03\n",
      "Bandit 6: seen    1, score    1, average 1.00, ucb 2.86, prob 0.26\n",
      "Bandit 7: seen    1, score    0, average 0.00, ucb 1.86, prob 0.03\n",
      "Bandit 8: seen    1, score    1, average 1.00, ucb 2.86, prob 0.26\n",
      "Bandit 9: seen    1, score    0, average 0.00, ucb 1.86, prob 0.03\n"
     ]
    }
   ],
   "source": [
    "ucb=UCB(work_dir+'Ads_CTR_Optimisation.csv',\n",
    "        seed_rounds=1,randomize_seed=True,\n",
    "        randomize_stream=True,use_probs=False)"
   ]
  },
  {
   "cell_type": "code",
   "execution_count": 30,
   "metadata": {
    "collapsed": false,
    "deletable": true,
    "editable": true
   },
   "outputs": [
    {
     "name": "stdout",
     "output_type": "stream",
     "text": [
      "=== State at round 10000 ===\n",
      "Total score: 2246\n",
      "Bandit 0: seen  548, score   86, average 0.16, ucb 0.32, prob 0.03\n",
      "Bandit 1: seen  284, score   27, average 0.10, ucb 0.32, prob 0.03\n",
      "Bandit 2: seen  208, score   12, average 0.06, ucb 0.32, prob 0.02\n",
      "Bandit 3: seen  373, score   46, average 0.12, ucb 0.32, prob 0.04\n",
      "Bandit 4: seen 6549, score 1777, average 0.27, ucb 0.32, prob 0.66\n",
      "Bandit 5: seen  139, score    0, average 0.00, ucb 0.32, prob 0.01\n",
      "Bandit 6: seen  259, score   22, average 0.08, ucb 0.32, prob 0.05\n",
      "Bandit 7: seen 1141, score  235, average 0.21, ucb 0.32, prob 0.06\n",
      "Bandit 8: seen  308, score   32, average 0.10, ucb 0.32, prob 0.03\n",
      "Bandit 9: seen  191, score    9, average 0.05, ucb 0.32, prob 0.07\n"
     ]
    }
   ],
   "source": [
    "ucb.stream_it_to_me(9990)"
   ]
  },
  {
   "cell_type": "code",
   "execution_count": 31,
   "metadata": {
    "collapsed": false,
    "deletable": true,
    "editable": true
   },
   "outputs": [
    {
     "data": {
      "image/png": "[encoded data removed]",
      "text/plain": [
       "<matplotlib.figure.Figure at 0x7faca14a2d30>"
      ]
     },
     "metadata": {},
     "output_type": "display_data"
    }
   ],
   "source": [
    "plt.bar(range(ucb.num_bandits),ucb.n)\n",
    "plt.show()"
   ]
  },
  {
   "cell_type": "code",
   "execution_count": 32,
   "metadata": {
    "collapsed": false,
    "deletable": true,
    "editable": true,
    "scrolled": true
   },
   "outputs": [
    {
     "name": "stdout",
     "output_type": "stream",
     "text": [
      "Seeding [9, 1, 8, 4, 7, 3, 0, 2, 6, 5]...\n",
      "=== State at round 10 ===\n",
      "Total score: 1\n",
      "Bandit 0: seen    1, score    0, average 0.00, ucb 1.86, prob 0.03\n",
      "Bandit 1: seen    1, score    0, average 0.00, ucb 1.86, prob 0.03\n",
      "Bandit 2: seen    1, score    0, average 0.00, ucb 1.86, prob 0.03\n",
      "Bandit 3: seen    1, score    0, average 0.00, ucb 1.86, prob 0.03\n",
      "Bandit 4: seen    1, score    1, average 1.00, ucb 2.86, prob 0.76\n",
      "Bandit 5: seen    1, score    0, average 0.00, ucb 1.86, prob 0.03\n",
      "Bandit 6: seen    1, score    0, average 0.00, ucb 1.86, prob 0.03\n",
      "Bandit 7: seen    1, score    0, average 0.00, ucb 1.86, prob 0.03\n",
      "Bandit 8: seen    1, score    0, average 0.00, ucb 1.86, prob 0.03\n",
      "Bandit 9: seen    1, score    0, average 0.00, ucb 1.86, prob 0.03\n"
     ]
    }
   ],
   "source": [
    "ucb=UCB(work_dir+'Ads_CTR_Optimisation.csv',\n",
    "        seed_rounds=1,randomize_seed=True,\n",
    "        randomize_stream=True,use_probs=True)"
   ]
  },
  {
   "cell_type": "code",
   "execution_count": 33,
   "metadata": {
    "collapsed": false,
    "deletable": true,
    "editable": true
   },
   "outputs": [
    {
     "name": "stdout",
     "output_type": "stream",
     "text": [
      "=== State at round 10000 ===\n",
      "Total score: 2071\n",
      "Bandit 0: seen  657, score   96, average 0.15, ucb 0.29, prob 0.07\n",
      "Bandit 1: seen  553, score   69, average 0.12, ucb 0.28, prob 0.05\n",
      "Bandit 2: seen  335, score   22, average 0.07, ucb 0.27, prob 0.03\n",
      "Bandit 3: seen  424, score   40, average 0.09, ucb 0.27, prob 0.03\n",
      "Bandit 4: seen 4785, score 1329, average 0.28, ucb 0.33, prob 0.49\n",
      "Bandit 5: seen  247, score    5, average 0.02, ucb 0.26, prob 0.01\n",
      "Bandit 6: seen  473, score   50, average 0.11, ucb 0.28, prob 0.04\n",
      "Bandit 7: seen 1766, score  393, average 0.22, ucb 0.31, prob 0.19\n",
      "Bandit 8: seen  484, score   56, average 0.12, ucb 0.28, prob 0.06\n",
      "Bandit 9: seen  276, score   11, average 0.04, ucb 0.26, prob 0.02\n"
     ]
    }
   ],
   "source": [
    "ucb.stream_it_to_me(9990)"
   ]
  },
  {
   "cell_type": "code",
   "execution_count": 34,
   "metadata": {
    "collapsed": false,
    "deletable": true,
    "editable": true
   },
   "outputs": [
    {
     "data": {
      "image/png": "[encoded data removed]",
      "text/plain": [
       "<matplotlib.figure.Figure at 0x7faca1602f98>"
      ]
     },
     "metadata": {},
     "output_type": "display_data"
    }
   ],
   "source": [
    "plt.bar(range(ucb.num_bandits),ucb.n)\n",
    "plt.show()"
   ]
  },
  {
   "cell_type": "code",
   "execution_count": null,
   "metadata": {
    "collapsed": true,
    "deletable": true,
    "editable": true
   },
   "outputs": [],
   "source": []
  }
 ],
 "metadata": {
  "kernelspec": {
   "display_name": "Python 3",
   "language": "python",
   "name": "python3"
  },
  "language_info": {
   "codemirror_mode": {
    "name": "ipython",
    "version": 3
   },
   "file_extension": ".py",
   "mimetype": "text/x-python",
   "name": "python",
   "nbconvert_exporter": "python",
   "pygments_lexer": "ipython3",
   "version": "3.5.3"
  }
 },
 "nbformat": 4,
 "nbformat_minor": 2
}
