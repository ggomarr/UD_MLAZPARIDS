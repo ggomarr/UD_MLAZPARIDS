{
 "cells": [
  {
   "cell_type": "markdown",
   "metadata": {
    "deletable": true,
    "editable": true
   },
   "source": [
    "# Libraries"
   ]
  },
  {
   "cell_type": "code",
   "execution_count": 24,
   "metadata": {
    "collapsed": false,
    "deletable": true,
    "editable": true
   },
   "outputs": [
    {
     "name": "stderr",
     "output_type": "stream",
     "text": [
      "Installing package into ‘/home/ggomarr/R/x86_64-pc-linux-gnu-library/3.3’\n",
      "(as ‘lib’ is unspecified)\n",
      "also installing the dependencies ‘modeltools’, ‘DEoptimR’, ‘iterators’, ‘mclust’, ‘flexmix’, ‘prabclus’, ‘diptest’, ‘mvtnorm’, ‘robustbase’, ‘kernlab’, ‘trimcluster’, ‘gridExtra’, ‘bindr’, ‘httpuv’, ‘xtable’, ‘sourcetools’, ‘zoo’, ‘foreach’, ‘fpc’, ‘viridis’, ‘gtools’, ‘gdata’, ‘yaml’, ‘assertthat’, ‘bindrcpp’, ‘glue’, ‘BH’, ‘plogr’, ‘shiny’, ‘lmtest’, ‘TSP’, ‘qap’, ‘gclus’, ‘dendextend’, ‘gplots’, ‘registry’, ‘irlba’, ‘pkgconfig’, ‘htmltools’, ‘htmlwidgets’, ‘viridisLite’, ‘base64enc’, ‘tidyr’, ‘hexbin’, ‘dplyr’, ‘crosstalk’, ‘purrr’, ‘data.table’, ‘scatterplot3d’, ‘vcd’, ‘seriation’, ‘igraph’, ‘DT’, ‘plotly’\n",
      "\n"
     ]
    }
   ],
   "source": [
    "# install.packages('arules')\n",
    "# install.packages('arulesViz')"
   ]
  },
  {
   "cell_type": "code",
   "execution_count": 25,
   "metadata": {
    "collapsed": false,
    "deletable": true,
    "editable": true
   },
   "outputs": [
    {
     "name": "stderr",
     "output_type": "stream",
     "text": [
      "Loading required package: grid\n"
     ]
    }
   ],
   "source": [
    "library(caTools)\n",
    "library(ggplot2)\n",
    "library(repr)\n",
    "options(repr.plot.width=8,repr.plot.height=4)\n",
    "library(arules)\n",
    "library(arulesViz)"
   ]
  },
  {
   "cell_type": "markdown",
   "metadata": {
    "deletable": true,
    "editable": true
   },
   "source": [
    "# Read data"
   ]
  },
  {
   "cell_type": "code",
   "execution_count": 3,
   "metadata": {
    "collapsed": false,
    "deletable": true,
    "editable": true,
    "scrolled": false
   },
   "outputs": [
    {
     "name": "stdout",
     "output_type": "stream",
     "text": [
      "'data.frame':\t7501 obs. of  20 variables:\n",
      " $ V1 : Factor w/ 115 levels \"almonds\",\"antioxydant juice\",..: 96 15 27 108 72 65 112 98 49 43 ...\n",
      " $ V2 : Factor w/ 118 levels \"\",\"almonds\",\"antioxydant juice\",..: 2 69 1 5 71 1 43 63 99 1 ...\n",
      " $ V3 : Factor w/ 116 levels \"\",\"almonds\",\"antioxydant juice\",..: 5 36 1 1 37 1 1 93 53 1 ...\n",
      " $ V4 : Factor w/ 115 levels \"\",\"almonds\",\"antioxydant juice\",..: 107 1 1 1 112 1 1 1 1 1 ...\n",
      " $ V5 : Factor w/ 111 levels \"\",\"almonds\",\"antioxydant juice\",..: 50 1 1 1 51 1 1 1 1 1 ...\n",
      " $ V6 : Factor w/ 107 levels \"\",\"almonds\",\"antioxydant juice\",..: 103 1 1 1 1 1 1 1 1 1 ...\n",
      " $ V7 : Factor w/ 103 levels \"\",\"almonds\",\"antioxydant juice\",..: 101 1 1 1 1 1 1 1 1 1 ...\n",
      " $ V8 : Factor w/ 99 levels \"\",\" asparagus\",..: 34 1 1 1 1 1 1 1 1 1 ...\n",
      " $ V9 : Factor w/ 89 levels \"\",\"almonds\",\"antioxydant juice\",..: 36 1 1 1 1 1 1 1 1 1 ...\n",
      " $ V10: Factor w/ 81 levels \"\",\"asparagus\",..: 74 1 1 1 1 1 1 1 1 1 ...\n",
      " $ V11: Factor w/ 67 levels \"\",\"asparagus\",..: 40 1 1 1 1 1 1 1 1 1 ...\n",
      " $ V12: Factor w/ 51 levels \"\",\"blueberries\",..: 25 1 1 1 1 1 1 1 1 1 ...\n",
      " $ V13: Factor w/ 44 levels \"\",\"asparagus\",..: 23 1 1 1 1 1 1 1 1 1 ...\n",
      " $ V14: Factor w/ 29 levels \"\",\"babies food\",..: 24 1 1 1 1 1 1 1 1 1 ...\n",
      " $ V15: Factor w/ 20 levels \"\",\"candy bars\",..: 12 1 1 1 1 1 1 1 1 1 ...\n",
      " $ V16: Factor w/ 9 levels \"\",\"antioxydant juice\",..: 8 1 1 1 1 1 1 1 1 1 ...\n",
      " $ V17: Factor w/ 4 levels \"\",\"antioxydant juice\",..: 2 1 1 1 1 1 1 1 1 1 ...\n",
      " $ V18: Factor w/ 4 levels \"\",\"frozen smoothie\",..: 2 1 1 1 1 1 1 1 1 1 ...\n",
      " $ V19: Factor w/ 4 levels \"\",\"cereals\",\"mayonnaise\",..: 4 1 1 1 1 1 1 1 1 1 ...\n",
      " $ V20: Factor w/ 2 levels \"\",\"olive oil\": 2 1 1 1 1 1 1 1 1 1 ...\n"
     ]
    }
   ],
   "source": [
    "root_dir=\"~/Documents/Education/20170623 Udemy - Machine Learning A-Z: Hands-On Python and R in Data Science/\"\n",
    "work_dir=\"Course data/Part 5 - Association Rule Learning/Section 28 - Apriori\"\n",
    "setwd(paste(root_dir,work_dir,sep=''))\n",
    "df=read.csv('Market_Basket_Optimisation.csv',header=FALSE)\n",
    "str(df)"
   ]
  },
  {
   "cell_type": "code",
   "execution_count": 4,
   "metadata": {
    "collapsed": false,
    "deletable": true,
    "editable": true
   },
   "outputs": [
    {
     "name": "stdout",
     "output_type": "stream",
     "text": [
      "120 different products:\n",
      "  [1] almonds              antioxydant juice    asparagus           \n",
      "  [4] avocado              babies food          bacon               \n",
      "  [7] barbecue sauce       black tea            blueberries         \n",
      " [10] body spray           bramble              brownies            \n",
      " [13] bug spray            burger sauce         burgers             \n",
      " [16] butter               cake                 candy bars          \n",
      " [19] carrots              cauliflower          cereals             \n",
      " [22] champagne            chicken              chili               \n",
      " [25] chocolate            chocolate bread      chutney             \n",
      " [28] cider                clothes accessories  cookies             \n",
      " [31] cooking oil          corn                 cottage cheese      \n",
      " [34] cream                dessert wine         eggplant            \n",
      " [37] eggs                 energy bar           energy drink        \n",
      " [40] escalope             extra dark chocolate flax seed           \n",
      " [43] french fries         french wine          fresh bread         \n",
      " [46] fresh tuna           fromage blanc        frozen smoothie     \n",
      " [49] frozen vegetables    gluten free bar      grated cheese       \n",
      " [52] green beans          green grapes         green tea           \n",
      " [55] ground beef          gums                 ham                 \n",
      " [58] hand protein bar     herb & pepper        honey               \n",
      " [61] hot dogs             ketchup              light cream         \n",
      " [64] light mayo           low fat yogurt       magazines           \n",
      " [67] mashed potato        mayonnaise           meatballs           \n",
      " [70] melons               milk                 mineral water       \n",
      " [73] mint                 mint green tea       muffins             \n",
      " [76] mushroom cream sauce nonfat milk          oatmeal             \n",
      " [79] oil                  olive oil            pancakes            \n",
      " [82] parmesan cheese      pasta                pepper              \n",
      " [85] pet food             pickles              protein bar         \n",
      " [88] red wine             rice                 salad               \n",
      " [91] salmon               salt                 sandwich            \n",
      " [94] shallot              shampoo              shrimp              \n",
      " [97] soda                 soup                 spaghetti           \n",
      "[100] sparkling water      spinach              strawberries        \n",
      "[103] strong cheese        tomato juice         tomato sauce        \n",
      "[106] tomatoes             toothpaste           turkey              \n",
      "[109] vegetables mix       white wine           whole weat flour    \n",
      "[112] whole wheat pasta    whole wheat rice     yams                \n",
      "[115] yogurt cake                               tea                 \n",
      "[118] water spray          zucchini             napkins             \n",
      "[121]  asparagus          \n",
      "121 Levels: almonds antioxydant juice asparagus avocado babies food ...  asparagus\n"
     ]
    }
   ],
   "source": [
    "products=sort(unique(unlist(df)))\n",
    "writeLines(noquote(paste(length(products)-1,'different products:')))\n",
    "print(products)"
   ]
  },
  {
   "cell_type": "markdown",
   "metadata": {
    "deletable": true,
    "editable": true
   },
   "source": [
    "# Replace malformed labels"
   ]
  },
  {
   "cell_type": "code",
   "execution_count": 5,
   "metadata": {
    "collapsed": false,
    "deletable": true,
    "editable": true
   },
   "outputs": [
    {
     "name": "stdout",
     "output_type": "stream",
     "text": [
      "119 different products:\n",
      "  [1] almonds              antioxydant juice    asparagus           \n",
      "  [4] avocado              babies food          bacon               \n",
      "  [7] barbecue sauce       black tea            blueberries         \n",
      " [10] body spray           bramble              brownies            \n",
      " [13] bug spray            burger sauce         burgers             \n",
      " [16] butter               cake                 candy bars          \n",
      " [19] carrots              cauliflower          cereals             \n",
      " [22] champagne            chicken              chili               \n",
      " [25] chocolate            chocolate bread      chutney             \n",
      " [28] cider                clothes accessories  cookies             \n",
      " [31] cooking oil          corn                 cottage cheese      \n",
      " [34] cream                dessert wine         eggplant            \n",
      " [37] eggs                 energy bar           energy drink        \n",
      " [40] escalope             extra dark chocolate flax seed           \n",
      " [43] french fries         french wine          fresh bread         \n",
      " [46] fresh tuna           fromage blanc        frozen smoothie     \n",
      " [49] frozen vegetables    gluten free bar      grated cheese       \n",
      " [52] green beans          green grapes         green tea           \n",
      " [55] ground beef          gums                 ham                 \n",
      " [58] hand protein bar     herb & pepper        honey               \n",
      " [61] hot dogs             ketchup              light cream         \n",
      " [64] light mayo           low fat yogurt       magazines           \n",
      " [67] mashed potato        mayonnaise           meatballs           \n",
      " [70] melons               milk                 mineral water       \n",
      " [73] mint                 mint green tea       muffins             \n",
      " [76] mushroom cream sauce nonfat milk          oatmeal             \n",
      " [79] oil                  olive oil            pancakes            \n",
      " [82] parmesan cheese      pasta                pepper              \n",
      " [85] pet food             pickles              protein bar         \n",
      " [88] red wine             rice                 salad               \n",
      " [91] salmon               salt                 sandwich            \n",
      " [94] shallot              shampoo              shrimp              \n",
      " [97] soda                 soup                 spaghetti           \n",
      "[100] sparkling water      spinach              strawberries        \n",
      "[103] strong cheese        tomato juice         tomato sauce        \n",
      "[106] tomatoes             toothpaste           turkey              \n",
      "[109] vegetables mix       white wine           whole weat flour    \n",
      "[112] whole wheat pasta    whole wheat rice     yams                \n",
      "[115] yogurt cake                               tea                 \n",
      "[118] water spray          zucchini             napkins             \n",
      "121 Levels: almonds antioxydant juice asparagus avocado babies food ...  asparagus\n"
     ]
    }
   ],
   "source": [
    "substitutions=list(' asparagus'='asparagus')\n",
    "for(target in names(substitutions)){\n",
    "    df[df==target]=substitutions[[target]]\n",
    "}\n",
    "products=sort(unique(unlist(df)))\n",
    "writeLines(noquote(paste(length(products)-1,'different products:')))\n",
    "print(products)"
   ]
  },
  {
   "cell_type": "markdown",
   "metadata": {
    "deletable": true,
    "editable": true
   },
   "source": [
    "# Remove duplicates within rows"
   ]
  },
  {
   "cell_type": "code",
   "execution_count": 6,
   "metadata": {
    "collapsed": false,
    "deletable": true,
    "editable": true,
    "scrolled": true
   },
   "outputs": [
    {
     "data": {
      "text/html": [
       "<table>\n",
       "<thead><tr><th></th><th scope=col>V1</th><th scope=col>V2</th><th scope=col>V3</th><th scope=col>V4</th><th scope=col>V5</th><th scope=col>V6</th><th scope=col>V7</th><th scope=col>V8</th><th scope=col>V9</th><th scope=col>V10</th><th scope=col>V11</th><th scope=col>V12</th><th scope=col>V13</th><th scope=col>V14</th><th scope=col>V15</th><th scope=col>V16</th><th scope=col>V17</th><th scope=col>V18</th><th scope=col>V19</th><th scope=col>V20</th></tr></thead>\n",
       "<tbody>\n",
       "\t<tr><th scope=row>4395</th><td>burgers         </td><td>ham             </td><td>eggs            </td><td>whole wheat rice</td><td>ham             </td><td>french fries    </td><td>cookies         </td><td>green tea       </td><td>                </td><td>                </td><td>                </td><td>                </td><td>                </td><td>                </td><td>                </td><td>                </td><td>                </td><td>                </td><td>                </td><td>                </td></tr>\n",
       "\t<tr><th scope=row>4495</th><td>ham             </td><td>eggs            </td><td>honey           </td><td>gums            </td><td>light cream     </td><td>ham             </td><td>                </td><td>                </td><td>                </td><td>                </td><td>                </td><td>                </td><td>                </td><td>                </td><td>                </td><td>                </td><td>                </td><td>                </td><td>                </td><td>                </td></tr>\n",
       "\t<tr><th scope=row>4527</th><td>ham             </td><td>milk            </td><td>chicken         </td><td>whole wheat rice</td><td>ham             </td><td>eggplant        </td><td>                </td><td>                </td><td>                </td><td>                </td><td>                </td><td>                </td><td>                </td><td>                </td><td>                </td><td>                </td><td>                </td><td>                </td><td>                </td><td>                </td></tr>\n",
       "\t<tr><th scope=row>6904</th><td>ground beef     </td><td>spaghetti       </td><td>mineral water   </td><td>chocolate       </td><td>salmon          </td><td>chicken         </td><td>chocolate       </td><td>frozen smoothie </td><td>                </td><td>                </td><td>                </td><td>                </td><td>                </td><td>                </td><td>                </td><td>                </td><td>                </td><td>                </td><td>                </td><td>                </td></tr>\n",
       "\t<tr><th scope=row>7110</th><td>ham             </td><td>shrimp          </td><td>milk            </td><td>flax seed       </td><td>salmon          </td><td>corn            </td><td>ham             </td><td>eggplant        </td><td>                </td><td>                </td><td>                </td><td>                </td><td>                </td><td>                </td><td>                </td><td>                </td><td>                </td><td>                </td><td>                </td><td>                </td></tr>\n",
       "</tbody>\n",
       "</table>\n"
      ],
      "text/latex": [
       "\\begin{tabular}{r|llllllllllllllllllll}\n",
       "  & V1 & V2 & V3 & V4 & V5 & V6 & V7 & V8 & V9 & V10 & V11 & V12 & V13 & V14 & V15 & V16 & V17 & V18 & V19 & V20\\\\\n",
       "\\hline\n",
       "\t4395 & burgers          & ham              & eggs             & whole wheat rice & ham              & french fries     & cookies          & green tea        &                  &                  &                  &                  &                  &                  &                  &                  &                  &                  &                  &                 \\\\\n",
       "\t4495 & ham              & eggs             & honey            & gums             & light cream      & ham              &                  &                  &                  &                  &                  &                  &                  &                  &                  &                  &                  &                  &                  &                 \\\\\n",
       "\t4527 & ham              & milk             & chicken          & whole wheat rice & ham              & eggplant         &                  &                  &                  &                  &                  &                  &                  &                  &                  &                  &                  &                  &                  &                 \\\\\n",
       "\t6904 & ground beef      & spaghetti        & mineral water    & chocolate        & salmon           & chicken          & chocolate        & frozen smoothie  &                  &                  &                  &                  &                  &                  &                  &                  &                  &                  &                  &                 \\\\\n",
       "\t7110 & ham              & shrimp           & milk             & flax seed        & salmon           & corn             & ham              & eggplant         &                  &                  &                  &                  &                  &                  &                  &                  &                  &                  &                  &                 \\\\\n",
       "\\end{tabular}\n"
      ],
      "text/markdown": [
       "\n",
       "| <!--/--> | V1 | V2 | V3 | V4 | V5 | V6 | V7 | V8 | V9 | V10 | V11 | V12 | V13 | V14 | V15 | V16 | V17 | V18 | V19 | V20 | \n",
       "|---|---|---|---|---|\n",
       "| 4395 | burgers          | ham              | eggs             | whole wheat rice | ham              | french fries     | cookies          | green tea        |                  |                  |                  |                  |                  |                  |                  |                  |                  |                  |                  |                  | \n",
       "| 4495 | ham              | eggs             | honey            | gums             | light cream      | ham              |                  |                  |                  |                  |                  |                  |                  |                  |                  |                  |                  |                  |                  |                  | \n",
       "| 4527 | ham              | milk             | chicken          | whole wheat rice | ham              | eggplant         |                  |                  |                  |                  |                  |                  |                  |                  |                  |                  |                  |                  |                  |                  | \n",
       "| 6904 | ground beef      | spaghetti        | mineral water    | chocolate        | salmon           | chicken          | chocolate        | frozen smoothie  |                  |                  |                  |                  |                  |                  |                  |                  |                  |                  |                  |                  | \n",
       "| 7110 | ham              | shrimp           | milk             | flax seed        | salmon           | corn             | ham              | eggplant         |                  |                  |                  |                  |                  |                  |                  |                  |                  |                  |                  |                  | \n",
       "\n",
       "\n"
      ],
      "text/plain": [
       "     V1          V2        V3            V4               V5         \n",
       "4395 burgers     ham       eggs          whole wheat rice ham        \n",
       "4495 ham         eggs      honey         gums             light cream\n",
       "4527 ham         milk      chicken       whole wheat rice ham        \n",
       "6904 ground beef spaghetti mineral water chocolate        salmon     \n",
       "7110 ham         shrimp    milk          flax seed        salmon     \n",
       "     V6           V7        V8              V9 V10 V11 V12 V13 V14 V15 V16 V17\n",
       "4395 french fries cookies   green tea                                         \n",
       "4495 ham                                                                      \n",
       "4527 eggplant                                                                 \n",
       "6904 chicken      chocolate frozen smoothie                                   \n",
       "7110 corn         ham       eggplant                                          \n",
       "     V18 V19 V20\n",
       "4395            \n",
       "4495            \n",
       "4527            \n",
       "6904            \n",
       "7110            "
      ]
     },
     "metadata": {},
     "output_type": "display_data"
    }
   ],
   "source": [
    "dups=apply(df,1,function(row) anyDuplicated(row,incomparables=c('')))\n",
    "df[dups!=0,]"
   ]
  },
  {
   "cell_type": "code",
   "execution_count": 7,
   "metadata": {
    "collapsed": false,
    "deletable": true,
    "editable": true
   },
   "outputs": [
    {
     "data": {
      "text/html": [
       "<table>\n",
       "<thead><tr><th></th><th scope=col>V1</th><th scope=col>V2</th><th scope=col>V3</th><th scope=col>V4</th><th scope=col>V5</th><th scope=col>V6</th><th scope=col>V7</th><th scope=col>V8</th><th scope=col>V9</th><th scope=col>V10</th><th scope=col>V11</th><th scope=col>V12</th><th scope=col>V13</th><th scope=col>V14</th><th scope=col>V15</th><th scope=col>V16</th><th scope=col>V17</th><th scope=col>V18</th><th scope=col>V19</th><th scope=col>V20</th></tr></thead>\n",
       "<tbody>\n",
       "\t<tr><th scope=row>4395</th><td>burgers         </td><td>ham             </td><td>eggs            </td><td>whole wheat rice</td><td>                </td><td>french fries    </td><td>cookies         </td><td>green tea       </td><td>                </td><td>                </td><td>                </td><td>                </td><td>                </td><td>                </td><td>                </td><td>                </td><td>                </td><td>                </td><td>                </td><td>                </td></tr>\n",
       "\t<tr><th scope=row>4495</th><td>ham             </td><td>eggs            </td><td>honey           </td><td>gums            </td><td>light cream     </td><td>                </td><td>                </td><td>                </td><td>                </td><td>                </td><td>                </td><td>                </td><td>                </td><td>                </td><td>                </td><td>                </td><td>                </td><td>                </td><td>                </td><td>                </td></tr>\n",
       "\t<tr><th scope=row>4527</th><td>ham             </td><td>milk            </td><td>chicken         </td><td>whole wheat rice</td><td>                </td><td>eggplant        </td><td>                </td><td>                </td><td>                </td><td>                </td><td>                </td><td>                </td><td>                </td><td>                </td><td>                </td><td>                </td><td>                </td><td>                </td><td>                </td><td>                </td></tr>\n",
       "\t<tr><th scope=row>6904</th><td>ground beef     </td><td>spaghetti       </td><td>mineral water   </td><td>chocolate       </td><td>salmon          </td><td>chicken         </td><td>                </td><td>frozen smoothie </td><td>                </td><td>                </td><td>                </td><td>                </td><td>                </td><td>                </td><td>                </td><td>                </td><td>                </td><td>                </td><td>                </td><td>                </td></tr>\n",
       "\t<tr><th scope=row>7110</th><td>ham             </td><td>shrimp          </td><td>milk            </td><td>flax seed       </td><td>salmon          </td><td>corn            </td><td>                </td><td>eggplant        </td><td>                </td><td>                </td><td>                </td><td>                </td><td>                </td><td>                </td><td>                </td><td>                </td><td>                </td><td>                </td><td>                </td><td>                </td></tr>\n",
       "</tbody>\n",
       "</table>\n"
      ],
      "text/latex": [
       "\\begin{tabular}{r|llllllllllllllllllll}\n",
       "  & V1 & V2 & V3 & V4 & V5 & V6 & V7 & V8 & V9 & V10 & V11 & V12 & V13 & V14 & V15 & V16 & V17 & V18 & V19 & V20\\\\\n",
       "\\hline\n",
       "\t4395 & burgers          & ham              & eggs             & whole wheat rice &                  & french fries     & cookies          & green tea        &                  &                  &                  &                  &                  &                  &                  &                  &                  &                  &                  &                 \\\\\n",
       "\t4495 & ham              & eggs             & honey            & gums             & light cream      &                  &                  &                  &                  &                  &                  &                  &                  &                  &                  &                  &                  &                  &                  &                 \\\\\n",
       "\t4527 & ham              & milk             & chicken          & whole wheat rice &                  & eggplant         &                  &                  &                  &                  &                  &                  &                  &                  &                  &                  &                  &                  &                  &                 \\\\\n",
       "\t6904 & ground beef      & spaghetti        & mineral water    & chocolate        & salmon           & chicken          &                  & frozen smoothie  &                  &                  &                  &                  &                  &                  &                  &                  &                  &                  &                  &                 \\\\\n",
       "\t7110 & ham              & shrimp           & milk             & flax seed        & salmon           & corn             &                  & eggplant         &                  &                  &                  &                  &                  &                  &                  &                  &                  &                  &                  &                 \\\\\n",
       "\\end{tabular}\n"
      ],
      "text/markdown": [
       "\n",
       "| <!--/--> | V1 | V2 | V3 | V4 | V5 | V6 | V7 | V8 | V9 | V10 | V11 | V12 | V13 | V14 | V15 | V16 | V17 | V18 | V19 | V20 | \n",
       "|---|---|---|---|---|\n",
       "| 4395 | burgers          | ham              | eggs             | whole wheat rice |                  | french fries     | cookies          | green tea        |                  |                  |                  |                  |                  |                  |                  |                  |                  |                  |                  |                  | \n",
       "| 4495 | ham              | eggs             | honey            | gums             | light cream      |                  |                  |                  |                  |                  |                  |                  |                  |                  |                  |                  |                  |                  |                  |                  | \n",
       "| 4527 | ham              | milk             | chicken          | whole wheat rice |                  | eggplant         |                  |                  |                  |                  |                  |                  |                  |                  |                  |                  |                  |                  |                  |                  | \n",
       "| 6904 | ground beef      | spaghetti        | mineral water    | chocolate        | salmon           | chicken          |                  | frozen smoothie  |                  |                  |                  |                  |                  |                  |                  |                  |                  |                  |                  |                  | \n",
       "| 7110 | ham              | shrimp           | milk             | flax seed        | salmon           | corn             |                  | eggplant         |                  |                  |                  |                  |                  |                  |                  |                  |                  |                  |                  |                  | \n",
       "\n",
       "\n"
      ],
      "text/plain": [
       "     V1          V2        V3            V4               V5         \n",
       "4395 burgers     ham       eggs          whole wheat rice            \n",
       "4495 ham         eggs      honey         gums             light cream\n",
       "4527 ham         milk      chicken       whole wheat rice            \n",
       "6904 ground beef spaghetti mineral water chocolate        salmon     \n",
       "7110 ham         shrimp    milk          flax seed        salmon     \n",
       "     V6           V7      V8              V9 V10 V11 V12 V13 V14 V15 V16 V17\n",
       "4395 french fries cookies green tea                                         \n",
       "4495                                                                        \n",
       "4527 eggplant                                                               \n",
       "6904 chicken              frozen smoothie                                   \n",
       "7110 corn                 eggplant                                          \n",
       "     V18 V19 V20\n",
       "4395            \n",
       "4495            \n",
       "4527            \n",
       "6904            \n",
       "7110            "
      ]
     },
     "metadata": {},
     "output_type": "display_data"
    }
   ],
   "source": [
    "for(rowNum in rownames(df[dups!=0,])){\n",
    "    df[rowNum,duplicated(c(t(df[rowNum,])),incomparables=c(''))]=''\n",
    "}\n",
    "df[dups!=0,]"
   ]
  },
  {
   "cell_type": "markdown",
   "metadata": {
    "deletable": true,
    "editable": true
   },
   "source": [
    "# Doing it all at once"
   ]
  },
  {
   "cell_type": "code",
   "execution_count": 8,
   "metadata": {
    "collapsed": false,
    "deletable": true,
    "editable": true
   },
   "outputs": [
    {
     "name": "stdout",
     "output_type": "stream",
     "text": [
      "distribution of transactions with duplicates:\n",
      "1 \n",
      "5 \n",
      "Formal class 'transactions' [package \"arules\"] with 3 slots\n",
      "  ..@ data       :Formal class 'ngCMatrix' [package \"Matrix\"] with 5 slots\n",
      "  .. .. ..@ i       : int [1:29358] 0 1 3 32 38 47 52 53 59 64 ...\n",
      "  .. .. ..@ p       : int [1:7502] 0 20 23 24 26 31 32 34 37 40 ...\n",
      "  .. .. ..@ Dim     : int [1:2] 119 7501\n",
      "  .. .. ..@ Dimnames:List of 2\n",
      "  .. .. .. ..$ : NULL\n",
      "  .. .. .. ..$ : NULL\n",
      "  .. .. ..@ factors : list()\n",
      "  ..@ itemInfo   :'data.frame':\t119 obs. of  1 variable:\n",
      "  .. ..$ labels: chr [1:119] \"almonds\" \"antioxydant juice\" \"asparagus\" \"avocado\" ...\n",
      "  ..@ itemsetInfo:'data.frame':\t0 obs. of  0 variables\n"
     ]
    }
   ],
   "source": [
    "df=read.transactions('Market_Basket_Optimisation.csv',sep=',',rm.duplicates=TRUE)\n",
    "str(df)"
   ]
  },
  {
   "cell_type": "code",
   "execution_count": 9,
   "metadata": {
    "collapsed": false,
    "deletable": true,
    "editable": true
   },
   "outputs": [
    {
     "data": {
      "text/plain": [
       "transactions as itemMatrix in sparse format with\n",
       " 7501 rows (elements/itemsets/transactions) and\n",
       " 119 columns (items) and a density of 0.03288973 \n",
       "\n",
       "most frequent items:\n",
       "mineral water          eggs     spaghetti  french fries     chocolate \n",
       "         1788          1348          1306          1282          1229 \n",
       "      (Other) \n",
       "        22405 \n",
       "\n",
       "element (itemset/transaction) length distribution:\n",
       "sizes\n",
       "   1    2    3    4    5    6    7    8    9   10   11   12   13   14   15   16 \n",
       "1754 1358 1044  816  667  493  391  324  259  139  102   67   40   22   17    4 \n",
       "  18   19   20 \n",
       "   1    2    1 \n",
       "\n",
       "   Min. 1st Qu.  Median    Mean 3rd Qu.    Max. \n",
       "  1.000   2.000   3.000   3.914   5.000  20.000 \n",
       "\n",
       "includes extended item information - examples:\n",
       "             labels\n",
       "1           almonds\n",
       "2 antioxydant juice\n",
       "3         asparagus"
      ]
     },
     "metadata": {},
     "output_type": "display_data"
    }
   ],
   "source": [
    "summary(df)"
   ]
  },
  {
   "cell_type": "code",
   "execution_count": 10,
   "metadata": {
    "collapsed": false,
    "deletable": true,
    "editable": true
   },
   "outputs": [
    {
     "data": {
      "text/html": [
       "<ol class=list-inline>\n",
       "\t<li>FALSE</li>\n",
       "\t<li>FALSE</li>\n",
       "\t<li>FALSE</li>\n",
       "\t<li>FALSE</li>\n",
       "\t<li>FALSE</li>\n",
       "\t<li>FALSE</li>\n",
       "\t<li>FALSE</li>\n",
       "\t<li>FALSE</li>\n",
       "\t<li>FALSE</li>\n",
       "\t<li>FALSE</li>\n",
       "\t<li>FALSE</li>\n",
       "\t<li>FALSE</li>\n",
       "\t<li>FALSE</li>\n",
       "\t<li>FALSE</li>\n",
       "\t<li>FALSE</li>\n",
       "\t<li>FALSE</li>\n",
       "\t<li>FALSE</li>\n",
       "\t<li>FALSE</li>\n",
       "\t<li>FALSE</li>\n",
       "\t<li>FALSE</li>\n",
       "\t<li>FALSE</li>\n",
       "\t<li>FALSE</li>\n",
       "\t<li>FALSE</li>\n",
       "\t<li>FALSE</li>\n",
       "\t<li>FALSE</li>\n",
       "\t<li>FALSE</li>\n",
       "\t<li>FALSE</li>\n",
       "\t<li>FALSE</li>\n",
       "\t<li>FALSE</li>\n",
       "\t<li>FALSE</li>\n",
       "\t<li>FALSE</li>\n",
       "\t<li>FALSE</li>\n",
       "\t<li>FALSE</li>\n",
       "\t<li>FALSE</li>\n",
       "\t<li>FALSE</li>\n",
       "\t<li>FALSE</li>\n",
       "\t<li>FALSE</li>\n",
       "\t<li>FALSE</li>\n",
       "\t<li>FALSE</li>\n",
       "\t<li>FALSE</li>\n",
       "\t<li>FALSE</li>\n",
       "\t<li>FALSE</li>\n",
       "\t<li>FALSE</li>\n",
       "\t<li>FALSE</li>\n",
       "\t<li>FALSE</li>\n",
       "\t<li>FALSE</li>\n",
       "\t<li>FALSE</li>\n",
       "\t<li>FALSE</li>\n",
       "\t<li>FALSE</li>\n",
       "\t<li>FALSE</li>\n",
       "\t<li>FALSE</li>\n",
       "\t<li>FALSE</li>\n",
       "\t<li>FALSE</li>\n",
       "\t<li>FALSE</li>\n",
       "\t<li>FALSE</li>\n",
       "\t<li>FALSE</li>\n",
       "\t<li>FALSE</li>\n",
       "\t<li>FALSE</li>\n",
       "\t<li>FALSE</li>\n",
       "\t<li>FALSE</li>\n",
       "\t<li>FALSE</li>\n",
       "\t<li>FALSE</li>\n",
       "\t<li>FALSE</li>\n",
       "\t<li>FALSE</li>\n",
       "\t<li>FALSE</li>\n",
       "\t<li>FALSE</li>\n",
       "\t<li>FALSE</li>\n",
       "\t<li>FALSE</li>\n",
       "\t<li>FALSE</li>\n",
       "\t<li>FALSE</li>\n",
       "\t<li>FALSE</li>\n",
       "\t<li>FALSE</li>\n",
       "\t<li>FALSE</li>\n",
       "\t<li>FALSE</li>\n",
       "\t<li>FALSE</li>\n",
       "\t<li>FALSE</li>\n",
       "\t<li>FALSE</li>\n",
       "\t<li>FALSE</li>\n",
       "\t<li>FALSE</li>\n",
       "\t<li>FALSE</li>\n",
       "\t<li>FALSE</li>\n",
       "\t<li>FALSE</li>\n",
       "\t<li>FALSE</li>\n",
       "\t<li>FALSE</li>\n",
       "\t<li>FALSE</li>\n",
       "\t<li>FALSE</li>\n",
       "\t<li>FALSE</li>\n",
       "\t<li>FALSE</li>\n",
       "\t<li>FALSE</li>\n",
       "\t<li>FALSE</li>\n",
       "\t<li>FALSE</li>\n",
       "\t<li>FALSE</li>\n",
       "\t<li>FALSE</li>\n",
       "\t<li>FALSE</li>\n",
       "\t<li>FALSE</li>\n",
       "\t<li>FALSE</li>\n",
       "\t<li>FALSE</li>\n",
       "\t<li>FALSE</li>\n",
       "\t<li>FALSE</li>\n",
       "\t<li>FALSE</li>\n",
       "\t<li>FALSE</li>\n",
       "\t<li>FALSE</li>\n",
       "\t<li>FALSE</li>\n",
       "\t<li>FALSE</li>\n",
       "\t<li>FALSE</li>\n",
       "\t<li>FALSE</li>\n",
       "\t<li>FALSE</li>\n",
       "\t<li>FALSE</li>\n",
       "\t<li>FALSE</li>\n",
       "\t<li>FALSE</li>\n",
       "\t<li>FALSE</li>\n",
       "\t<li>FALSE</li>\n",
       "\t<li>FALSE</li>\n",
       "\t<li>FALSE</li>\n",
       "\t<li>FALSE</li>\n",
       "\t<li>FALSE</li>\n",
       "\t<li>FALSE</li>\n",
       "\t<li>FALSE</li>\n",
       "\t<li>FALSE</li>\n",
       "</ol>\n"
      ],
      "text/latex": [
       "\\begin{enumerate*}\n",
       "\\item FALSE\n",
       "\\item FALSE\n",
       "\\item FALSE\n",
       "\\item FALSE\n",
       "\\item FALSE\n",
       "\\item FALSE\n",
       "\\item FALSE\n",
       "\\item FALSE\n",
       "\\item FALSE\n",
       "\\item FALSE\n",
       "\\item FALSE\n",
       "\\item FALSE\n",
       "\\item FALSE\n",
       "\\item FALSE\n",
       "\\item FALSE\n",
       "\\item FALSE\n",
       "\\item FALSE\n",
       "\\item FALSE\n",
       "\\item FALSE\n",
       "\\item FALSE\n",
       "\\item FALSE\n",
       "\\item FALSE\n",
       "\\item FALSE\n",
       "\\item FALSE\n",
       "\\item FALSE\n",
       "\\item FALSE\n",
       "\\item FALSE\n",
       "\\item FALSE\n",
       "\\item FALSE\n",
       "\\item FALSE\n",
       "\\item FALSE\n",
       "\\item FALSE\n",
       "\\item FALSE\n",
       "\\item FALSE\n",
       "\\item FALSE\n",
       "\\item FALSE\n",
       "\\item FALSE\n",
       "\\item FALSE\n",
       "\\item FALSE\n",
       "\\item FALSE\n",
       "\\item FALSE\n",
       "\\item FALSE\n",
       "\\item FALSE\n",
       "\\item FALSE\n",
       "\\item FALSE\n",
       "\\item FALSE\n",
       "\\item FALSE\n",
       "\\item FALSE\n",
       "\\item FALSE\n",
       "\\item FALSE\n",
       "\\item FALSE\n",
       "\\item FALSE\n",
       "\\item FALSE\n",
       "\\item FALSE\n",
       "\\item FALSE\n",
       "\\item FALSE\n",
       "\\item FALSE\n",
       "\\item FALSE\n",
       "\\item FALSE\n",
       "\\item FALSE\n",
       "\\item FALSE\n",
       "\\item FALSE\n",
       "\\item FALSE\n",
       "\\item FALSE\n",
       "\\item FALSE\n",
       "\\item FALSE\n",
       "\\item FALSE\n",
       "\\item FALSE\n",
       "\\item FALSE\n",
       "\\item FALSE\n",
       "\\item FALSE\n",
       "\\item FALSE\n",
       "\\item FALSE\n",
       "\\item FALSE\n",
       "\\item FALSE\n",
       "\\item FALSE\n",
       "\\item FALSE\n",
       "\\item FALSE\n",
       "\\item FALSE\n",
       "\\item FALSE\n",
       "\\item FALSE\n",
       "\\item FALSE\n",
       "\\item FALSE\n",
       "\\item FALSE\n",
       "\\item FALSE\n",
       "\\item FALSE\n",
       "\\item FALSE\n",
       "\\item FALSE\n",
       "\\item FALSE\n",
       "\\item FALSE\n",
       "\\item FALSE\n",
       "\\item FALSE\n",
       "\\item FALSE\n",
       "\\item FALSE\n",
       "\\item FALSE\n",
       "\\item FALSE\n",
       "\\item FALSE\n",
       "\\item FALSE\n",
       "\\item FALSE\n",
       "\\item FALSE\n",
       "\\item FALSE\n",
       "\\item FALSE\n",
       "\\item FALSE\n",
       "\\item FALSE\n",
       "\\item FALSE\n",
       "\\item FALSE\n",
       "\\item FALSE\n",
       "\\item FALSE\n",
       "\\item FALSE\n",
       "\\item FALSE\n",
       "\\item FALSE\n",
       "\\item FALSE\n",
       "\\item FALSE\n",
       "\\item FALSE\n",
       "\\item FALSE\n",
       "\\item FALSE\n",
       "\\item FALSE\n",
       "\\item FALSE\n",
       "\\item FALSE\n",
       "\\end{enumerate*}\n"
      ],
      "text/markdown": [
       "1. FALSE\n",
       "2. FALSE\n",
       "3. FALSE\n",
       "4. FALSE\n",
       "5. FALSE\n",
       "6. FALSE\n",
       "7. FALSE\n",
       "8. FALSE\n",
       "9. FALSE\n",
       "10. FALSE\n",
       "11. FALSE\n",
       "12. FALSE\n",
       "13. FALSE\n",
       "14. FALSE\n",
       "15. FALSE\n",
       "16. FALSE\n",
       "17. FALSE\n",
       "18. FALSE\n",
       "19. FALSE\n",
       "20. FALSE\n",
       "21. FALSE\n",
       "22. FALSE\n",
       "23. FALSE\n",
       "24. FALSE\n",
       "25. FALSE\n",
       "26. FALSE\n",
       "27. FALSE\n",
       "28. FALSE\n",
       "29. FALSE\n",
       "30. FALSE\n",
       "31. FALSE\n",
       "32. FALSE\n",
       "33. FALSE\n",
       "34. FALSE\n",
       "35. FALSE\n",
       "36. FALSE\n",
       "37. FALSE\n",
       "38. FALSE\n",
       "39. FALSE\n",
       "40. FALSE\n",
       "41. FALSE\n",
       "42. FALSE\n",
       "43. FALSE\n",
       "44. FALSE\n",
       "45. FALSE\n",
       "46. FALSE\n",
       "47. FALSE\n",
       "48. FALSE\n",
       "49. FALSE\n",
       "50. FALSE\n",
       "51. FALSE\n",
       "52. FALSE\n",
       "53. FALSE\n",
       "54. FALSE\n",
       "55. FALSE\n",
       "56. FALSE\n",
       "57. FALSE\n",
       "58. FALSE\n",
       "59. FALSE\n",
       "60. FALSE\n",
       "61. FALSE\n",
       "62. FALSE\n",
       "63. FALSE\n",
       "64. FALSE\n",
       "65. FALSE\n",
       "66. FALSE\n",
       "67. FALSE\n",
       "68. FALSE\n",
       "69. FALSE\n",
       "70. FALSE\n",
       "71. FALSE\n",
       "72. FALSE\n",
       "73. FALSE\n",
       "74. FALSE\n",
       "75. FALSE\n",
       "76. FALSE\n",
       "77. FALSE\n",
       "78. FALSE\n",
       "79. FALSE\n",
       "80. FALSE\n",
       "81. FALSE\n",
       "82. FALSE\n",
       "83. FALSE\n",
       "84. FALSE\n",
       "85. FALSE\n",
       "86. FALSE\n",
       "87. FALSE\n",
       "88. FALSE\n",
       "89. FALSE\n",
       "90. FALSE\n",
       "91. FALSE\n",
       "92. FALSE\n",
       "93. FALSE\n",
       "94. FALSE\n",
       "95. FALSE\n",
       "96. FALSE\n",
       "97. FALSE\n",
       "98. FALSE\n",
       "99. FALSE\n",
       "100. FALSE\n",
       "101. FALSE\n",
       "102. FALSE\n",
       "103. FALSE\n",
       "104. FALSE\n",
       "105. FALSE\n",
       "106. FALSE\n",
       "107. FALSE\n",
       "108. FALSE\n",
       "109. FALSE\n",
       "110. FALSE\n",
       "111. FALSE\n",
       "112. FALSE\n",
       "113. FALSE\n",
       "114. FALSE\n",
       "115. FALSE\n",
       "116. FALSE\n",
       "117. FALSE\n",
       "118. FALSE\n",
       "119. FALSE\n",
       "\n",
       "\n"
      ],
      "text/plain": [
       "  [1] FALSE FALSE FALSE FALSE FALSE FALSE FALSE FALSE FALSE FALSE FALSE FALSE\n",
       " [13] FALSE FALSE FALSE FALSE FALSE FALSE FALSE FALSE FALSE FALSE FALSE FALSE\n",
       " [25] FALSE FALSE FALSE FALSE FALSE FALSE FALSE FALSE FALSE FALSE FALSE FALSE\n",
       " [37] FALSE FALSE FALSE FALSE FALSE FALSE FALSE FALSE FALSE FALSE FALSE FALSE\n",
       " [49] FALSE FALSE FALSE FALSE FALSE FALSE FALSE FALSE FALSE FALSE FALSE FALSE\n",
       " [61] FALSE FALSE FALSE FALSE FALSE FALSE FALSE FALSE FALSE FALSE FALSE FALSE\n",
       " [73] FALSE FALSE FALSE FALSE FALSE FALSE FALSE FALSE FALSE FALSE FALSE FALSE\n",
       " [85] FALSE FALSE FALSE FALSE FALSE FALSE FALSE FALSE FALSE FALSE FALSE FALSE\n",
       " [97] FALSE FALSE FALSE FALSE FALSE FALSE FALSE FALSE FALSE FALSE FALSE FALSE\n",
       "[109] FALSE FALSE FALSE FALSE FALSE FALSE FALSE FALSE FALSE FALSE FALSE"
      ]
     },
     "metadata": {},
     "output_type": "display_data"
    }
   ],
   "source": [
    "duplicated(itemInfo(df))"
   ]
  },
  {
   "cell_type": "code",
   "execution_count": 11,
   "metadata": {
    "collapsed": false,
    "deletable": true,
    "editable": true
   },
   "outputs": [
    {
     "data": {
      "image/png": "[encoded data removed]",
      "text/plain": [
       "plot without title"
      ]
     },
     "metadata": {},
     "output_type": "display_data"
    }
   ],
   "source": [
    "itemFrequencyPlot(df,topN=25)"
   ]
  },
  {
   "cell_type": "markdown",
   "metadata": {
    "deletable": true,
    "editable": true
   },
   "source": [
    "# Finding the rules"
   ]
  },
  {
   "cell_type": "code",
   "execution_count": 13,
   "metadata": {
    "collapsed": false,
    "deletable": true,
    "editable": true
   },
   "outputs": [
    {
     "data": {
      "text/html": [
       "0.00279962671643781"
      ],
      "text/latex": [
       "0.00279962671643781"
      ],
      "text/markdown": [
       "0.00279962671643781"
      ],
      "text/plain": [
       "[1] 0.002799627"
      ]
     },
     "metadata": {},
     "output_type": "display_data"
    }
   ],
   "source": [
    "min_buys_per_day=3\n",
    "min_support=min_buys_per_day*7/length(df)\n",
    "min_support"
   ]
  },
  {
   "cell_type": "code",
   "execution_count": 17,
   "metadata": {
    "collapsed": false,
    "deletable": true,
    "editable": true
   },
   "outputs": [
    {
     "name": "stdout",
     "output_type": "stream",
     "text": [
      "Apriori\n",
      "\n",
      "Parameter specification:\n",
      " confidence minval smax arem  aval originalSupport maxtime support minlen\n",
      "        0.8    0.1    1 none FALSE            TRUE       5   0.003      1\n",
      " maxlen target   ext\n",
      "     10  rules FALSE\n",
      "\n",
      "Algorithmic control:\n",
      " filter tree heap memopt load sort verbose\n",
      "    0.1 TRUE TRUE  FALSE TRUE    2    TRUE\n",
      "\n",
      "Absolute minimum support count: 22 \n",
      "\n",
      "set item appearances ...[0 item(s)] done [0.00s].\n",
      "set transactions ...[119 item(s), 7501 transaction(s)] done [0.00s].\n",
      "sorting and recoding items ... [115 item(s)] done [0.00s].\n",
      "creating transaction tree ... done [0.01s].\n",
      "checking subsets of size 1 2 3 4 5 done [0.00s].\n",
      "writing ... [0 rule(s)] done [0.00s].\n",
      "creating S4 object  ... done [0.00s].\n"
     ]
    }
   ],
   "source": [
    "rules=apriori(data=df,parameter=list(support=0.003,confidence=0.8))"
   ]
  },
  {
   "cell_type": "code",
   "execution_count": 18,
   "metadata": {
    "collapsed": false,
    "deletable": true,
    "editable": true
   },
   "outputs": [
    {
     "name": "stdout",
     "output_type": "stream",
     "text": [
      "Apriori\n",
      "\n",
      "Parameter specification:\n",
      " confidence minval smax arem  aval originalSupport maxtime support minlen\n",
      "        0.4    0.1    1 none FALSE            TRUE       5   0.003      1\n",
      " maxlen target   ext\n",
      "     10  rules FALSE\n",
      "\n",
      "Algorithmic control:\n",
      " filter tree heap memopt load sort verbose\n",
      "    0.1 TRUE TRUE  FALSE TRUE    2    TRUE\n",
      "\n",
      "Absolute minimum support count: 22 \n",
      "\n",
      "set item appearances ...[0 item(s)] done [0.00s].\n",
      "set transactions ...[119 item(s), 7501 transaction(s)] done [0.00s].\n",
      "sorting and recoding items ... [115 item(s)] done [0.00s].\n",
      "creating transaction tree ... done [0.00s].\n",
      "checking subsets of size 1 2 3 4 5 done [0.00s].\n",
      "writing ... [281 rule(s)] done [0.00s].\n",
      "creating S4 object  ... done [0.00s].\n"
     ]
    }
   ],
   "source": [
    "rules=apriori(data=df,parameter=list(support=0.003,confidence=0.4))"
   ]
  },
  {
   "cell_type": "code",
   "execution_count": 33,
   "metadata": {
    "collapsed": false,
    "deletable": true,
    "editable": true
   },
   "outputs": [
    {
     "name": "stdout",
     "output_type": "stream",
     "text": [
      "     lhs                                            rhs                \n",
      "[1]  {mineral water,whole wheat pasta}           => {olive oil}        \n",
      "[2]  {spaghetti,tomato sauce}                    => {ground beef}      \n",
      "[3]  {french fries,herb & pepper}                => {ground beef}      \n",
      "[4]  {cereals,spaghetti}                         => {ground beef}      \n",
      "[5]  {frozen vegetables,mineral water,soup}      => {milk}             \n",
      "[6]  {chocolate,herb & pepper}                   => {ground beef}      \n",
      "[7]  {chocolate,mineral water,shrimp}            => {frozen vegetables}\n",
      "[8]  {frozen vegetables,mineral water,olive oil} => {milk}             \n",
      "[9]  {cereals,ground beef}                       => {spaghetti}        \n",
      "[10] {frozen vegetables,soup}                    => {milk}             \n",
      "     support     confidence lift    \n",
      "[1]  0.003866151 0.4027778  6.115863\n",
      "[2]  0.003066258 0.4893617  4.980600\n",
      "[3]  0.003199573 0.4615385  4.697422\n",
      "[4]  0.003066258 0.4600000  4.681764\n",
      "[5]  0.003066258 0.6052632  4.670863\n",
      "[6]  0.003999467 0.4411765  4.490183\n",
      "[7]  0.003199573 0.4210526  4.417225\n",
      "[8]  0.003332889 0.5102041  3.937285\n",
      "[9]  0.003066258 0.6764706  3.885303\n",
      "[10] 0.003999467 0.5000000  3.858539\n"
     ]
    }
   ],
   "source": [
    "inspect(head(sort(rules,by=\"lift\"),10))"
   ]
  },
  {
   "cell_type": "code",
   "execution_count": 26,
   "metadata": {
    "collapsed": false,
    "deletable": true,
    "editable": true
   },
   "outputs": [
    {
     "data": {
      "image/png": "[encoded data removed]",
      "text/plain": [
       "plot without title"
      ]
     },
     "metadata": {},
     "output_type": "display_data"
    }
   ],
   "source": [
    "plot(rules)"
   ]
  },
  {
   "cell_type": "code",
   "execution_count": 34,
   "metadata": {
    "collapsed": false,
    "deletable": true,
    "editable": true
   },
   "outputs": [
    {
     "name": "stdout",
     "output_type": "stream",
     "text": [
      "Apriori\n",
      "\n",
      "Parameter specification:\n",
      " confidence minval smax arem  aval originalSupport maxtime support minlen\n",
      "        0.2    0.1    1 none FALSE            TRUE       5   0.003      1\n",
      " maxlen target   ext\n",
      "     10  rules FALSE\n",
      "\n",
      "Algorithmic control:\n",
      " filter tree heap memopt load sort verbose\n",
      "    0.1 TRUE TRUE  FALSE TRUE    2    TRUE\n",
      "\n",
      "Absolute minimum support count: 22 \n",
      "\n",
      "set item appearances ...[0 item(s)] done [0.00s].\n",
      "set transactions ...[119 item(s), 7501 transaction(s)] done [0.00s].\n",
      "sorting and recoding items ... [115 item(s)] done [0.00s].\n",
      "creating transaction tree ... done [0.00s].\n",
      "checking subsets of size 1 2 3 4 5 done [0.00s].\n",
      "writing ... [1348 rule(s)] done [0.00s].\n",
      "creating S4 object  ... done [0.00s].\n"
     ]
    }
   ],
   "source": [
    "rules=apriori(data=df,parameter=list(support=0.003,confidence=0.2))"
   ]
  },
  {
   "cell_type": "code",
   "execution_count": 35,
   "metadata": {
    "collapsed": false,
    "deletable": true,
    "editable": true
   },
   "outputs": [
    {
     "name": "stdout",
     "output_type": "stream",
     "text": [
      "     lhs                                       rhs             support    \n",
      "[1]  {mineral water,whole wheat pasta}      => {olive oil}     0.003866151\n",
      "[2]  {frozen vegetables,milk,mineral water} => {soup}          0.003066258\n",
      "[3]  {fromage blanc}                        => {honey}         0.003332889\n",
      "[4]  {spaghetti,tomato sauce}               => {ground beef}   0.003066258\n",
      "[5]  {light cream}                          => {chicken}       0.004532729\n",
      "[6]  {pasta}                                => {escalope}      0.005865885\n",
      "[7]  {french fries,herb & pepper}           => {ground beef}   0.003199573\n",
      "[8]  {cereals,spaghetti}                    => {ground beef}   0.003066258\n",
      "[9]  {frozen vegetables,mineral water,soup} => {milk}          0.003066258\n",
      "[10] {french fries,ground beef}             => {herb & pepper} 0.003199573\n",
      "     confidence lift    \n",
      "[1]  0.4027778  6.115863\n",
      "[2]  0.2771084  5.484407\n",
      "[3]  0.2450980  5.164271\n",
      "[4]  0.4893617  4.980600\n",
      "[5]  0.2905983  4.843951\n",
      "[6]  0.3728814  4.700812\n",
      "[7]  0.4615385  4.697422\n",
      "[8]  0.4600000  4.681764\n",
      "[9]  0.6052632  4.670863\n",
      "[10] 0.2307692  4.665768\n"
     ]
    }
   ],
   "source": [
    "inspect(head(sort(rules,by=\"lift\"),10))"
   ]
  },
  {
   "cell_type": "code",
   "execution_count": 36,
   "metadata": {
    "collapsed": false,
    "deletable": true,
    "editable": true
   },
   "outputs": [
    {
     "data": {
      "image/png": "[encoded data removed]",
      "text/plain": [
       "plot without title"
      ]
     },
     "metadata": {},
     "output_type": "display_data"
    }
   ],
   "source": [
    "plot(rules)"
   ]
  },
  {
   "cell_type": "code",
   "execution_count": 37,
   "metadata": {
    "collapsed": false,
    "deletable": true,
    "editable": true,
    "scrolled": false
   },
   "outputs": [
    {
     "name": "stdout",
     "output_type": "stream",
     "text": [
      "Apriori\n",
      "\n",
      "Parameter specification:\n",
      " confidence minval smax arem  aval originalSupport maxtime support minlen\n",
      "        0.2    0.1    1 none FALSE            TRUE       5   0.004      1\n",
      " maxlen target   ext\n",
      "     10  rules FALSE\n",
      "\n",
      "Algorithmic control:\n",
      " filter tree heap memopt load sort verbose\n",
      "    0.1 TRUE TRUE  FALSE TRUE    2    TRUE\n",
      "\n",
      "Absolute minimum support count: 30 \n",
      "\n",
      "set item appearances ...[0 item(s)] done [0.00s].\n",
      "set transactions ...[119 item(s), 7501 transaction(s)] done [0.00s].\n",
      "sorting and recoding items ... [114 item(s)] done [0.00s].\n",
      "creating transaction tree ... done [0.01s].\n",
      "checking subsets of size 1 2 3 4 done [0.00s].\n",
      "writing ... [811 rule(s)] done [0.00s].\n",
      "creating S4 object  ... done [0.00s].\n"
     ]
    }
   ],
   "source": [
    "rules=apriori(data=df,parameter=list(support=0.004,confidence=0.2))"
   ]
  },
  {
   "cell_type": "code",
   "execution_count": 38,
   "metadata": {
    "collapsed": false,
    "deletable": true,
    "editable": true
   },
   "outputs": [
    {
     "name": "stdout",
     "output_type": "stream",
     "text": [
      "     lhs                       rhs                 support confidence     lift\n",
      "[1]  {light cream}          => {chicken}       0.004532729  0.2905983 4.843951\n",
      "[2]  {pasta}                => {escalope}      0.005865885  0.3728814 4.700812\n",
      "[3]  {pasta}                => {shrimp}        0.005065991  0.3220339 4.506672\n",
      "[4]  {eggs,                                                                   \n",
      "      ground beef}          => {herb & pepper} 0.004132782  0.2066667 4.178455\n",
      "[5]  {whole wheat pasta}    => {olive oil}     0.007998933  0.2714932 4.122410\n",
      "[6]  {herb & pepper,                                                          \n",
      "      spaghetti}            => {ground beef}   0.006399147  0.3934426 4.004360\n",
      "[7]  {herb & pepper,                                                          \n",
      "      mineral water}        => {ground beef}   0.006665778  0.3906250 3.975683\n",
      "[8]  {tomato sauce}         => {ground beef}   0.005332622  0.3773585 3.840659\n",
      "[9]  {mushroom cream sauce} => {escalope}      0.005732569  0.3006993 3.790833\n",
      "[10] {frozen vegetables,                                                      \n",
      "      mineral water,                                                          \n",
      "      spaghetti}            => {ground beef}   0.004399413  0.3666667 3.731841\n"
     ]
    }
   ],
   "source": [
    "inspect(head(sort(rules,by=\"lift\"),10))"
   ]
  },
  {
   "cell_type": "code",
   "execution_count": 39,
   "metadata": {
    "collapsed": false,
    "deletable": true,
    "editable": true
   },
   "outputs": [
    {
     "data": {
      "image/png": "[encoded data removed]",
      "text/plain": [
       "plot without title"
      ]
     },
     "metadata": {},
     "output_type": "display_data"
    }
   ],
   "source": [
    "plot(rules)"
   ]
  },
  {
   "cell_type": "code",
   "execution_count": null,
   "metadata": {
    "collapsed": true,
    "deletable": true,
    "editable": true
   },
   "outputs": [],
   "source": []
  }
 ],
 "metadata": {
  "kernelspec": {
   "display_name": "R",
   "language": "R",
   "name": "ir"
  },
  "language_info": {
   "codemirror_mode": "r",
   "file_extension": ".r",
   "mimetype": "text/x-r-source",
   "name": "R",
   "pygments_lexer": "r",
   "version": "3.3.2"
  }
 },
 "nbformat": 4,
 "nbformat_minor": 2
}
