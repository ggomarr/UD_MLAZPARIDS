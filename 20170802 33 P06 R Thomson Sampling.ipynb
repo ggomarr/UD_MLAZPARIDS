{
 "cells": [
  {
   "cell_type": "markdown",
   "metadata": {
    "deletable": true,
    "editable": true
   },
   "source": [
    "# Libraries"
   ]
  },
  {
   "cell_type": "code",
   "execution_count": 1,
   "metadata": {
    "collapsed": false,
    "deletable": true,
    "editable": true
   },
   "outputs": [],
   "source": [
    "# install.packages('')"
   ]
  },
  {
   "cell_type": "code",
   "execution_count": 1,
   "metadata": {
    "collapsed": false,
    "deletable": true,
    "editable": true
   },
   "outputs": [],
   "source": [
    "library(caTools)\n",
    "library(ggplot2)\n",
    "library(repr)\n",
    "options(repr.plot.width=8,repr.plot.height=4)"
   ]
  },
  {
   "cell_type": "markdown",
   "metadata": {
    "deletable": true,
    "editable": true
   },
   "source": [
    "# Read data"
   ]
  },
  {
   "cell_type": "code",
   "execution_count": 2,
   "metadata": {
    "collapsed": false,
    "deletable": true,
    "editable": true,
    "scrolled": true
   },
   "outputs": [
    {
     "name": "stdout",
     "output_type": "stream",
     "text": [
      "'data.frame':\t10000 obs. of  10 variables:\n",
      " $ Ad.1 : int  1 0 0 0 0 1 0 1 0 0 ...\n",
      " $ Ad.2 : int  0 0 0 1 0 1 0 1 0 0 ...\n",
      " $ Ad.3 : int  0 0 0 0 0 0 0 0 0 1 ...\n",
      " $ Ad.4 : int  0 0 0 0 0 0 1 0 0 0 ...\n",
      " $ Ad.5 : int  1 0 0 0 0 0 0 1 0 0 ...\n",
      " $ Ad.6 : int  0 0 0 0 0 0 0 0 0 0 ...\n",
      " $ Ad.7 : int  0 0 0 0 0 0 0 0 0 0 ...\n",
      " $ Ad.8 : int  0 0 0 1 0 0 0 0 0 0 ...\n",
      " $ Ad.9 : int  1 1 0 0 0 0 0 0 0 0 ...\n",
      " $ Ad.10: int  0 0 0 0 0 0 0 0 0 0 ...\n"
     ]
    }
   ],
   "source": [
    "root_dir=\"~/Documents/Education/20170623 Udemy - Machine Learning A-Z: Hands-On Python and R in Data Science/\"\n",
    "work_dir=\"Course data/Part 6 - Reinforcement Learning/Section 33 - Thompson Sampling\"\n",
    "setwd(paste(root_dir,work_dir,sep=''))\n",
    "df=read.csv('Ads_CTR_Optimisation.csv')\n",
    "str(df)"
   ]
  },
  {
   "cell_type": "code",
   "execution_count": 3,
   "metadata": {
    "collapsed": false,
    "deletable": true,
    "editable": true
   },
   "outputs": [
    {
     "data": {
      "text/html": [
       "<dl class=dl-horizontal>\n",
       "\t<dt>Ad.1</dt>\n",
       "\t\t<dd>0.1703</dd>\n",
       "\t<dt>Ad.2</dt>\n",
       "\t\t<dd>0.1295</dd>\n",
       "\t<dt>Ad.3</dt>\n",
       "\t\t<dd>0.0728</dd>\n",
       "\t<dt>Ad.4</dt>\n",
       "\t\t<dd>0.1196</dd>\n",
       "\t<dt>Ad.5</dt>\n",
       "\t\t<dd>0.2695</dd>\n",
       "\t<dt>Ad.6</dt>\n",
       "\t\t<dd>0.0126</dd>\n",
       "\t<dt>Ad.7</dt>\n",
       "\t\t<dd>0.1112</dd>\n",
       "\t<dt>Ad.8</dt>\n",
       "\t\t<dd>0.2091</dd>\n",
       "\t<dt>Ad.9</dt>\n",
       "\t\t<dd>0.0952</dd>\n",
       "\t<dt>Ad.10</dt>\n",
       "\t\t<dd>0.0489</dd>\n",
       "</dl>\n"
      ],
      "text/latex": [
       "\\begin{description*}\n",
       "\\item[Ad.1] 0.1703\n",
       "\\item[Ad.2] 0.1295\n",
       "\\item[Ad.3] 0.0728\n",
       "\\item[Ad.4] 0.1196\n",
       "\\item[Ad.5] 0.2695\n",
       "\\item[Ad.6] 0.0126\n",
       "\\item[Ad.7] 0.1112\n",
       "\\item[Ad.8] 0.2091\n",
       "\\item[Ad.9] 0.0952\n",
       "\\item[Ad.10] 0.0489\n",
       "\\end{description*}\n"
      ],
      "text/markdown": [
       "Ad.1\n",
       ":   0.1703Ad.2\n",
       ":   0.1295Ad.3\n",
       ":   0.0728Ad.4\n",
       ":   0.1196Ad.5\n",
       ":   0.2695Ad.6\n",
       ":   0.0126Ad.7\n",
       ":   0.1112Ad.8\n",
       ":   0.2091Ad.9\n",
       ":   0.0952Ad.10\n",
       ":   0.0489\n",
       "\n"
      ],
      "text/plain": [
       "  Ad.1   Ad.2   Ad.3   Ad.4   Ad.5   Ad.6   Ad.7   Ad.8   Ad.9  Ad.10 \n",
       "0.1703 0.1295 0.0728 0.1196 0.2695 0.0126 0.1112 0.2091 0.0952 0.0489 "
      ]
     },
     "metadata": {},
     "output_type": "display_data"
    }
   ],
   "source": [
    "colMeans(df)"
   ]
  },
  {
   "cell_type": "markdown",
   "metadata": {
    "deletable": true,
    "editable": true
   },
   "source": [
    "# Thomson Sampling"
   ]
  },
  {
   "cell_type": "code",
   "execution_count": 31,
   "metadata": {
    "collapsed": false,
    "deletable": true,
    "editable": true
   },
   "outputs": [],
   "source": [
    "show=function(pos){\n",
    "    if(randomizeStream){\n",
    "        record_pos=sample(1:numShows,1)\n",
    "    } else {\n",
    "        record_pos=sum(o+z)+1\n",
    "    }\n",
    "    if(df[record_pos,pos]==1){\n",
    "        o[pos]<<-o[pos]+1\n",
    "    } else {\n",
    "        z[pos]<<-z[pos]+1\n",
    "    }\n",
    "}\n",
    "\n",
    "compute=function(){\n",
    "    a<<-sapply(1:numBandits,FUN=function(pos){o[pos]/(o[pos]+z[pos])})\n",
    "    probs<<-sapply(1:numBandits,FUN=function(pos){rbeta(1,o[pos]+1,z[pos]+1)})\n",
    "    p<<-sapply(probs,FUN=function(prob){prob/sum(probs)})\n",
    "}\n",
    "\n",
    "report=function(){\n",
    "    writeLines(noquote(paste('=== State at round',sum(o+z),'===')))\n",
    "    writeLines(noquote(paste('Total score:',sum(o))))\n",
    "    writeLines('Bandit  Num  Scr  Avg  Prb')\n",
    "    for(pos in 1:numBandits){\n",
    "        writeLines(noquote(paste(format(pos,   width=4),' ',\n",
    "                                 format(o[pos]+z[pos],width=4),\n",
    "                                 format(o[pos],width=4),\n",
    "                                 sprintf('%4.2f',a[pos]),\n",
    "                                 sprintf('%4.2f',p[pos]))))\n",
    "    }\n",
    "}\n",
    "\n",
    "seed=function(){\n",
    "    seedPosLst=1:numBandits\n",
    "    if(randomizeSeed){\n",
    "        seedPosLst=sample(seedPosLst)\n",
    "    }\n",
    "    writeLines(noquote(paste(c('Seeding [',seedPosLst,']...'),collapse=' ')))\n",
    "    for(pos in seedPosLst){\n",
    "        show(pos)\n",
    "    }\n",
    "    compute()\n",
    "    report()\n",
    "}\n",
    "\n",
    "streamItToMe=function(numRounds=100){\n",
    "    for(r in 1:numRounds){\n",
    "        if(useProbs){\n",
    "            pos=sample(1:numBandits,1,prob=p)\n",
    "        } else {\n",
    "            pos=which.max(p)\n",
    "        }\n",
    "        show(pos)\n",
    "        compute()\n",
    "    }\n",
    "    report()\n",
    "}"
   ]
  },
  {
   "cell_type": "code",
   "execution_count": 32,
   "metadata": {
    "collapsed": false,
    "deletable": true,
    "editable": true
   },
   "outputs": [],
   "source": [
    "seedRounds=1\n",
    "randomizeSeed=FALSE\n",
    "randomizeStream=FALSE\n",
    "useProbs=FALSE"
   ]
  },
  {
   "cell_type": "code",
   "execution_count": 33,
   "metadata": {
    "collapsed": false,
    "deletable": true,
    "editable": true
   },
   "outputs": [],
   "source": [
    "numShows  =dim(df)[1]\n",
    "numBandits=dim(df)[2]\n",
    "o=integer(numBandits)\n",
    "z=integer(numBandits)\n",
    "a=numeric(numBandits)\n",
    "p=numeric(numBandits)"
   ]
  },
  {
   "cell_type": "code",
   "execution_count": 34,
   "metadata": {
    "collapsed": false,
    "deletable": true,
    "editable": true
   },
   "outputs": [
    {
     "name": "stdout",
     "output_type": "stream",
     "text": [
      "Seeding [ 1 2 3 4 5 6 7 8 9 10 ]...\n",
      "=== State at round 10 ===\n",
      "Total score: 1\n",
      "Bandit  Num  Scr  Avg  Prb\n",
      "   1      1    1 1.00 0.33\n",
      "   2      1    0 0.00 0.03\n",
      "   3      1    0 0.00 0.05\n",
      "   4      1    0 0.00 0.24\n",
      "   5      1    0 0.00 0.24\n",
      "   6      1    0 0.00 0.01\n",
      "   7      1    0 0.00 0.03\n",
      "   8      1    0 0.00 0.01\n",
      "   9      1    0 0.00 0.00\n",
      "  10      1    0 0.00 0.06\n"
     ]
    }
   ],
   "source": [
    "seed()"
   ]
  },
  {
   "cell_type": "code",
   "execution_count": 35,
   "metadata": {
    "collapsed": false,
    "deletable": true,
    "editable": true
   },
   "outputs": [
    {
     "name": "stdout",
     "output_type": "stream",
     "text": [
      "=== State at round 10000 ===\n",
      "Total score: 2576\n",
      "Bandit  Num  Scr  Avg  Prb\n",
      "   1    268   53 0.20 0.19\n",
      "   2     52    4 0.08 0.05\n",
      "   3     40    2 0.05 0.08\n",
      "   4     39    2 0.05 0.03\n",
      "   5   8920 2389 0.27 0.23\n",
      "   6     26    0 0.00 0.05\n",
      "   7     30    1 0.03 0.03\n",
      "   8    506  112 0.22 0.21\n",
      "   9     78   10 0.13 0.08\n",
      "  10     41    3 0.07 0.03\n"
     ]
    }
   ],
   "source": [
    "streamItToMe(9990)"
   ]
  },
  {
   "cell_type": "code",
   "execution_count": 37,
   "metadata": {
    "collapsed": false,
    "deletable": true,
    "editable": true,
    "scrolled": false
   },
   "outputs": [
    {
     "data": {
      "image/png": "[encoded data removed]",
      "text/plain": [
       "plot without title"
      ]
     },
     "metadata": {},
     "output_type": "display_data"
    }
   ],
   "source": [
    "barplot(o+z,names.arg=1:numBandits)"
   ]
  },
  {
   "cell_type": "code",
   "execution_count": 39,
   "metadata": {
    "collapsed": false,
    "deletable": true,
    "editable": true
   },
   "outputs": [],
   "source": [
    "seedRounds=1\n",
    "randomizeSeed=TRUE\n",
    "randomizeStream=FALSE\n",
    "useProbs=FALSE"
   ]
  },
  {
   "cell_type": "code",
   "execution_count": 40,
   "metadata": {
    "collapsed": false,
    "deletable": true,
    "editable": true
   },
   "outputs": [],
   "source": [
    "numShows  =dim(df)[1]\n",
    "numBandits=dim(df)[2]\n",
    "o=integer(numBandits)\n",
    "z=integer(numBandits)\n",
    "a=numeric(numBandits)\n",
    "p=numeric(numBandits)"
   ]
  },
  {
   "cell_type": "code",
   "execution_count": 41,
   "metadata": {
    "collapsed": false,
    "deletable": true,
    "editable": true
   },
   "outputs": [
    {
     "name": "stdout",
     "output_type": "stream",
     "text": [
      "Seeding [ 6 3 10 1 9 5 2 7 8 4 ]...\n",
      "=== State at round 10 ===\n",
      "Total score: 0\n",
      "Bandit  Num  Scr  Avg  Prb\n",
      "   1      1    0 0.00 0.09\n",
      "   2      1    0 0.00 0.08\n",
      "   3      1    0 0.00 0.04\n",
      "   4      1    0 0.00 0.08\n",
      "   5      1    0 0.00 0.23\n",
      "   6      1    0 0.00 0.15\n",
      "   7      1    0 0.00 0.17\n",
      "   8      1    0 0.00 0.02\n",
      "   9      1    0 0.00 0.11\n",
      "  10      1    0 0.00 0.03\n"
     ]
    }
   ],
   "source": [
    "seed()"
   ]
  },
  {
   "cell_type": "code",
   "execution_count": 42,
   "metadata": {
    "collapsed": false,
    "deletable": true,
    "editable": true
   },
   "outputs": [
    {
     "name": "stdout",
     "output_type": "stream",
     "text": [
      "=== State at round 10000 ===\n",
      "Total score: 2584\n",
      "Bandit  Num  Scr  Avg  Prb\n",
      "   1    105   14 0.13 0.14\n",
      "   2     71    9 0.13 0.10\n",
      "   3     81    9 0.11 0.08\n",
      "   4     39    2 0.05 0.05\n",
      "   5   9234 2482 0.27 0.21\n",
      "   6     27    0 0.00 0.02\n",
      "   7     46    3 0.07 0.07\n",
      "   8    283   53 0.19 0.14\n",
      "   9     76   10 0.13 0.13\n",
      "  10     38    2 0.05 0.06\n"
     ]
    }
   ],
   "source": [
    "streamItToMe(9990)"
   ]
  },
  {
   "cell_type": "code",
   "execution_count": 43,
   "metadata": {
    "collapsed": false,
    "deletable": true,
    "editable": true,
    "scrolled": false
   },
   "outputs": [
    {
     "data": {
      "image/png": "[encoded data removed]",
      "text/plain": [
       "plot without title"
      ]
     },
     "metadata": {},
     "output_type": "display_data"
    }
   ],
   "source": [
    "barplot(o+z,names.arg=1:numBandits)"
   ]
  },
  {
   "cell_type": "code",
   "execution_count": 44,
   "metadata": {
    "collapsed": false,
    "deletable": true,
    "editable": true
   },
   "outputs": [],
   "source": [
    "seedRounds=1\n",
    "randomizeSeed=TRUE\n",
    "randomizeStream=TRUE\n",
    "useProbs=FALSE"
   ]
  },
  {
   "cell_type": "code",
   "execution_count": 45,
   "metadata": {
    "collapsed": false,
    "deletable": true,
    "editable": true
   },
   "outputs": [],
   "source": [
    "numShows  =dim(df)[1]\n",
    "numBandits=dim(df)[2]\n",
    "o=integer(numBandits)\n",
    "z=integer(numBandits)\n",
    "a=numeric(numBandits)\n",
    "p=numeric(numBandits)"
   ]
  },
  {
   "cell_type": "code",
   "execution_count": 46,
   "metadata": {
    "collapsed": false,
    "deletable": true,
    "editable": true
   },
   "outputs": [
    {
     "name": "stdout",
     "output_type": "stream",
     "text": [
      "Seeding [ 9 3 7 1 5 10 4 8 2 6 ]...\n",
      "=== State at round 10 ===\n",
      "Total score: 2\n",
      "Bandit  Num  Scr  Avg  Prb\n",
      "   1      1    0 0.00 0.04\n",
      "   2      1    1 1.00 0.21\n",
      "   3      1    0 0.00 0.14\n",
      "   4      1    0 0.00 0.17\n",
      "   5      1    1 1.00 0.16\n",
      "   6      1    0 0.00 0.03\n",
      "   7      1    0 0.00 0.05\n",
      "   8      1    0 0.00 0.11\n",
      "   9      1    0 0.00 0.01\n",
      "  10      1    0 0.00 0.08\n"
     ]
    }
   ],
   "source": [
    "seed()"
   ]
  },
  {
   "cell_type": "code",
   "execution_count": 47,
   "metadata": {
    "collapsed": false,
    "deletable": true,
    "editable": true
   },
   "outputs": [
    {
     "name": "stdout",
     "output_type": "stream",
     "text": [
      "=== State at round 10000 ===\n",
      "Total score: 2585\n",
      "Bandit  Num  Scr  Avg  Prb\n",
      "   1     40    2 0.05 0.05\n",
      "   2     49    4 0.08 0.04\n",
      "   3     34    1 0.03 0.05\n",
      "   4     71    8 0.11 0.19\n",
      "   5   9610 2557 0.27 0.33\n",
      "   6     25    0 0.00 0.07\n",
      "   7     26    0 0.00 0.02\n",
      "   8     62    8 0.13 0.14\n",
      "   9     42    3 0.07 0.06\n",
      "  10     41    2 0.05 0.05\n"
     ]
    }
   ],
   "source": [
    "streamItToMe(9990)"
   ]
  },
  {
   "cell_type": "code",
   "execution_count": 48,
   "metadata": {
    "collapsed": false,
    "deletable": true,
    "editable": true,
    "scrolled": false
   },
   "outputs": [
    {
     "data": {
      "image/png": "[encoded data removed]",
      "text/plain": [
       "plot without title"
      ]
     },
     "metadata": {},
     "output_type": "display_data"
    }
   ],
   "source": [
    "barplot(o+z,names.arg=1:numBandits)"
   ]
  },
  {
   "cell_type": "code",
   "execution_count": 49,
   "metadata": {
    "collapsed": false,
    "deletable": true,
    "editable": true
   },
   "outputs": [],
   "source": [
    "seedRounds=1\n",
    "randomizeSeed=TRUE\n",
    "randomizeStream=TRUE\n",
    "useProbs=TRUE"
   ]
  },
  {
   "cell_type": "code",
   "execution_count": 50,
   "metadata": {
    "collapsed": false,
    "deletable": true,
    "editable": true
   },
   "outputs": [],
   "source": [
    "numShows  =dim(df)[1]\n",
    "numBandits=dim(df)[2]\n",
    "o=integer(numBandits)\n",
    "z=integer(numBandits)\n",
    "a=numeric(numBandits)\n",
    "p=numeric(numBandits)"
   ]
  },
  {
   "cell_type": "code",
   "execution_count": 51,
   "metadata": {
    "collapsed": false,
    "deletable": true,
    "editable": true
   },
   "outputs": [
    {
     "name": "stdout",
     "output_type": "stream",
     "text": [
      "Seeding [ 3 10 4 8 1 9 6 2 7 5 ]...\n",
      "=== State at round 10 ===\n",
      "Total score: 1\n",
      "Bandit  Num  Scr  Avg  Prb\n",
      "   1      1    0 0.00 0.14\n",
      "   2      1    1 1.00 0.12\n",
      "   3      1    0 0.00 0.13\n",
      "   4      1    0 0.00 0.15\n",
      "   5      1    0 0.00 0.04\n",
      "   6      1    0 0.00 0.03\n",
      "   7      1    0 0.00 0.10\n",
      "   8      1    0 0.00 0.14\n",
      "   9      1    0 0.00 0.10\n",
      "  10      1    0 0.00 0.05\n"
     ]
    }
   ],
   "source": [
    "seed()"
   ]
  },
  {
   "cell_type": "code",
   "execution_count": 52,
   "metadata": {
    "collapsed": false,
    "deletable": true,
    "editable": true
   },
   "outputs": [
    {
     "name": "stdout",
     "output_type": "stream",
     "text": [
      "=== State at round 10000 ===\n",
      "Total score: 1766\n",
      "Bandit  Num  Scr  Avg  Prb\n",
      "   1   1254  216 0.17 0.12\n",
      "   2   1195  169 0.14 0.12\n",
      "   3    381   31 0.08 0.07\n",
      "   4   1125  163 0.14 0.10\n",
      "   5   2257  649 0.29 0.21\n",
      "   6    280    5 0.02 0.01\n",
      "   7    855  101 0.12 0.09\n",
      "   8   1640  353 0.22 0.14\n",
      "   9    599   55 0.09 0.09\n",
      "  10    414   24 0.06 0.04\n"
     ]
    }
   ],
   "source": [
    "streamItToMe(9990)"
   ]
  },
  {
   "cell_type": "code",
   "execution_count": 53,
   "metadata": {
    "collapsed": false,
    "deletable": true,
    "editable": true,
    "scrolled": false
   },
   "outputs": [
    {
     "data": {
      "image/png": "[encoded data removed]",
      "text/plain": [
       "plot without title"
      ]
     },
     "metadata": {},
     "output_type": "display_data"
    }
   ],
   "source": [
    "barplot(o+z,names.arg=1:numBandits)"
   ]
  },
  {
   "cell_type": "code",
   "execution_count": null,
   "metadata": {
    "collapsed": true,
    "deletable": true,
    "editable": true
   },
   "outputs": [],
   "source": []
  }
 ],
 "metadata": {
  "kernelspec": {
   "display_name": "R",
   "language": "R",
   "name": "ir"
  },
  "language_info": {
   "codemirror_mode": "r",
   "file_extension": ".r",
   "mimetype": "text/x-r-source",
   "name": "R",
   "pygments_lexer": "r",
   "version": "3.3.2"
  }
 },
 "nbformat": 4,
 "nbformat_minor": 2
}
