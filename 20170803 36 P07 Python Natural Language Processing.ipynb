{
 "cells": [
  {
   "cell_type": "markdown",
   "metadata": {
    "deletable": true,
    "editable": true
   },
   "source": [
    "# Libraries"
   ]
  },
  {
   "cell_type": "code",
   "execution_count": 137,
   "metadata": {
    "collapsed": false,
    "deletable": true,
    "editable": true,
    "scrolled": true
   },
   "outputs": [],
   "source": [
    "%matplotlib inline\n",
    "import matplotlib.pyplot as plt\n",
    "import matplotlib.colors\n",
    "import pandas as pd\n",
    "import numpy as np\n",
    "import sklearn.feature_extraction.text\n",
    "import sklearn.cross_validation\n",
    "import sklearn.naive_bayes\n",
    "import sklearn.tree\n",
    "import sklearn.ensemble\n",
    "import sklearn.metrics\n",
    "import nltk\n",
    "import re"
   ]
  },
  {
   "cell_type": "markdown",
   "metadata": {
    "deletable": true,
    "editable": true
   },
   "source": [
    "# Read data"
   ]
  },
  {
   "cell_type": "code",
   "execution_count": 12,
   "metadata": {
    "collapsed": false,
    "deletable": true,
    "editable": true,
    "scrolled": true
   },
   "outputs": [
    {
     "data": {
      "text/html": [
       "<div>\n",
       "<table border=\"1\" class=\"dataframe\">\n",
       "  <thead>\n",
       "    <tr style=\"text-align: right;\">\n",
       "      <th></th>\n",
       "      <th>Review</th>\n",
       "      <th>Liked</th>\n",
       "    </tr>\n",
       "  </thead>\n",
       "  <tbody>\n",
       "    <tr>\n",
       "      <th>0</th>\n",
       "      <td>Wow... Loved this place.</td>\n",
       "      <td>1</td>\n",
       "    </tr>\n",
       "    <tr>\n",
       "      <th>1</th>\n",
       "      <td>Crust is not good.</td>\n",
       "      <td>0</td>\n",
       "    </tr>\n",
       "    <tr>\n",
       "      <th>2</th>\n",
       "      <td>Not tasty and the texture was just nasty.</td>\n",
       "      <td>0</td>\n",
       "    </tr>\n",
       "    <tr>\n",
       "      <th>3</th>\n",
       "      <td>Stopped by during the late May bank holiday of...</td>\n",
       "      <td>1</td>\n",
       "    </tr>\n",
       "    <tr>\n",
       "      <th>4</th>\n",
       "      <td>The selection on the menu was great and so wer...</td>\n",
       "      <td>1</td>\n",
       "    </tr>\n",
       "  </tbody>\n",
       "</table>\n",
       "</div>"
      ],
      "text/plain": [
       "                                              Review  Liked\n",
       "0                           Wow... Loved this place.      1\n",
       "1                                 Crust is not good.      0\n",
       "2          Not tasty and the texture was just nasty.      0\n",
       "3  Stopped by during the late May bank holiday of...      1\n",
       "4  The selection on the menu was great and so wer...      1"
      ]
     },
     "execution_count": 12,
     "metadata": {},
     "output_type": "execute_result"
    }
   ],
   "source": [
    "work_dir='/home/ggomarr/Documents/Education/20170623 Udemy - Machine Learning A-Z: Hands-On Python and R in Data Science/' + \\\n",
    "         'Course data/Part 7 - Natural Language Processing/Section 36 - Natural Language Processing/'\n",
    "df=pd.read_csv(work_dir+'Restaurant_Reviews.tsv',sep='\\t')\n",
    "df.head()"
   ]
  },
  {
   "cell_type": "code",
   "execution_count": 13,
   "metadata": {
    "collapsed": false,
    "deletable": true,
    "editable": true,
    "scrolled": true
   },
   "outputs": [
    {
     "data": {
      "text/html": [
       "<div>\n",
       "<table border=\"1\" class=\"dataframe\">\n",
       "  <thead>\n",
       "    <tr style=\"text-align: right;\">\n",
       "      <th></th>\n",
       "      <th>Liked</th>\n",
       "    </tr>\n",
       "  </thead>\n",
       "  <tbody>\n",
       "    <tr>\n",
       "      <th>count</th>\n",
       "      <td>1000.00000</td>\n",
       "    </tr>\n",
       "    <tr>\n",
       "      <th>mean</th>\n",
       "      <td>0.50000</td>\n",
       "    </tr>\n",
       "    <tr>\n",
       "      <th>std</th>\n",
       "      <td>0.50025</td>\n",
       "    </tr>\n",
       "    <tr>\n",
       "      <th>min</th>\n",
       "      <td>0.00000</td>\n",
       "    </tr>\n",
       "    <tr>\n",
       "      <th>25%</th>\n",
       "      <td>0.00000</td>\n",
       "    </tr>\n",
       "    <tr>\n",
       "      <th>50%</th>\n",
       "      <td>0.50000</td>\n",
       "    </tr>\n",
       "    <tr>\n",
       "      <th>75%</th>\n",
       "      <td>1.00000</td>\n",
       "    </tr>\n",
       "    <tr>\n",
       "      <th>max</th>\n",
       "      <td>1.00000</td>\n",
       "    </tr>\n",
       "  </tbody>\n",
       "</table>\n",
       "</div>"
      ],
      "text/plain": [
       "            Liked\n",
       "count  1000.00000\n",
       "mean      0.50000\n",
       "std       0.50025\n",
       "min       0.00000\n",
       "25%       0.00000\n",
       "50%       0.50000\n",
       "75%       1.00000\n",
       "max       1.00000"
      ]
     },
     "execution_count": 13,
     "metadata": {},
     "output_type": "execute_result"
    }
   ],
   "source": [
    "df.describe()"
   ]
  },
  {
   "cell_type": "markdown",
   "metadata": {
    "deletable": true,
    "editable": true
   },
   "source": [
    "# Clean up data"
   ]
  },
  {
   "cell_type": "code",
   "execution_count": 104,
   "metadata": {
    "collapsed": false
   },
   "outputs": [],
   "source": [
    "def process_str(txt,regexp_lst,stemmer=nltk.stem.porter.PorterStemmer()):\n",
    "    for regexp in regexp_lst:\n",
    "        txt=regexp[0].sub(regexp[1],txt)\n",
    "    if stemmer==None:\n",
    "        return txt.strip().lower().split()\n",
    "    else:\n",
    "        return [stemmer.stem(wrd) for wrd in txt.strip().lower().split()]"
   ]
  },
  {
   "cell_type": "code",
   "execution_count": 105,
   "metadata": {
    "collapsed": false
   },
   "outputs": [],
   "source": [
    "regexp_lst=[\n",
    "            (re.compile('[^a-zA-Z]+'),' '),\n",
    "            (re.compile('(\\\\b'+'\\\\b|\\\\b'.join(nltk.corpus.stopwords.words('english'))+'\\\\b)'),''),\n",
    "           ]"
   ]
  },
  {
   "cell_type": "code",
   "execution_count": 120,
   "metadata": {
    "collapsed": false
   },
   "outputs": [
    {
     "data": {
      "text/plain": [
       "('Wow... Loved this place.', ['wow', 'love', 'place'])"
      ]
     },
     "execution_count": 120,
     "metadata": {},
     "output_type": "execute_result"
    }
   ],
   "source": [
    "df['Review'][0],process_str(df['Review'][0],regexp_lst)"
   ]
  },
  {
   "cell_type": "code",
   "execution_count": 129,
   "metadata": {
    "collapsed": true
   },
   "outputs": [],
   "source": [
    "cv=sklearn.feature_extraction.text.CountVectorizer(analyzer=lambda txt: process_str(txt,regexp_lst),\n",
    "                                                   max_features=1500)\n",
    "X_sparse=cv.fit_transform(df['Review'])\n",
    "X=X_sparse.toarray()\n",
    "Y=df['Liked'].values"
   ]
  },
  {
   "cell_type": "markdown",
   "metadata": {},
   "source": [
    "# Train/test split"
   ]
  },
  {
   "cell_type": "code",
   "execution_count": 138,
   "metadata": {
    "collapsed": false
   },
   "outputs": [
    {
     "data": {
      "text/plain": [
       "(800, 200)"
      ]
     },
     "execution_count": 138,
     "metadata": {},
     "output_type": "execute_result"
    }
   ],
   "source": [
    "X_train,X_test,Y_train,Y_test=sklearn.cross_validation.train_test_split(X,Y,\n",
    "                                                                        test_size=0.2,random_state=0)\n",
    "Y_train.size,Y_test.size"
   ]
  },
  {
   "cell_type": "code",
   "execution_count": 145,
   "metadata": {
    "collapsed": false
   },
   "outputs": [],
   "source": [
    "model_classes={ '1 - GaussianNB':{ 'model':sklearn.naive_bayes.GaussianNB,\n",
    "                               'params':{} },\n",
    "                '2 - Decision Tree':{ 'model':sklearn.tree.DecisionTreeClassifier,\n",
    "                                  'params':{'criterion':'entropy',\n",
    "                                            'random_state':0} },\n",
    "                '3 - Random forest 1 [10 trees]':{ 'model':sklearn.ensemble.RandomForestClassifier,\n",
    "                                               'params':{'criterion':'entropy',\n",
    "                                                         'n_estimators':10,\n",
    "                                                         'random_state':0} },\n",
    "                '4 - Random forest 2 [100 trees]':{ 'model':sklearn.ensemble.RandomForestClassifier,\n",
    "                                                'params':{'criterion':'entropy',\n",
    "                                                          'n_estimators':100,\n",
    "                                                          'random_state':0} },\n",
    "              }"
   ]
  },
  {
   "cell_type": "code",
   "execution_count": 146,
   "metadata": {
    "collapsed": false
   },
   "outputs": [
    {
     "name": "stdout",
     "output_type": "stream",
     "text": [
      "=== 1 - GaussianNB ===\n",
      "\n",
      "Score:\n",
      "Train 0.93 - Test 0.73\n",
      "\n",
      "Confusion matrix:\n",
      "[[55 42]\n",
      " [11 92]]\n",
      "\n",
      "Classification report:\n",
      "             precision    recall  f1-score   support\n",
      "\n",
      "          0       0.83      0.57      0.67        97\n",
      "          1       0.69      0.89      0.78       103\n",
      "\n",
      "avg / total       0.76      0.73      0.73       200\n",
      "\n",
      "=== 2 - Decision Tree ===\n",
      "\n",
      "Score:\n",
      "Train 1.00 - Test 0.69\n",
      "\n",
      "Confusion matrix:\n",
      "[[75 22]\n",
      " [40 63]]\n",
      "\n",
      "Classification report:\n",
      "             precision    recall  f1-score   support\n",
      "\n",
      "          0       0.65      0.77      0.71        97\n",
      "          1       0.74      0.61      0.67       103\n",
      "\n",
      "avg / total       0.70      0.69      0.69       200\n",
      "\n",
      "=== 3 - Random forest 1 [10 trees] ===\n",
      "\n",
      "Score:\n",
      "Train 0.98 - Test 0.73\n",
      "\n",
      "Confusion matrix:\n",
      "[[84 13]\n",
      " [41 62]]\n",
      "\n",
      "Classification report:\n",
      "             precision    recall  f1-score   support\n",
      "\n",
      "          0       0.67      0.87      0.76        97\n",
      "          1       0.83      0.60      0.70       103\n",
      "\n",
      "avg / total       0.75      0.73      0.73       200\n",
      "\n",
      "=== 4 - Random forest 2 [100 trees] ===\n",
      "\n",
      "Score:\n",
      "Train 1.00 - Test 0.72\n",
      "\n",
      "Confusion matrix:\n",
      "[[82 15]\n",
      " [41 62]]\n",
      "\n",
      "Classification report:\n",
      "             precision    recall  f1-score   support\n",
      "\n",
      "          0       0.67      0.85      0.75        97\n",
      "          1       0.81      0.60      0.69       103\n",
      "\n",
      "avg / total       0.74      0.72      0.72       200\n",
      "\n"
     ]
    }
   ],
   "source": [
    "for class_name in sorted(model_classes):\n",
    "    print('=== {} ==='.format(class_name))\n",
    "    model_class=model_classes[class_name]['model']\n",
    "    params=model_classes[class_name]['params']\n",
    "    model=model_class(**params).fit(X_train,Y_train)\n",
    "    print('\\nScore:')\n",
    "    print('Train {:0.2f} - Test {:0.2f}'.format(model.score(X_train,Y_train),model.score(X_test,Y_test)))\n",
    "    print('\\nConfusion matrix:')\n",
    "    print(sklearn.metrics.confusion_matrix(Y_test,model.predict(X_test)))\n",
    "    print('\\nClassification report:')\n",
    "    print(sklearn.metrics.classification_report(Y_test,model.predict(X_test)))"
   ]
  },
  {
   "cell_type": "code",
   "execution_count": null,
   "metadata": {
    "collapsed": true
   },
   "outputs": [],
   "source": []
  }
 ],
 "metadata": {
  "kernelspec": {
   "display_name": "Python 3",
   "language": "python",
   "name": "python3"
  },
  "language_info": {
   "codemirror_mode": {
    "name": "ipython",
    "version": 3
   },
   "file_extension": ".py",
   "mimetype": "text/x-python",
   "name": "python",
   "nbconvert_exporter": "python",
   "pygments_lexer": "ipython3",
   "version": "3.5.3"
  }
 },
 "nbformat": 4,
 "nbformat_minor": 2
}
