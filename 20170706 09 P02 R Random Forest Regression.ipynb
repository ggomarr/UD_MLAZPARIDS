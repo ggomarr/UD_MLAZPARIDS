{
 "cells": [
  {
   "cell_type": "markdown",
   "metadata": {
    "deletable": true,
    "editable": true
   },
   "source": [
    "# Libraries"
   ]
  },
  {
   "cell_type": "code",
   "execution_count": 1,
   "metadata": {
    "collapsed": false,
    "deletable": true,
    "editable": true
   },
   "outputs": [],
   "source": [
    "# install.packages('randomForest')"
   ]
  },
  {
   "cell_type": "code",
   "execution_count": 2,
   "metadata": {
    "collapsed": false,
    "deletable": true,
    "editable": true
   },
   "outputs": [
    {
     "name": "stderr",
     "output_type": "stream",
     "text": [
      "randomForest 4.6-12\n",
      "Type rfNews() to see new features/changes/bug fixes.\n",
      "\n",
      "Attaching package: ‘randomForest’\n",
      "\n",
      "The following object is masked from ‘package:ggplot2’:\n",
      "\n",
      "    margin\n",
      "\n"
     ]
    }
   ],
   "source": [
    "library(ggplot2)\n",
    "library(repr)\n",
    "options(repr.plot.width=4, repr.plot.height=4)\n",
    "library(randomForest)"
   ]
  },
  {
   "cell_type": "markdown",
   "metadata": {
    "deletable": true,
    "editable": true
   },
   "source": [
    "# Read data"
   ]
  },
  {
   "cell_type": "code",
   "execution_count": 3,
   "metadata": {
    "collapsed": false,
    "deletable": true,
    "editable": true
   },
   "outputs": [
    {
     "name": "stdout",
     "output_type": "stream",
     "text": [
      "'data.frame':\t10 obs. of  2 variables:\n",
      " $ Level : int  1 2 3 4 5 6 7 8 9 10\n",
      " $ Salary: int  45000 50000 60000 80000 110000 150000 200000 300000 500000 1000000\n"
     ]
    }
   ],
   "source": [
    "root_dir=\"~/Documents/Education/20170623 Udemy - Machine Learning A-Z: Hands-On Python and R in Data Science/\"\n",
    "work_dir=\"Course data/Part 2 - Regression/Section 9 - Random Forest Regression\"\n",
    "setwd(paste(root_dir,work_dir,sep=''))\n",
    "df=read.csv('Position_Salaries.csv')[c('Level','Salary')]\n",
    "str(df)"
   ]
  },
  {
   "cell_type": "markdown",
   "metadata": {
    "deletable": true,
    "editable": true
   },
   "source": [
    "# Random forest model"
   ]
  },
  {
   "cell_type": "code",
   "execution_count": 4,
   "metadata": {
    "collapsed": false,
    "deletable": true,
    "editable": true
   },
   "outputs": [],
   "source": [
    "range_plot_X=function(x,num,ext){\n",
    "    delta=max(x)-min(x)\n",
    "    return(seq(min(x)-ext*delta,max(x)+ext*delta,length.out=num))\n",
    "}"
   ]
  },
  {
   "cell_type": "markdown",
   "metadata": {
    "deletable": true,
    "editable": true
   },
   "source": [
    "## 10 trees"
   ]
  },
  {
   "cell_type": "code",
   "execution_count": 5,
   "metadata": {
    "collapsed": false,
    "deletable": true,
    "editable": true
   },
   "outputs": [
    {
     "data": {
      "text/plain": [
       "                Length Class  Mode     \n",
       "call             4     -none- call     \n",
       "type             1     -none- character\n",
       "predicted       10     -none- numeric  \n",
       "mse             10     -none- numeric  \n",
       "rsq             10     -none- numeric  \n",
       "oob.times       10     -none- numeric  \n",
       "importance       1     -none- numeric  \n",
       "importanceSD     0     -none- NULL     \n",
       "localImportance  0     -none- NULL     \n",
       "proximity        0     -none- NULL     \n",
       "ntree            1     -none- numeric  \n",
       "mtry             1     -none- numeric  \n",
       "forest          11     -none- list     \n",
       "coefs            0     -none- NULL     \n",
       "y               10     -none- numeric  \n",
       "test             0     -none- NULL     \n",
       "inbag            0     -none- NULL     "
      ]
     },
     "metadata": {},
     "output_type": "display_data"
    }
   ],
   "source": [
    "rf_reg=randomForest(x=df['Level'],y=df$Salary,ntree=10)\n",
    "summary(rf_reg)"
   ]
  },
  {
   "cell_type": "code",
   "execution_count": 6,
   "metadata": {
    "collapsed": false,
    "deletable": true,
    "editable": true
   },
   "outputs": [
    {
     "data": {},
     "metadata": {},
     "output_type": "display_data"
    },
    {
     "data": {
      "image/png": "[encoded data removed]",
      "text/plain": [
       "plot without title"
      ]
     },
     "metadata": {},
     "output_type": "display_data"
    }
   ],
   "source": [
    "x_plot=range_plot_X(df$Level,100,0.1)\n",
    "ggplot() +\n",
    "    geom_point(aes(x=df$Level,y=df$Salary),\n",
    "               colour='blue') +\n",
    "    geom_line(aes(x=x_plot,y=predict(rf_reg,data.frame(Level=x_plot))),\n",
    "              colour='black') +\n",
    "    ggtitle('Salary (USD) vs. Level',subtitle='Training data') +\n",
    "    xlab('Level') + \n",
    "    ylab('Salary (USD)')"
   ]
  },
  {
   "cell_type": "code",
   "execution_count": 7,
   "metadata": {
    "collapsed": false,
    "deletable": true,
    "editable": true
   },
   "outputs": [
    {
     "data": {
      "text/html": [
       "<strong>1:</strong> 170666.666666667"
      ],
      "text/latex": [
       "\\textbf{1:} 170666.666666667"
      ],
      "text/markdown": [
       "**1:** 170666.666666667"
      ],
      "text/plain": [
       "       1 \n",
       "170666.7 "
      ]
     },
     "metadata": {},
     "output_type": "display_data"
    }
   ],
   "source": [
    "predict(rf_reg,data.frame(Level=6.5))"
   ]
  },
  {
   "cell_type": "markdown",
   "metadata": {
    "deletable": true,
    "editable": true
   },
   "source": [
    "## 100 trees"
   ]
  },
  {
   "cell_type": "code",
   "execution_count": 8,
   "metadata": {
    "collapsed": false,
    "deletable": true,
    "editable": true
   },
   "outputs": [
    {
     "data": {
      "text/plain": [
       "                Length Class  Mode     \n",
       "call              4    -none- call     \n",
       "type              1    -none- character\n",
       "predicted        10    -none- numeric  \n",
       "mse             100    -none- numeric  \n",
       "rsq             100    -none- numeric  \n",
       "oob.times        10    -none- numeric  \n",
       "importance        1    -none- numeric  \n",
       "importanceSD      0    -none- NULL     \n",
       "localImportance   0    -none- NULL     \n",
       "proximity         0    -none- NULL     \n",
       "ntree             1    -none- numeric  \n",
       "mtry              1    -none- numeric  \n",
       "forest           11    -none- list     \n",
       "coefs             0    -none- NULL     \n",
       "y                10    -none- numeric  \n",
       "test              0    -none- NULL     \n",
       "inbag             0    -none- NULL     "
      ]
     },
     "metadata": {},
     "output_type": "display_data"
    }
   ],
   "source": [
    "rf_reg=randomForest(x=df['Level'],y=df$Salary,ntree=100)\n",
    "summary(rf_reg)"
   ]
  },
  {
   "cell_type": "code",
   "execution_count": 9,
   "metadata": {
    "collapsed": false,
    "deletable": true,
    "editable": true
   },
   "outputs": [
    {
     "data": {},
     "metadata": {},
     "output_type": "display_data"
    },
    {
     "data": {
      "image/png": "[encoded data removed]",
      "text/plain": [
       "plot without title"
      ]
     },
     "metadata": {},
     "output_type": "display_data"
    }
   ],
   "source": [
    "x_plot=range_plot_X(df$Level,100,0.1)\n",
    "ggplot() +\n",
    "    geom_point(aes(x=df$Level,y=df$Salary),\n",
    "               colour='blue') +\n",
    "    geom_line(aes(x=x_plot,y=predict(rf_reg,data.frame(Level=x_plot))),\n",
    "              colour='black') +\n",
    "    ggtitle('Salary (USD) vs. Level',subtitle='Training data') +\n",
    "    xlab('Level') + \n",
    "    ylab('Salary (USD)')"
   ]
  },
  {
   "cell_type": "code",
   "execution_count": 10,
   "metadata": {
    "collapsed": false,
    "deletable": true,
    "editable": true
   },
   "outputs": [
    {
     "data": {
      "text/html": [
       "<strong>1:</strong> 164724.166666667"
      ],
      "text/latex": [
       "\\textbf{1:} 164724.166666667"
      ],
      "text/markdown": [
       "**1:** 164724.166666667"
      ],
      "text/plain": [
       "       1 \n",
       "164724.2 "
      ]
     },
     "metadata": {},
     "output_type": "display_data"
    }
   ],
   "source": [
    "predict(rf_reg,data.frame(Level=6.5))"
   ]
  },
  {
   "cell_type": "markdown",
   "metadata": {
    "deletable": true,
    "editable": true
   },
   "source": [
    "## 500 trees"
   ]
  },
  {
   "cell_type": "code",
   "execution_count": 11,
   "metadata": {
    "collapsed": false,
    "deletable": true,
    "editable": true
   },
   "outputs": [
    {
     "data": {
      "text/plain": [
       "                Length Class  Mode     \n",
       "call              4    -none- call     \n",
       "type              1    -none- character\n",
       "predicted        10    -none- numeric  \n",
       "mse             500    -none- numeric  \n",
       "rsq             500    -none- numeric  \n",
       "oob.times        10    -none- numeric  \n",
       "importance        1    -none- numeric  \n",
       "importanceSD      0    -none- NULL     \n",
       "localImportance   0    -none- NULL     \n",
       "proximity         0    -none- NULL     \n",
       "ntree             1    -none- numeric  \n",
       "mtry              1    -none- numeric  \n",
       "forest           11    -none- list     \n",
       "coefs             0    -none- NULL     \n",
       "y                10    -none- numeric  \n",
       "test              0    -none- NULL     \n",
       "inbag             0    -none- NULL     "
      ]
     },
     "metadata": {},
     "output_type": "display_data"
    }
   ],
   "source": [
    "rf_reg=randomForest(x=df['Level'],y=df$Salary,ntree=500)\n",
    "summary(rf_reg)"
   ]
  },
  {
   "cell_type": "code",
   "execution_count": 12,
   "metadata": {
    "collapsed": false,
    "deletable": true,
    "editable": true
   },
   "outputs": [
    {
     "data": {},
     "metadata": {},
     "output_type": "display_data"
    },
    {
     "data": {
      "image/png": "[encoded data removed]",
      "text/plain": [
       "plot without title"
      ]
     },
     "metadata": {},
     "output_type": "display_data"
    }
   ],
   "source": [
    "x_plot=range_plot_X(df$Level,100,0.1)\n",
    "ggplot() +\n",
    "    geom_point(aes(x=df$Level,y=df$Salary),\n",
    "               colour='blue') +\n",
    "    geom_line(aes(x=x_plot,y=predict(rf_reg,data.frame(Level=x_plot))),\n",
    "              colour='black') +\n",
    "    ggtitle('Salary (USD) vs. Level',subtitle='Training data') +\n",
    "    xlab('Level') + \n",
    "    ylab('Salary (USD)')"
   ]
  },
  {
   "cell_type": "code",
   "execution_count": 13,
   "metadata": {
    "collapsed": false,
    "deletable": true,
    "editable": true
   },
   "outputs": [
    {
     "data": {
      "text/html": [
       "<strong>1:</strong> 160352.666666667"
      ],
      "text/latex": [
       "\\textbf{1:} 160352.666666667"
      ],
      "text/markdown": [
       "**1:** 160352.666666667"
      ],
      "text/plain": [
       "       1 \n",
       "160352.7 "
      ]
     },
     "metadata": {},
     "output_type": "display_data"
    }
   ],
   "source": [
    "predict(rf_reg,data.frame(Level=6.5))"
   ]
  },
  {
   "cell_type": "markdown",
   "metadata": {
    "deletable": true,
    "editable": true
   },
   "source": [
    "## 1000 trees"
   ]
  },
  {
   "cell_type": "code",
   "execution_count": 14,
   "metadata": {
    "collapsed": false,
    "deletable": true,
    "editable": true
   },
   "outputs": [
    {
     "data": {
      "text/plain": [
       "                Length Class  Mode     \n",
       "call               4   -none- call     \n",
       "type               1   -none- character\n",
       "predicted         10   -none- numeric  \n",
       "mse             1000   -none- numeric  \n",
       "rsq             1000   -none- numeric  \n",
       "oob.times         10   -none- numeric  \n",
       "importance         1   -none- numeric  \n",
       "importanceSD       0   -none- NULL     \n",
       "localImportance    0   -none- NULL     \n",
       "proximity          0   -none- NULL     \n",
       "ntree              1   -none- numeric  \n",
       "mtry               1   -none- numeric  \n",
       "forest            11   -none- list     \n",
       "coefs              0   -none- NULL     \n",
       "y                 10   -none- numeric  \n",
       "test               0   -none- NULL     \n",
       "inbag              0   -none- NULL     "
      ]
     },
     "metadata": {},
     "output_type": "display_data"
    }
   ],
   "source": [
    "rf_reg=randomForest(x=df['Level'],y=df$Salary,ntree=1000)\n",
    "summary(rf_reg)"
   ]
  },
  {
   "cell_type": "code",
   "execution_count": 15,
   "metadata": {
    "collapsed": false,
    "deletable": true,
    "editable": true
   },
   "outputs": [
    {
     "data": {},
     "metadata": {},
     "output_type": "display_data"
    },
    {
     "data": {
      "image/png": "[encoded data removed]",
      "text/plain": [
       "plot without title"
      ]
     },
     "metadata": {},
     "output_type": "display_data"
    }
   ],
   "source": [
    "x_plot=range_plot_X(df$Level,100,0.1)\n",
    "ggplot() +\n",
    "    geom_point(aes(x=df$Level,y=df$Salary),\n",
    "               colour='blue') +\n",
    "    geom_line(aes(x=x_plot,y=predict(rf_reg,data.frame(Level=x_plot))),\n",
    "              colour='black') +\n",
    "    ggtitle('Salary (USD) vs. Level',subtitle='Training data') +\n",
    "    xlab('Level') + \n",
    "    ylab('Salary (USD)')"
   ]
  },
  {
   "cell_type": "code",
   "execution_count": 16,
   "metadata": {
    "collapsed": false,
    "deletable": true,
    "editable": true
   },
   "outputs": [
    {
     "data": {
      "text/html": [
       "<strong>1:</strong> 161172.75"
      ],
      "text/latex": [
       "\\textbf{1:} 161172.75"
      ],
      "text/markdown": [
       "**1:** 161172.75"
      ],
      "text/plain": [
       "       1 \n",
       "161172.8 "
      ]
     },
     "metadata": {},
     "output_type": "display_data"
    }
   ],
   "source": [
    "predict(rf_reg,data.frame(Level=6.5))"
   ]
  },
  {
   "cell_type": "code",
   "execution_count": null,
   "metadata": {
    "collapsed": true,
    "deletable": true,
    "editable": true
   },
   "outputs": [],
   "source": []
  }
 ],
 "metadata": {
  "kernelspec": {
   "display_name": "R",
   "language": "R",
   "name": "ir"
  },
  "language_info": {
   "codemirror_mode": "r",
   "file_extension": ".r",
   "mimetype": "text/x-r-source",
   "name": "R",
   "pygments_lexer": "r",
   "version": "3.3.2"
  }
 },
 "nbformat": 4,
 "nbformat_minor": 2
}
