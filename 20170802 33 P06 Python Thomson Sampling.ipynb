{
 "cells": [
  {
   "cell_type": "markdown",
   "metadata": {
    "deletable": true,
    "editable": true
   },
   "source": [
    "# Libraries"
   ]
  },
  {
   "cell_type": "code",
   "execution_count": 5,
   "metadata": {
    "collapsed": false,
    "deletable": true,
    "editable": true,
    "scrolled": true
   },
   "outputs": [],
   "source": [
    "%matplotlib inline\n",
    "import matplotlib.pyplot as plt\n",
    "import matplotlib.colors\n",
    "import pandas as pd\n",
    "import numpy as np"
   ]
  },
  {
   "cell_type": "markdown",
   "metadata": {
    "deletable": true,
    "editable": true
   },
   "source": [
    "# Read data"
   ]
  },
  {
   "cell_type": "code",
   "execution_count": 6,
   "metadata": {
    "collapsed": false,
    "deletable": true,
    "editable": true,
    "scrolled": true
   },
   "outputs": [
    {
     "data": {
      "text/html": [
       "<div>\n",
       "<table border=\"1\" class=\"dataframe\">\n",
       "  <thead>\n",
       "    <tr style=\"text-align: right;\">\n",
       "      <th></th>\n",
       "      <th>Ad 1</th>\n",
       "      <th>Ad 2</th>\n",
       "      <th>Ad 3</th>\n",
       "      <th>Ad 4</th>\n",
       "      <th>Ad 5</th>\n",
       "      <th>Ad 6</th>\n",
       "      <th>Ad 7</th>\n",
       "      <th>Ad 8</th>\n",
       "      <th>Ad 9</th>\n",
       "      <th>Ad 10</th>\n",
       "    </tr>\n",
       "  </thead>\n",
       "  <tbody>\n",
       "    <tr>\n",
       "      <th>0</th>\n",
       "      <td>1</td>\n",
       "      <td>0</td>\n",
       "      <td>0</td>\n",
       "      <td>0</td>\n",
       "      <td>1</td>\n",
       "      <td>0</td>\n",
       "      <td>0</td>\n",
       "      <td>0</td>\n",
       "      <td>1</td>\n",
       "      <td>0</td>\n",
       "    </tr>\n",
       "    <tr>\n",
       "      <th>1</th>\n",
       "      <td>0</td>\n",
       "      <td>0</td>\n",
       "      <td>0</td>\n",
       "      <td>0</td>\n",
       "      <td>0</td>\n",
       "      <td>0</td>\n",
       "      <td>0</td>\n",
       "      <td>0</td>\n",
       "      <td>1</td>\n",
       "      <td>0</td>\n",
       "    </tr>\n",
       "    <tr>\n",
       "      <th>2</th>\n",
       "      <td>0</td>\n",
       "      <td>0</td>\n",
       "      <td>0</td>\n",
       "      <td>0</td>\n",
       "      <td>0</td>\n",
       "      <td>0</td>\n",
       "      <td>0</td>\n",
       "      <td>0</td>\n",
       "      <td>0</td>\n",
       "      <td>0</td>\n",
       "    </tr>\n",
       "    <tr>\n",
       "      <th>3</th>\n",
       "      <td>0</td>\n",
       "      <td>1</td>\n",
       "      <td>0</td>\n",
       "      <td>0</td>\n",
       "      <td>0</td>\n",
       "      <td>0</td>\n",
       "      <td>0</td>\n",
       "      <td>1</td>\n",
       "      <td>0</td>\n",
       "      <td>0</td>\n",
       "    </tr>\n",
       "    <tr>\n",
       "      <th>4</th>\n",
       "      <td>0</td>\n",
       "      <td>0</td>\n",
       "      <td>0</td>\n",
       "      <td>0</td>\n",
       "      <td>0</td>\n",
       "      <td>0</td>\n",
       "      <td>0</td>\n",
       "      <td>0</td>\n",
       "      <td>0</td>\n",
       "      <td>0</td>\n",
       "    </tr>\n",
       "  </tbody>\n",
       "</table>\n",
       "</div>"
      ],
      "text/plain": [
       "   Ad 1  Ad 2  Ad 3  Ad 4  Ad 5  Ad 6  Ad 7  Ad 8  Ad 9  Ad 10\n",
       "0     1     0     0     0     1     0     0     0     1      0\n",
       "1     0     0     0     0     0     0     0     0     1      0\n",
       "2     0     0     0     0     0     0     0     0     0      0\n",
       "3     0     1     0     0     0     0     0     1     0      0\n",
       "4     0     0     0     0     0     0     0     0     0      0"
      ]
     },
     "execution_count": 6,
     "metadata": {},
     "output_type": "execute_result"
    }
   ],
   "source": [
    "work_dir='/home/ggomarr/Documents/Education/20170623 Udemy - Machine Learning A-Z: Hands-On Python and R in Data Science/' + \\\n",
    "         'Course data/Part 6 - Reinforcement Learning/Section 33 - Thompson Sampling/'\n",
    "df=pd.read_csv(work_dir+'Ads_CTR_Optimisation.csv')\n",
    "df.head()"
   ]
  },
  {
   "cell_type": "code",
   "execution_count": 7,
   "metadata": {
    "collapsed": false,
    "deletable": true,
    "editable": true
   },
   "outputs": [
    {
     "data": {
      "text/plain": [
       "Ad 1     0.1703\n",
       "Ad 2     0.1295\n",
       "Ad 3     0.0728\n",
       "Ad 4     0.1196\n",
       "Ad 5     0.2695\n",
       "Ad 6     0.0126\n",
       "Ad 7     0.1112\n",
       "Ad 8     0.2091\n",
       "Ad 9     0.0952\n",
       "Ad 10    0.0489\n",
       "dtype: float64"
      ]
     },
     "execution_count": 7,
     "metadata": {},
     "output_type": "execute_result"
    }
   ],
   "source": [
    "df.mean()"
   ]
  },
  {
   "cell_type": "markdown",
   "metadata": {
    "collapsed": true,
    "deletable": true,
    "editable": true
   },
   "source": [
    "# Thomson Sampling"
   ]
  },
  {
   "cell_type": "code",
   "execution_count": 30,
   "metadata": {
    "collapsed": false,
    "deletable": true,
    "editable": true
   },
   "outputs": [],
   "source": [
    "class ThomSamp():\n",
    "    def __init__(self,\n",
    "                 sim_stream_file,separator=',',header=True,\n",
    "                 randomize_stream=False,\n",
    "                 seed_rounds=1,randomize_seed=False,\n",
    "                 use_probs=False,\n",
    "                 random_seed=None):\n",
    "        self.sim_stream_file=sim_stream_file\n",
    "        with open(self.sim_stream_file,'r') as sim_stream:\n",
    "            self.sim_stream=[ [int(out) for out in sim_event.strip().split(separator)]\n",
    "                              for sim_event in sim_stream.readlines()[header:] ]\n",
    "        self.num_bandits=len(self.sim_stream[0])\n",
    "        self.randomize_stream=randomize_stream\n",
    "        self.randomize_seed=randomize_seed\n",
    "        self.use_probs=use_probs\n",
    "        self.o=[0]*self.num_bandits\n",
    "        self.z=[0]*self.num_bandits\n",
    "        self.a=[0]*self.num_bandits\n",
    "        self.p=[0]*self.num_bandits\n",
    "        np.random.seed(random_seed)\n",
    "        for seed_round in range(seed_rounds):\n",
    "            self.seed()\n",
    "    def seed(self):\n",
    "        seed_pos_lst=list(range(self.num_bandits))\n",
    "        if self.randomize_seed:\n",
    "            np.random.shuffle(seed_pos_lst)\n",
    "        print('Seeding {}...'.format(seed_pos_lst))\n",
    "        for pos in seed_pos_lst:\n",
    "            self.show(pos)\n",
    "        self.compute()\n",
    "        self.report()\n",
    "    def show(self,pos):\n",
    "        if self.randomize_stream:\n",
    "            record_pos=np.random.randint(0,len(self.sim_stream))\n",
    "        else:\n",
    "            record_pos=sum(self.o)+sum(self.z)\n",
    "        if self.sim_stream[record_pos][pos]==1:\n",
    "            self.o[pos]=self.o[pos]+1\n",
    "        else:\n",
    "            self.z[pos]=self.z[pos]+1\n",
    "    def compute(self):\n",
    "        probs=[ np.random.beta(self.o[pos]+1,self.z[pos]+1) for pos in range(self.num_bandits) ]\n",
    "        self.p=[ prob/sum(probs) for prob in probs ]\n",
    "        self.a=[ 1.0*self.o[pos]/(self.o[pos]+self.z[pos]) for pos in range(self.num_bandits) ]\n",
    "    def report(self):\n",
    "        print('=== State at round {} ==='.format(sum(self.o)+sum(self.z)))\n",
    "        print('Total score: {}'.format(sum(self.o)))\n",
    "        for pos in range(self.num_bandits):\n",
    "            print('Bandit {:d}: seen {:4d}, score {:4d}, '.format(pos,self.o[pos]+self.z[pos],self.o[pos]) + \\\n",
    "                  'average {:.2f}, prob {:.2f}'.format(self.a[pos],self.p[pos]))\n",
    "    def stream_it_to_me(self,num_rounds=100):\n",
    "        for r in range(num_rounds):\n",
    "            if self.use_probs:\n",
    "                pos=np.random.choice(range(self.num_bandits),p=self.p)\n",
    "            else:\n",
    "                pos=np.argmax(self.p)\n",
    "            self.show(pos)\n",
    "            self.compute()\n",
    "        self.report()"
   ]
  },
  {
   "cell_type": "code",
   "execution_count": 31,
   "metadata": {
    "collapsed": false,
    "deletable": true,
    "editable": true,
    "scrolled": true
   },
   "outputs": [
    {
     "name": "stdout",
     "output_type": "stream",
     "text": [
      "Seeding [0, 1, 2, 3, 4, 5, 6, 7, 8, 9]...\n",
      "=== State at round 10 ===\n",
      "Total score: 1\n",
      "Bandit 0: seen    1, score    1, average 1.00, prob 0.13\n",
      "Bandit 1: seen    1, score    0, average 0.00, prob 0.00\n",
      "Bandit 2: seen    1, score    0, average 0.00, prob 0.01\n",
      "Bandit 3: seen    1, score    0, average 0.00, prob 0.19\n",
      "Bandit 4: seen    1, score    0, average 0.00, prob 0.15\n",
      "Bandit 5: seen    1, score    0, average 0.00, prob 0.04\n",
      "Bandit 6: seen    1, score    0, average 0.00, prob 0.12\n",
      "Bandit 7: seen    1, score    0, average 0.00, prob 0.07\n",
      "Bandit 8: seen    1, score    0, average 0.00, prob 0.17\n",
      "Bandit 9: seen    1, score    0, average 0.00, prob 0.13\n"
     ]
    }
   ],
   "source": [
    "thomsam=ThomSamp(work_dir+'Ads_CTR_Optimisation.csv',\n",
    "                 seed_rounds=1,randomize_seed=False,\n",
    "                 randomize_stream=False,use_probs=False)"
   ]
  },
  {
   "cell_type": "code",
   "execution_count": 32,
   "metadata": {
    "collapsed": false,
    "deletable": true,
    "editable": true,
    "scrolled": true
   },
   "outputs": [
    {
     "name": "stdout",
     "output_type": "stream",
     "text": [
      "=== State at round 10000 ===\n",
      "Total score: 2608\n",
      "Bandit 0: seen   71, score    8, average 0.11, prob 0.18\n",
      "Bandit 1: seen   84, score   11, average 0.13, prob 0.11\n",
      "Bandit 2: seen   67, score    7, average 0.10, prob 0.16\n",
      "Bandit 3: seen   63, score    6, average 0.10, prob 0.13\n",
      "Bandit 4: seen 9526, score 2566, average 0.27, prob 0.23\n",
      "Bandit 5: seen   28, score    0, average 0.00, prob 0.07\n",
      "Bandit 6: seen   53, score    5, average 0.09, prob 0.08\n",
      "Bandit 7: seen   56, score    5, average 0.09, prob 0.03\n",
      "Bandit 8: seen   27, score    0, average 0.00, prob 0.01\n",
      "Bandit 9: seen   25, score    0, average 0.00, prob 0.00\n"
     ]
    }
   ],
   "source": [
    "thomsam.stream_it_to_me(9990)"
   ]
  },
  {
   "cell_type": "code",
   "execution_count": 33,
   "metadata": {
    "collapsed": false,
    "deletable": true,
    "editable": true
   },
   "outputs": [
    {
     "data": {
      "image/png": "[encoded data removed]",
      "text/plain": [
       "<matplotlib.figure.Figure at 0x7f21b71048d0>"
      ]
     },
     "metadata": {},
     "output_type": "display_data"
    }
   ],
   "source": [
    "plt.bar(range(thomsam.num_bandits),[thomsam.o[pos]+thomsam.z[pos] for pos in range(thomsam.num_bandits)])\n",
    "plt.show()"
   ]
  },
  {
   "cell_type": "code",
   "execution_count": 34,
   "metadata": {
    "collapsed": false,
    "deletable": true,
    "editable": true,
    "scrolled": true
   },
   "outputs": [
    {
     "name": "stdout",
     "output_type": "stream",
     "text": [
      "Seeding [1, 0, 6, 9, 4, 8, 7, 2, 3, 5]...\n",
      "=== State at round 10 ===\n",
      "Total score: 0\n",
      "Bandit 0: seen    1, score    0, average 0.00, prob 0.01\n",
      "Bandit 1: seen    1, score    0, average 0.00, prob 0.18\n",
      "Bandit 2: seen    1, score    0, average 0.00, prob 0.05\n",
      "Bandit 3: seen    1, score    0, average 0.00, prob 0.02\n",
      "Bandit 4: seen    1, score    0, average 0.00, prob 0.08\n",
      "Bandit 5: seen    1, score    0, average 0.00, prob 0.07\n",
      "Bandit 6: seen    1, score    0, average 0.00, prob 0.25\n",
      "Bandit 7: seen    1, score    0, average 0.00, prob 0.15\n",
      "Bandit 8: seen    1, score    0, average 0.00, prob 0.06\n",
      "Bandit 9: seen    1, score    0, average 0.00, prob 0.13\n"
     ]
    }
   ],
   "source": [
    "thomsam=ThomSamp(work_dir+'Ads_CTR_Optimisation.csv',\n",
    "                 seed_rounds=1,randomize_seed=True,\n",
    "                 randomize_stream=False,use_probs=False)"
   ]
  },
  {
   "cell_type": "code",
   "execution_count": 35,
   "metadata": {
    "collapsed": false,
    "deletable": true,
    "editable": true,
    "scrolled": true
   },
   "outputs": [
    {
     "name": "stdout",
     "output_type": "stream",
     "text": [
      "=== State at round 10000 ===\n",
      "Total score: 2599\n",
      "Bandit 0: seen   39, score    2, average 0.05, prob 0.05\n",
      "Bandit 1: seen   85, score   11, average 0.13, prob 0.06\n",
      "Bandit 2: seen   61, score    6, average 0.10, prob 0.10\n",
      "Bandit 3: seen  131, score   22, average 0.17, prob 0.16\n",
      "Bandit 4: seen 9268, score 2503, average 0.27, prob 0.22\n",
      "Bandit 5: seen   23, score    0, average 0.00, prob 0.06\n",
      "Bandit 6: seen   69, score    7, average 0.10, prob 0.08\n",
      "Bandit 7: seen  222, score   40, average 0.18, prob 0.14\n",
      "Bandit 8: seen   74, score    8, average 0.11, prob 0.10\n",
      "Bandit 9: seen   28, score    0, average 0.00, prob 0.02\n"
     ]
    }
   ],
   "source": [
    "thomsam.stream_it_to_me(9990)"
   ]
  },
  {
   "cell_type": "code",
   "execution_count": 36,
   "metadata": {
    "collapsed": false,
    "deletable": true,
    "editable": true
   },
   "outputs": [
    {
     "data": {
      "image/png": "[encoded data removed]",
      "text/plain": [
       "<matplotlib.figure.Figure at 0x7f21b7104a90>"
      ]
     },
     "metadata": {},
     "output_type": "display_data"
    }
   ],
   "source": [
    "plt.bar(range(thomsam.num_bandits),[thomsam.o[pos]+thomsam.z[pos] for pos in range(thomsam.num_bandits)])\n",
    "plt.show()"
   ]
  },
  {
   "cell_type": "code",
   "execution_count": 37,
   "metadata": {
    "collapsed": false,
    "deletable": true,
    "editable": true,
    "scrolled": true
   },
   "outputs": [
    {
     "name": "stdout",
     "output_type": "stream",
     "text": [
      "Seeding [9, 6, 4, 1, 5, 8, 2, 7, 3, 0]...\n",
      "=== State at round 10 ===\n",
      "Total score: 0\n",
      "Bandit 0: seen    1, score    0, average 0.00, prob 0.11\n",
      "Bandit 1: seen    1, score    0, average 0.00, prob 0.14\n",
      "Bandit 2: seen    1, score    0, average 0.00, prob 0.10\n",
      "Bandit 3: seen    1, score    0, average 0.00, prob 0.03\n",
      "Bandit 4: seen    1, score    0, average 0.00, prob 0.25\n",
      "Bandit 5: seen    1, score    0, average 0.00, prob 0.10\n",
      "Bandit 6: seen    1, score    0, average 0.00, prob 0.02\n",
      "Bandit 7: seen    1, score    0, average 0.00, prob 0.06\n",
      "Bandit 8: seen    1, score    0, average 0.00, prob 0.03\n",
      "Bandit 9: seen    1, score    0, average 0.00, prob 0.16\n"
     ]
    }
   ],
   "source": [
    "thomsam=ThomSamp(work_dir+'Ads_CTR_Optimisation.csv',\n",
    "                 seed_rounds=1,randomize_seed=True,\n",
    "                 randomize_stream=True,use_probs=False)"
   ]
  },
  {
   "cell_type": "code",
   "execution_count": 38,
   "metadata": {
    "collapsed": false,
    "deletable": true,
    "editable": true,
    "scrolled": true
   },
   "outputs": [
    {
     "name": "stdout",
     "output_type": "stream",
     "text": [
      "=== State at round 10000 ===\n",
      "Total score: 2536\n",
      "Bandit 0: seen   48, score    5, average 0.10, prob 0.13\n",
      "Bandit 1: seen   60, score    5, average 0.08, prob 0.11\n",
      "Bandit 2: seen   25, score    0, average 0.00, prob 0.02\n",
      "Bandit 3: seen   59, score    5, average 0.08, prob 0.10\n",
      "Bandit 4: seen 9193, score 2417, average 0.26, prob 0.22\n",
      "Bandit 5: seen   26, score    0, average 0.00, prob 0.00\n",
      "Bandit 6: seen   53, score    4, average 0.08, prob 0.10\n",
      "Bandit 7: seen  469, score   98, average 0.21, prob 0.20\n",
      "Bandit 8: seen   41, score    2, average 0.05, prob 0.08\n",
      "Bandit 9: seen   26, score    0, average 0.00, prob 0.03\n"
     ]
    }
   ],
   "source": [
    "thomsam.stream_it_to_me(9990)"
   ]
  },
  {
   "cell_type": "code",
   "execution_count": 39,
   "metadata": {
    "collapsed": false,
    "deletable": true,
    "editable": true
   },
   "outputs": [
    {
     "data": {
      "image/png": "[encoded data removed]",
      "text/plain": [
       "<matplotlib.figure.Figure at 0x7f21b71042e8>"
      ]
     },
     "metadata": {},
     "output_type": "display_data"
    }
   ],
   "source": [
    "plt.bar(range(thomsam.num_bandits),[thomsam.o[pos]+thomsam.z[pos] for pos in range(thomsam.num_bandits)])\n",
    "plt.show()"
   ]
  },
  {
   "cell_type": "code",
   "execution_count": 43,
   "metadata": {
    "collapsed": false,
    "deletable": true,
    "editable": true,
    "scrolled": true
   },
   "outputs": [
    {
     "name": "stdout",
     "output_type": "stream",
     "text": [
      "Seeding [7, 2, 9, 6, 5, 8, 3, 4, 1, 0]...\n",
      "=== State at round 10 ===\n",
      "Total score: 0\n",
      "Bandit 0: seen    1, score    0, average 0.00, prob 0.10\n",
      "Bandit 1: seen    1, score    0, average 0.00, prob 0.24\n",
      "Bandit 2: seen    1, score    0, average 0.00, prob 0.12\n",
      "Bandit 3: seen    1, score    0, average 0.00, prob 0.10\n",
      "Bandit 4: seen    1, score    0, average 0.00, prob 0.02\n",
      "Bandit 5: seen    1, score    0, average 0.00, prob 0.03\n",
      "Bandit 6: seen    1, score    0, average 0.00, prob 0.00\n",
      "Bandit 7: seen    1, score    0, average 0.00, prob 0.15\n",
      "Bandit 8: seen    1, score    0, average 0.00, prob 0.14\n",
      "Bandit 9: seen    1, score    0, average 0.00, prob 0.10\n"
     ]
    }
   ],
   "source": [
    "thomsam=ThomSamp(work_dir+'Ads_CTR_Optimisation.csv',\n",
    "                 seed_rounds=1,randomize_seed=True,\n",
    "                 randomize_stream=True,use_probs=True)"
   ]
  },
  {
   "cell_type": "code",
   "execution_count": 44,
   "metadata": {
    "collapsed": false,
    "deletable": true,
    "editable": true,
    "scrolled": true
   },
   "outputs": [
    {
     "name": "stdout",
     "output_type": "stream",
     "text": [
      "=== State at round 10000 ===\n",
      "Total score: 1663\n",
      "Bandit 0: seen 1213, score  209, average 0.17, prob 0.14\n",
      "Bandit 1: seen  970, score  124, average 0.13, prob 0.10\n",
      "Bandit 2: seen  836, score   75, average 0.09, prob 0.07\n",
      "Bandit 3: seen  992, score  121, average 0.12, prob 0.10\n",
      "Bandit 4: seen 2081, score  552, average 0.27, prob 0.23\n",
      "Bandit 5: seen  119, score    0, average 0.00, prob 0.00\n",
      "Bandit 6: seen  994, score  118, average 0.12, prob 0.09\n",
      "Bandit 7: seen 1782, score  401, average 0.23, prob 0.17\n",
      "Bandit 8: seen  430, score   27, average 0.06, prob 0.04\n",
      "Bandit 9: seen  583, score   36, average 0.06, prob 0.06\n"
     ]
    }
   ],
   "source": [
    "thomsam.stream_it_to_me(9990)"
   ]
  },
  {
   "cell_type": "code",
   "execution_count": 45,
   "metadata": {
    "collapsed": false,
    "deletable": true,
    "editable": true
   },
   "outputs": [
    {
     "data": {
      "image/png": "[encoded data removed]",
      "text/plain": [
       "<matplotlib.figure.Figure at 0x7f21b7105860>"
      ]
     },
     "metadata": {},
     "output_type": "display_data"
    }
   ],
   "source": [
    "plt.bar(range(thomsam.num_bandits),[thomsam.o[pos]+thomsam.z[pos] for pos in range(thomsam.num_bandits)])\n",
    "plt.show()"
   ]
  },
  {
   "cell_type": "code",
   "execution_count": null,
   "metadata": {
    "collapsed": true,
    "deletable": true,
    "editable": true
   },
   "outputs": [],
   "source": []
  }
 ],
 "metadata": {
  "kernelspec": {
   "display_name": "Python 3",
   "language": "python",
   "name": "python3"
  },
  "language_info": {
   "codemirror_mode": {
    "name": "ipython",
    "version": 3
   },
   "file_extension": ".py",
   "mimetype": "text/x-python",
   "name": "python",
   "nbconvert_exporter": "python",
   "pygments_lexer": "ipython3",
   "version": "3.5.3"
  }
 },
 "nbformat": 4,
 "nbformat_minor": 2
}
