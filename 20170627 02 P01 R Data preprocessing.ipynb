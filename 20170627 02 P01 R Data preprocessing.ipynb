{
 "cells": [
  {
   "cell_type": "markdown",
   "metadata": {
    "deletable": true,
    "editable": true
   },
   "source": [
    "# Libraries"
   ]
  },
  {
   "cell_type": "code",
   "execution_count": 2,
   "metadata": {
    "collapsed": true,
    "deletable": true,
    "editable": true
   },
   "outputs": [],
   "source": [
    "library(caTools)"
   ]
  },
  {
   "cell_type": "markdown",
   "metadata": {
    "deletable": true,
    "editable": true
   },
   "source": [
    "# Read data"
   ]
  },
  {
   "cell_type": "code",
   "execution_count": 3,
   "metadata": {
    "collapsed": false,
    "deletable": true,
    "editable": true,
    "scrolled": true
   },
   "outputs": [
    {
     "name": "stdout",
     "output_type": "stream",
     "text": [
      "'data.frame':\t10 obs. of  4 variables:\n",
      " $ Country  : Factor w/ 3 levels \"France\",\"Germany\",..: 1 3 2 3 2 1 3 1 2 1\n",
      " $ Age      : int  44 27 30 38 40 35 NA 48 50 37\n",
      " $ Salary   : int  72000 48000 54000 61000 NA 58000 52000 79000 83000 67000\n",
      " $ Purchased: Factor w/ 2 levels \"No\",\"Yes\": 1 2 1 1 2 2 1 2 1 2\n"
     ]
    },
    {
     "data": {
      "text/html": [
       "<table>\n",
       "<thead><tr><th scope=col>Country</th><th scope=col>Age</th><th scope=col>Salary</th><th scope=col>Purchased</th></tr></thead>\n",
       "<tbody>\n",
       "\t<tr><td>France </td><td>44     </td><td>72000  </td><td>No     </td></tr>\n",
       "\t<tr><td>Spain  </td><td>27     </td><td>48000  </td><td>Yes    </td></tr>\n",
       "\t<tr><td>Germany</td><td>30     </td><td>54000  </td><td>No     </td></tr>\n",
       "\t<tr><td>Spain  </td><td>38     </td><td>61000  </td><td>No     </td></tr>\n",
       "\t<tr><td>Germany</td><td>40     </td><td>   NA  </td><td>Yes    </td></tr>\n",
       "\t<tr><td>France </td><td>35     </td><td>58000  </td><td>Yes    </td></tr>\n",
       "</tbody>\n",
       "</table>\n"
      ],
      "text/latex": [
       "\\begin{tabular}{r|llll}\n",
       " Country & Age & Salary & Purchased\\\\\n",
       "\\hline\n",
       "\t France  & 44      & 72000   & No     \\\\\n",
       "\t Spain   & 27      & 48000   & Yes    \\\\\n",
       "\t Germany & 30      & 54000   & No     \\\\\n",
       "\t Spain   & 38      & 61000   & No     \\\\\n",
       "\t Germany & 40      &    NA   & Yes    \\\\\n",
       "\t France  & 35      & 58000   & Yes    \\\\\n",
       "\\end{tabular}\n"
      ],
      "text/markdown": [
       "\n",
       "Country | Age | Salary | Purchased | \n",
       "|---|---|---|---|---|---|\n",
       "| France  | 44      | 72000   | No      | \n",
       "| Spain   | 27      | 48000   | Yes     | \n",
       "| Germany | 30      | 54000   | No      | \n",
       "| Spain   | 38      | 61000   | No      | \n",
       "| Germany | 40      |    NA   | Yes     | \n",
       "| France  | 35      | 58000   | Yes     | \n",
       "\n",
       "\n"
      ],
      "text/plain": [
       "  Country Age Salary Purchased\n",
       "1 France  44  72000  No       \n",
       "2 Spain   27  48000  Yes      \n",
       "3 Germany 30  54000  No       \n",
       "4 Spain   38  61000  No       \n",
       "5 Germany 40     NA  Yes      \n",
       "6 France  35  58000  Yes      "
      ]
     },
     "metadata": {},
     "output_type": "display_data"
    }
   ],
   "source": [
    "root_dir=\"~/Documents/Education/20170623 Udemy - Machine Learning A-Z: Hands-On Python and R in Data Science/\"\n",
    "work_dir=\"Course data/Part 1 - Data Preprocessing/Section 2 - Data preprocessing\"\n",
    "setwd(paste(root_dir,work_dir,sep=''))\n",
    "df=read.csv('Data.csv')\n",
    "str(df)\n",
    "head(df)"
   ]
  },
  {
   "cell_type": "markdown",
   "metadata": {
    "deletable": true,
    "editable": true
   },
   "source": [
    "# Clean up missing data"
   ]
  },
  {
   "cell_type": "code",
   "execution_count": 4,
   "metadata": {
    "collapsed": false,
    "deletable": true,
    "editable": true,
    "scrolled": true
   },
   "outputs": [
    {
     "data": {
      "text/html": [
       "<table>\n",
       "<thead><tr><th scope=col>Country</th><th scope=col>Age</th><th scope=col>Salary</th><th scope=col>Purchased</th></tr></thead>\n",
       "<tbody>\n",
       "\t<tr><td>France  </td><td>44      </td><td>72000.00</td><td>No      </td></tr>\n",
       "\t<tr><td>Spain   </td><td>27      </td><td>48000.00</td><td>Yes     </td></tr>\n",
       "\t<tr><td>Germany </td><td>30      </td><td>54000.00</td><td>No      </td></tr>\n",
       "\t<tr><td>Spain   </td><td>38      </td><td>61000.00</td><td>No      </td></tr>\n",
       "\t<tr><td>Germany </td><td>40      </td><td>63777.78</td><td>Yes     </td></tr>\n",
       "\t<tr><td>France  </td><td>35      </td><td>58000.00</td><td>Yes     </td></tr>\n",
       "</tbody>\n",
       "</table>\n"
      ],
      "text/latex": [
       "\\begin{tabular}{r|llll}\n",
       " Country & Age & Salary & Purchased\\\\\n",
       "\\hline\n",
       "\t France   & 44       & 72000.00 & No      \\\\\n",
       "\t Spain    & 27       & 48000.00 & Yes     \\\\\n",
       "\t Germany  & 30       & 54000.00 & No      \\\\\n",
       "\t Spain    & 38       & 61000.00 & No      \\\\\n",
       "\t Germany  & 40       & 63777.78 & Yes     \\\\\n",
       "\t France   & 35       & 58000.00 & Yes     \\\\\n",
       "\\end{tabular}\n"
      ],
      "text/markdown": [
       "\n",
       "Country | Age | Salary | Purchased | \n",
       "|---|---|---|---|---|---|\n",
       "| France   | 44       | 72000.00 | No       | \n",
       "| Spain    | 27       | 48000.00 | Yes      | \n",
       "| Germany  | 30       | 54000.00 | No       | \n",
       "| Spain    | 38       | 61000.00 | No       | \n",
       "| Germany  | 40       | 63777.78 | Yes      | \n",
       "| France   | 35       | 58000.00 | Yes      | \n",
       "\n",
       "\n"
      ],
      "text/plain": [
       "  Country Age Salary   Purchased\n",
       "1 France  44  72000.00 No       \n",
       "2 Spain   27  48000.00 Yes      \n",
       "3 Germany 30  54000.00 No       \n",
       "4 Spain   38  61000.00 No       \n",
       "5 Germany 40  63777.78 Yes      \n",
       "6 France  35  58000.00 Yes      "
      ]
     },
     "metadata": {},
     "output_type": "display_data"
    }
   ],
   "source": [
    "df$Age=ifelse(is.na(df$Age),\n",
    "              mean(df$Age,na.rm=TRUE),\n",
    "              df$Age)\n",
    "df$Salary=ifelse(is.na(df$Salary),\n",
    "                 mean(df$Salary,na.rm=TRUE),\n",
    "                 df$Salary)\n",
    "head(df)"
   ]
  },
  {
   "cell_type": "markdown",
   "metadata": {
    "deletable": true,
    "editable": true
   },
   "source": [
    "# Categorize categorical variables"
   ]
  },
  {
   "cell_type": "code",
   "execution_count": 5,
   "metadata": {
    "collapsed": false,
    "deletable": true,
    "editable": true,
    "scrolled": true
   },
   "outputs": [
    {
     "name": "stdout",
     "output_type": "stream",
     "text": [
      "'data.frame':\t10 obs. of  4 variables:\n",
      " $ Country  : Factor w/ 3 levels \"France\",\"Germany\",..: 1 3 2 3 2 1 3 1 2 1\n",
      " $ Age      : num  44 27 30 38 40 ...\n",
      " $ Salary   : num  72000 48000 54000 61000 63778 ...\n",
      " $ Purchased: Factor w/ 2 levels \"No\",\"Yes\": 1 2 1 1 2 2 1 2 1 2\n"
     ]
    }
   ],
   "source": [
    "df$Country=factor(df$Country)\n",
    "df$Purchased=factor(df$Purchased)\n",
    "str(df)"
   ]
  },
  {
   "cell_type": "markdown",
   "metadata": {
    "deletable": true,
    "editable": true
   },
   "source": [
    "# Scale features"
   ]
  },
  {
   "cell_type": "code",
   "execution_count": 6,
   "metadata": {
    "collapsed": false,
    "deletable": true,
    "editable": true,
    "scrolled": true
   },
   "outputs": [
    {
     "data": {
      "text/html": [
       "<table>\n",
       "<thead><tr><th scope=col>Country</th><th scope=col>Age</th><th scope=col>Salary</th><th scope=col>Purchased</th></tr></thead>\n",
       "<tbody>\n",
       "\t<tr><td>France    </td><td> 0.7199314</td><td> 0.7110128</td><td>No        </td></tr>\n",
       "\t<tr><td>Spain     </td><td>-1.6236751</td><td>-1.3643758</td><td>Yes       </td></tr>\n",
       "\t<tr><td>Germany   </td><td>-1.2100975</td><td>-0.8455287</td><td>No        </td></tr>\n",
       "\t<tr><td>Spain     </td><td>-0.1072238</td><td>-0.2402070</td><td>No        </td></tr>\n",
       "\t<tr><td>Germany   </td><td> 0.1684946</td><td> 0.0000000</td><td>Yes       </td></tr>\n",
       "\t<tr><td>France    </td><td>-0.5208015</td><td>-0.4996306</td><td>Yes       </td></tr>\n",
       "</tbody>\n",
       "</table>\n"
      ],
      "text/latex": [
       "\\begin{tabular}{r|llll}\n",
       " Country & Age & Salary & Purchased\\\\\n",
       "\\hline\n",
       "\t France     &  0.7199314 &  0.7110128 & No        \\\\\n",
       "\t Spain      & -1.6236751 & -1.3643758 & Yes       \\\\\n",
       "\t Germany    & -1.2100975 & -0.8455287 & No        \\\\\n",
       "\t Spain      & -0.1072238 & -0.2402070 & No        \\\\\n",
       "\t Germany    &  0.1684946 &  0.0000000 & Yes       \\\\\n",
       "\t France     & -0.5208015 & -0.4996306 & Yes       \\\\\n",
       "\\end{tabular}\n"
      ],
      "text/markdown": [
       "\n",
       "Country | Age | Salary | Purchased | \n",
       "|---|---|---|---|---|---|\n",
       "| France     |  0.7199314 |  0.7110128 | No         | \n",
       "| Spain      | -1.6236751 | -1.3643758 | Yes        | \n",
       "| Germany    | -1.2100975 | -0.8455287 | No         | \n",
       "| Spain      | -0.1072238 | -0.2402070 | No         | \n",
       "| Germany    |  0.1684946 |  0.0000000 | Yes        | \n",
       "| France     | -0.5208015 | -0.4996306 | Yes        | \n",
       "\n",
       "\n"
      ],
      "text/plain": [
       "  Country Age        Salary     Purchased\n",
       "1 France   0.7199314  0.7110128 No       \n",
       "2 Spain   -1.6236751 -1.3643758 Yes      \n",
       "3 Germany -1.2100975 -0.8455287 No       \n",
       "4 Spain   -0.1072238 -0.2402070 No       \n",
       "5 Germany  0.1684946  0.0000000 Yes      \n",
       "6 France  -0.5208015 -0.4996306 Yes      "
      ]
     },
     "metadata": {},
     "output_type": "display_data"
    }
   ],
   "source": [
    "df[,c('Age','Salary')]=scale(df[,c('Age','Salary')])\n",
    "head(df)"
   ]
  },
  {
   "cell_type": "markdown",
   "metadata": {
    "deletable": true,
    "editable": true
   },
   "source": [
    "# Train/test"
   ]
  },
  {
   "cell_type": "code",
   "execution_count": 7,
   "metadata": {
    "collapsed": false,
    "deletable": true,
    "editable": true
   },
   "outputs": [
    {
     "name": "stdout",
     "output_type": "stream",
     "text": [
      "[1] Training set: 8x4\n",
      "[1] Test set: 2x4\n"
     ]
    }
   ],
   "source": [
    "set.seed(123)\n",
    "split=sample.split(df$Purchased, SplitRatio=0.8)\n",
    "training_set=subset(df,split)\n",
    "test_set=subset(df,!split)\n",
    "print(noquote(paste('Training set:',paste(dim(training_set),collapse='x'))))\n",
    "print(noquote(paste('Test set:',paste(dim(test_set),collapse='x'))))"
   ]
  },
  {
   "cell_type": "code",
   "execution_count": null,
   "metadata": {
    "collapsed": true,
    "deletable": true,
    "editable": true
   },
   "outputs": [],
   "source": []
  }
 ],
 "metadata": {
  "kernelspec": {
   "display_name": "R",
   "language": "R",
   "name": "ir"
  },
  "language_info": {
   "codemirror_mode": "r",
   "file_extension": ".r",
   "mimetype": "text/x-r-source",
   "name": "R",
   "pygments_lexer": "r",
   "version": "3.3.2"
  }
 },
 "nbformat": 4,
 "nbformat_minor": 2
}
