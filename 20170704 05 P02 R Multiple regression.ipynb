{
 "cells": [
  {
   "cell_type": "markdown",
   "metadata": {
    "collapsed": true,
    "deletable": true,
    "editable": true
   },
   "source": [
    "# Libraries"
   ]
  },
  {
   "cell_type": "code",
   "execution_count": 1,
   "metadata": {
    "collapsed": true,
    "deletable": true,
    "editable": true
   },
   "outputs": [],
   "source": [
    "library(caTools)"
   ]
  },
  {
   "cell_type": "markdown",
   "metadata": {
    "deletable": true,
    "editable": true
   },
   "source": [
    "# Read data"
   ]
  },
  {
   "cell_type": "code",
   "execution_count": 2,
   "metadata": {
    "collapsed": false,
    "deletable": true,
    "editable": true,
    "scrolled": true
   },
   "outputs": [
    {
     "name": "stdout",
     "output_type": "stream",
     "text": [
      "'data.frame':\t50 obs. of  5 variables:\n",
      " $ R.D.Spend      : num  165349 162598 153442 144372 142107 ...\n",
      " $ Administration : num  136898 151378 101146 118672 91392 ...\n",
      " $ Marketing.Spend: num  471784 443899 407935 383200 366168 ...\n",
      " $ State          : Factor w/ 3 levels \"California\",\"Florida\",..: 3 1 2 3 2 3 1 2 3 1 ...\n",
      " $ Profit         : num  192262 191792 191050 182902 166188 ...\n"
     ]
    },
    {
     "data": {
      "text/html": [
       "<table>\n",
       "<thead><tr><th scope=col>R.D.Spend</th><th scope=col>Administration</th><th scope=col>Marketing.Spend</th><th scope=col>State</th><th scope=col>Profit</th></tr></thead>\n",
       "<tbody>\n",
       "\t<tr><td>165349.2  </td><td>136897.80 </td><td>471784.1  </td><td>New York  </td><td>192261.8  </td></tr>\n",
       "\t<tr><td>162597.7  </td><td>151377.59 </td><td>443898.5  </td><td>California</td><td>191792.1  </td></tr>\n",
       "\t<tr><td>153441.5  </td><td>101145.55 </td><td>407934.5  </td><td>Florida   </td><td>191050.4  </td></tr>\n",
       "\t<tr><td>144372.4  </td><td>118671.85 </td><td>383199.6  </td><td>New York  </td><td>182902.0  </td></tr>\n",
       "\t<tr><td>142107.3  </td><td> 91391.77 </td><td>366168.4  </td><td>Florida   </td><td>166187.9  </td></tr>\n",
       "\t<tr><td>131876.9  </td><td> 99814.71 </td><td>362861.4  </td><td>New York  </td><td>156991.1  </td></tr>\n",
       "</tbody>\n",
       "</table>\n"
      ],
      "text/latex": [
       "\\begin{tabular}{r|lllll}\n",
       " R.D.Spend & Administration & Marketing.Spend & State & Profit\\\\\n",
       "\\hline\n",
       "\t 165349.2   & 136897.80  & 471784.1   & New York   & 192261.8  \\\\\n",
       "\t 162597.7   & 151377.59  & 443898.5   & California & 191792.1  \\\\\n",
       "\t 153441.5   & 101145.55  & 407934.5   & Florida    & 191050.4  \\\\\n",
       "\t 144372.4   & 118671.85  & 383199.6   & New York   & 182902.0  \\\\\n",
       "\t 142107.3   &  91391.77  & 366168.4   & Florida    & 166187.9  \\\\\n",
       "\t 131876.9   &  99814.71  & 362861.4   & New York   & 156991.1  \\\\\n",
       "\\end{tabular}\n"
      ],
      "text/markdown": [
       "\n",
       "R.D.Spend | Administration | Marketing.Spend | State | Profit | \n",
       "|---|---|---|---|---|---|\n",
       "| 165349.2   | 136897.80  | 471784.1   | New York   | 192261.8   | \n",
       "| 162597.7   | 151377.59  | 443898.5   | California | 191792.1   | \n",
       "| 153441.5   | 101145.55  | 407934.5   | Florida    | 191050.4   | \n",
       "| 144372.4   | 118671.85  | 383199.6   | New York   | 182902.0   | \n",
       "| 142107.3   |  91391.77  | 366168.4   | Florida    | 166187.9   | \n",
       "| 131876.9   |  99814.71  | 362861.4   | New York   | 156991.1   | \n",
       "\n",
       "\n"
      ],
      "text/plain": [
       "  R.D.Spend Administration Marketing.Spend State      Profit  \n",
       "1 165349.2  136897.80      471784.1        New York   192261.8\n",
       "2 162597.7  151377.59      443898.5        California 191792.1\n",
       "3 153441.5  101145.55      407934.5        Florida    191050.4\n",
       "4 144372.4  118671.85      383199.6        New York   182902.0\n",
       "5 142107.3   91391.77      366168.4        Florida    166187.9\n",
       "6 131876.9   99814.71      362861.4        New York   156991.1"
      ]
     },
     "metadata": {},
     "output_type": "display_data"
    }
   ],
   "source": [
    "root_dir=\"~/Documents/Education/20170623 Udemy - Machine Learning A-Z: Hands-On Python and R in Data Science/\"\n",
    "work_dir=\"Course data/Part 2 - Regression/Section 5 - Multiple Linear Regression\"\n",
    "setwd(paste(root_dir,work_dir,sep=''))\n",
    "df=read.csv('50_Startups.csv')\n",
    "str(df)\n",
    "head(df)"
   ]
  },
  {
   "cell_type": "markdown",
   "metadata": {
    "deletable": true,
    "editable": true
   },
   "source": [
    "# Categorize categorical variables"
   ]
  },
  {
   "cell_type": "code",
   "execution_count": 3,
   "metadata": {
    "collapsed": false,
    "deletable": true,
    "editable": true
   },
   "outputs": [
    {
     "name": "stdout",
     "output_type": "stream",
     "text": [
      "'data.frame':\t50 obs. of  5 variables:\n",
      " $ R.D.Spend      : num  165349 162598 153442 144372 142107 ...\n",
      " $ Administration : num  136898 151378 101146 118672 91392 ...\n",
      " $ Marketing.Spend: num  471784 443899 407935 383200 366168 ...\n",
      " $ State          : Factor w/ 3 levels \"California\",\"Florida\",..: 3 1 2 3 2 3 1 2 3 1 ...\n",
      " $ Profit         : num  192262 191792 191050 182902 166188 ...\n"
     ]
    }
   ],
   "source": [
    "df$State=factor(df$State)\n",
    "str(df)"
   ]
  },
  {
   "cell_type": "markdown",
   "metadata": {
    "deletable": true,
    "editable": true
   },
   "source": [
    "# Train/test"
   ]
  },
  {
   "cell_type": "code",
   "execution_count": 4,
   "metadata": {
    "collapsed": false,
    "deletable": true,
    "editable": true
   },
   "outputs": [
    {
     "name": "stdout",
     "output_type": "stream",
     "text": [
      "[1] Training set: 40x5\n",
      "[1] Test set: 10x5\n"
     ]
    }
   ],
   "source": [
    "set.seed(123)\n",
    "split=sample.split(df$Profit, SplitRatio=0.8)\n",
    "training_set=subset(df,split)\n",
    "test_set=subset(df,!split)\n",
    "print(noquote(paste('Training set:',paste(dim(training_set),collapse='x'))))\n",
    "print(noquote(paste('Test set:',paste(dim(test_set),collapse='x'))))"
   ]
  },
  {
   "cell_type": "markdown",
   "metadata": {
    "deletable": true,
    "editable": true
   },
   "source": [
    "# Fit linear"
   ]
  },
  {
   "cell_type": "code",
   "execution_count": 5,
   "metadata": {
    "collapsed": false,
    "deletable": true,
    "editable": true
   },
   "outputs": [
    {
     "data": {
      "text/plain": [
       "\n",
       "Call:\n",
       "lm(formula = Profit ~ ., data = training_set)\n",
       "\n",
       "Residuals:\n",
       "   Min     1Q Median     3Q    Max \n",
       "-33128  -4865      5   6098  18065 \n",
       "\n",
       "Coefficients:\n",
       "                  Estimate Std. Error t value Pr(>|t|)    \n",
       "(Intercept)      4.977e+04  7.516e+03   6.622 1.36e-07 ***\n",
       "R.D.Spend        7.986e-01  5.604e-02  14.251 6.70e-16 ***\n",
       "Administration  -2.942e-02  5.828e-02  -0.505    0.617    \n",
       "Marketing.Spend  3.268e-02  2.127e-02   1.537    0.134    \n",
       "StateFlorida     1.162e+02  4.048e+03   0.029    0.977    \n",
       "StateNew York   -1.213e+02  3.751e+03  -0.032    0.974    \n",
       "---\n",
       "Signif. codes:  0 ‘***’ 0.001 ‘**’ 0.01 ‘*’ 0.05 ‘.’ 0.1 ‘ ’ 1\n",
       "\n",
       "Residual standard error: 9908 on 34 degrees of freedom\n",
       "Multiple R-squared:  0.9499,\tAdjusted R-squared:  0.9425 \n",
       "F-statistic:   129 on 5 and 34 DF,  p-value: < 2.2e-16\n"
      ]
     },
     "metadata": {},
     "output_type": "display_data"
    }
   ],
   "source": [
    "mult_reg=lm(formula=Profit~.,training_set)\n",
    "summary(mult_reg)"
   ]
  },
  {
   "cell_type": "markdown",
   "metadata": {
    "deletable": true,
    "editable": true
   },
   "source": [
    "# Backward elimination"
   ]
  },
  {
   "cell_type": "code",
   "execution_count": 6,
   "metadata": {
    "collapsed": false,
    "deletable": true,
    "editable": true
   },
   "outputs": [
    {
     "name": "stdout",
     "output_type": "stream",
     "text": [
      "[1] Removing factor State with p 0.977\n",
      "[1] Removing feature Administration with p 0.609\n",
      "[1] Removing feature Marketing.Spend with p 0.0713\n"
     ]
    },
    {
     "data": {
      "text/plain": [
       "\n",
       "Call:\n",
       "lm(formula = formula_str, data = training_set)\n",
       "\n",
       "Residuals:\n",
       "   Min     1Q Median     3Q    Max \n",
       "-34334  -4894   -340   6752  17147 \n",
       "\n",
       "Coefficients:\n",
       "             Estimate Std. Error t value Pr(>|t|)    \n",
       "(Intercept) 4.902e+04  2.748e+03   17.84   <2e-16 ***\n",
       "R.D.Spend   8.563e-01  3.357e-02   25.51   <2e-16 ***\n",
       "---\n",
       "Signif. codes:  0 ‘***’ 0.001 ‘**’ 0.01 ‘*’ 0.05 ‘.’ 0.1 ‘ ’ 1\n",
       "\n",
       "Residual standard error: 9836 on 38 degrees of freedom\n",
       "Multiple R-squared:  0.9448,\tAdjusted R-squared:  0.9434 \n",
       "F-statistic: 650.8 on 1 and 38 DF,  p-value: < 2.2e-16\n"
      ]
     },
     "metadata": {},
     "output_type": "display_data"
    }
   ],
   "source": [
    "p_limit=0.05\n",
    "target='Profit'\n",
    "factors=names(Filter(is.factor,df))\n",
    "feat_lst=colnames(df)[colnames(df)!=target]\n",
    "done=FALSE\n",
    "while(!done){\n",
    "    formula_str=paste(paste(target,'~'),paste(feat_lst,collapse=' + '))\n",
    "    be_mult_reg=lm(formula=formula_str,training_set)\n",
    "    p_vals=summary(be_mult_reg)[4]$coefficients[,4]\n",
    "    p_max=max(p_vals)\n",
    "    if(p_max>p_limit){\n",
    "        p_max_feat=names(which.max(p_vals))\n",
    "        if(p_max_feat %in% feat_lst){\n",
    "            print(noquote(paste('Removing feature',p_max_feat,'with p',format(p_max,digits=3))))\n",
    "            if(p_max_feat=='(Intercept)'){\n",
    "                feat_lst=append(c(0),feat_lst)\n",
    "            } else {    \n",
    "                feat_lst=feat_lst[feat_lst != p_max_feat]\n",
    "            }\n",
    "        } else {\n",
    "            factor_to_remove=''\n",
    "            factor_pos=0\n",
    "            while(factor_to_remove==''){\n",
    "                factor_pos=factor_pos+1\n",
    "                factor_test=factors[factor_pos]\n",
    "                if(substr(p_max_feat,1,nchar(factor_test))==factor_test){\n",
    "                    factor_to_remove=factor_test\n",
    "                }\n",
    "            }\n",
    "            print(noquote(paste('Removing factor',factor_to_remove,'with p',format(p_max,digits=3))))\n",
    "            feat_lst=feat_lst[feat_lst != factor_to_remove]\n",
    "        }\n",
    "    } else {\n",
    "        done=TRUE\n",
    "    }\n",
    "}\n",
    "summary(be_mult_reg)"
   ]
  },
  {
   "cell_type": "markdown",
   "metadata": {
    "deletable": true,
    "editable": true
   },
   "source": [
    "# Forward selection"
   ]
  },
  {
   "cell_type": "code",
   "execution_count": 22,
   "metadata": {
    "collapsed": false,
    "deletable": true,
    "editable": true
   },
   "outputs": [
    {
     "name": "stdout",
     "output_type": "stream",
     "text": [
      "[1] Adding feature R.D.Spend with p 1.63e-25\n"
     ]
    },
    {
     "data": {
      "text/plain": [
       "\n",
       "Call:\n",
       "lm(formula = formula_str, data = data)\n",
       "\n",
       "Residuals:\n",
       "   Min     1Q Median     3Q    Max \n",
       "-34334  -4894   -340   6752  17147 \n",
       "\n",
       "Coefficients:\n",
       "             Estimate Std. Error t value Pr(>|t|)    \n",
       "(Intercept) 4.902e+04  2.748e+03   17.84   <2e-16 ***\n",
       "R.D.Spend   8.563e-01  3.357e-02   25.51   <2e-16 ***\n",
       "---\n",
       "Signif. codes:  0 ‘***’ 0.001 ‘**’ 0.01 ‘*’ 0.05 ‘.’ 0.1 ‘ ’ 1\n",
       "\n",
       "Residual standard error: 9836 on 38 degrees of freedom\n",
       "Multiple R-squared:  0.9448,\tAdjusted R-squared:  0.9434 \n",
       "F-statistic: 650.8 on 1 and 38 DF,  p-value: < 2.2e-16\n"
      ]
     },
     "metadata": {},
     "output_type": "display_data"
    }
   ],
   "source": [
    "p_limit=0.05\n",
    "target='Profit'\n",
    "factors=names(Filter(is.factor,df))\n",
    "feat_lst=c()\n",
    "feat_candidates=colnames(df)[colnames(df)!=target]\n",
    "done=FALSE\n",
    "get_reg=function(f,target,f_base,data){\n",
    "    formula_str=paste(paste(target,'~'),paste(append(f_base,f),collapse=' + '))\n",
    "    return(lm(formula=formula_str,data))\n",
    "}\n",
    "get_marginal_p=function(reg,f_base){\n",
    "    num_new_features=length(reg$coefficients)-length(f_base)-1\n",
    "    return(max(tail(summary(reg)[4]$coefficients[,4],num_new_features)))\n",
    "}\n",
    "while(!done){\n",
    "    aux_reg_lst=lapply(feat_candidates,function(f) get_reg(f,target,feat_lst,training_set))\n",
    "    p_vals=unlist(lapply(aux_reg_lst,function(r) get_marginal_p(r,feat_lst)))\n",
    "    p_min=min(p_vals)\n",
    "    if(p_min<p_limit){\n",
    "        p_min_pos=which.min(p_vals)\n",
    "        print(noquote(paste('Adding feature',feat_candidates[p_min_pos],'with p',format(p_min,digits=3))))\n",
    "        feat_lst=append(feat_lst,feat_candidates[p_min_pos])\n",
    "        feat_candidates=feat_candidates[-p_min_pos]\n",
    "        fs_mult_reg=aux_reg_lst[p_min_pos][[1]]\n",
    "    } else {\n",
    "        done=TRUE\n",
    "    }\n",
    "}\n",
    "summary(fs_mult_reg)"
   ]
  },
  {
   "cell_type": "code",
   "execution_count": null,
   "metadata": {
    "collapsed": true,
    "deletable": true,
    "editable": true
   },
   "outputs": [],
   "source": []
  }
 ],
 "metadata": {
  "kernelspec": {
   "display_name": "R",
   "language": "R",
   "name": "ir"
  },
  "language_info": {
   "codemirror_mode": "r",
   "file_extension": ".r",
   "mimetype": "text/x-r-source",
   "name": "R",
   "pygments_lexer": "r",
   "version": "3.3.2"
  }
 },
 "nbformat": 4,
 "nbformat_minor": 2
}
