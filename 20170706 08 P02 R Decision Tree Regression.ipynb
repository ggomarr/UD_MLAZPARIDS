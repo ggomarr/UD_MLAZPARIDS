{
 "cells": [
  {
   "cell_type": "markdown",
   "metadata": {
    "deletable": true,
    "editable": true
   },
   "source": [
    "# Libraries"
   ]
  },
  {
   "cell_type": "code",
   "execution_count": 3,
   "metadata": {
    "collapsed": false
   },
   "outputs": [
    {
     "name": "stderr",
     "output_type": "stream",
     "text": [
      "Installing package into ‘/home/ggomarr/R/x86_64-pc-linux-gnu-library/3.3’\n",
      "(as ‘lib’ is unspecified)\n"
     ]
    }
   ],
   "source": [
    "# install.packages('rpart')"
   ]
  },
  {
   "cell_type": "code",
   "execution_count": 4,
   "metadata": {
    "collapsed": true,
    "deletable": true,
    "editable": true
   },
   "outputs": [],
   "source": [
    "library(ggplot2)\n",
    "library(repr)\n",
    "options(repr.plot.width=4, repr.plot.height=4)\n",
    "library(rpart)"
   ]
  },
  {
   "cell_type": "markdown",
   "metadata": {
    "deletable": true,
    "editable": true
   },
   "source": [
    "# Read data"
   ]
  },
  {
   "cell_type": "code",
   "execution_count": 2,
   "metadata": {
    "collapsed": false,
    "deletable": true,
    "editable": true
   },
   "outputs": [
    {
     "name": "stdout",
     "output_type": "stream",
     "text": [
      "'data.frame':\t10 obs. of  2 variables:\n",
      " $ Level : int  1 2 3 4 5 6 7 8 9 10\n",
      " $ Salary: int  45000 50000 60000 80000 110000 150000 200000 300000 500000 1000000\n"
     ]
    }
   ],
   "source": [
    "root_dir=\"~/Documents/Education/20170623 Udemy - Machine Learning A-Z: Hands-On Python and R in Data Science/\"\n",
    "work_dir=\"Course data/Part 2 - Regression/Section 8 - Decision Tree Regression\"\n",
    "setwd(paste(root_dir,work_dir,sep=''))\n",
    "df=read.csv('Position_Salaries.csv')[c('Level','Salary')]\n",
    "str(df)"
   ]
  },
  {
   "cell_type": "markdown",
   "metadata": {
    "deletable": true,
    "editable": true
   },
   "source": [
    "# Decision tree model"
   ]
  },
  {
   "cell_type": "code",
   "execution_count": 9,
   "metadata": {
    "collapsed": false,
    "deletable": true,
    "editable": true
   },
   "outputs": [
    {
     "name": "stdout",
     "output_type": "stream",
     "text": [
      "Call:\n",
      "rpart(formula = Salary ~ Level, data = df, control = rpart.control(minsplit = 1))\n",
      "  n= 10 \n",
      "\n",
      "          CP nsplit  rel error   xerror      xstd\n",
      "1 0.77638626      0 1.00000000 1.234568 0.7835133\n",
      "2 0.15496716      1 0.22361374 1.153813 0.7914228\n",
      "3 0.05217357      2 0.06864658 1.118716 0.7958581\n",
      "4 0.01000000      3 0.01647301 1.118716 0.7958581\n",
      "\n",
      "Variable importance\n",
      "Level \n",
      "  100 \n",
      "\n",
      "Node number 1: 10 observations,    complexity param=0.7763863\n",
      "  mean=249500, MSE=8.066225e+10 \n",
      "  left son=2 (8 obs) right son=3 (2 obs)\n",
      "  Primary splits:\n",
      "      Level < 8.5 to the left,  improve=0.7763863, (0 missing)\n",
      "\n",
      "Node number 2: 8 observations,    complexity param=0.05217357\n",
      "  mean=124375, MSE=6.921484e+09 \n",
      "  left son=4 (6 obs) right son=5 (2 obs)\n",
      "  Primary splits:\n",
      "      Level < 6.5 to the left,  improve=0.7600316, (0 missing)\n",
      "\n",
      "Node number 3: 2 observations,    complexity param=0.1549672\n",
      "  mean=750000, MSE=6.25e+10 \n",
      "  left son=6 (1 obs) right son=7 (1 obs)\n",
      "  Primary splits:\n",
      "      Level < 9.5 to the left,  improve=1, (0 missing)\n",
      "\n",
      "Node number 4: 6 observations\n",
      "  mean=82500, MSE=1.38125e+09 \n",
      "\n",
      "Node number 5: 2 observations\n",
      "  mean=250000, MSE=2.5e+09 \n",
      "\n",
      "Node number 6: 1 observations\n",
      "  mean=500000, MSE=0 \n",
      "\n",
      "Node number 7: 1 observations\n",
      "  mean=1000000, MSE=0 \n",
      "\n"
     ]
    }
   ],
   "source": [
    "dt_reg=rpart(formula=Salary~Level,data=df,\n",
    "             control=rpart.control(minsplit=1))\n",
    "summary(dt_reg)"
   ]
  },
  {
   "cell_type": "code",
   "execution_count": 14,
   "metadata": {
    "collapsed": false
   },
   "outputs": [],
   "source": [
    "range_plot_X=function(x,num,ext){\n",
    "    delta=max(x)-min(x)\n",
    "    return(seq(min(x)-ext*delta,max(x)+ext*delta,length.out=num))\n",
    "}"
   ]
  },
  {
   "cell_type": "code",
   "execution_count": 17,
   "metadata": {
    "collapsed": false,
    "deletable": true,
    "editable": true
   },
   "outputs": [
    {
     "data": {},
     "metadata": {},
     "output_type": "display_data"
    },
    {
     "data": {
      "image/png": "[encoded data removed]",
      "text/plain": [
       "plot without title"
      ]
     },
     "metadata": {},
     "output_type": "display_data"
    }
   ],
   "source": [
    "x_plot=range_plot_X(df$Level,100,0.1)\n",
    "ggplot() +\n",
    "    geom_point(aes(x=df$Level,y=df$Salary),\n",
    "               colour='blue') +\n",
    "    geom_line(aes(x=x_plot,y=predict(dt_reg,data.frame(Level=x_plot))),\n",
    "              colour='black') +\n",
    "    ggtitle('Salary (USD) vs. Level',subtitle='Training data') +\n",
    "    xlab('Level') + \n",
    "    ylab('Salary (USD)')"
   ]
  },
  {
   "cell_type": "code",
   "execution_count": 18,
   "metadata": {
    "collapsed": false,
    "deletable": true,
    "editable": true
   },
   "outputs": [
    {
     "data": {
      "text/html": [
       "<strong>1:</strong> 250000"
      ],
      "text/latex": [
       "\\textbf{1:} 250000"
      ],
      "text/markdown": [
       "**1:** 250000"
      ],
      "text/plain": [
       "     1 \n",
       "250000 "
      ]
     },
     "metadata": {},
     "output_type": "display_data"
    }
   ],
   "source": [
    "predict(dt_reg,data.frame(Level=6.5))"
   ]
  },
  {
   "cell_type": "code",
   "execution_count": null,
   "metadata": {
    "collapsed": true,
    "deletable": true,
    "editable": true
   },
   "outputs": [],
   "source": []
  }
 ],
 "metadata": {
  "kernelspec": {
   "display_name": "R",
   "language": "R",
   "name": "ir"
  },
  "language_info": {
   "codemirror_mode": "r",
   "file_extension": ".r",
   "mimetype": "text/x-r-source",
   "name": "R",
   "pygments_lexer": "r",
   "version": "3.3.2"
  }
 },
 "nbformat": 4,
 "nbformat_minor": 2
}
